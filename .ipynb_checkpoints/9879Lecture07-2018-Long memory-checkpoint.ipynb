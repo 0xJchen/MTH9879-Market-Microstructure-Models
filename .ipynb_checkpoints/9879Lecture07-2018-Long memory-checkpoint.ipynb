{
 "cells": [
  {
   "cell_type": "markdown",
   "metadata": {
    "slideshow": {
     "slide_type": "slide"
    }
   },
   "source": [
    "## MTH 9879 Market Microstructure Models, Spring 2018\n",
    "\n",
    "<p>\n",
    "\n",
    "### Lecture 7: Long memory of order flow and market impact\n",
    "\n",
    "<p>\n",
    "\n",
    "<p>\n",
    "Jim Gatheral   \n",
    "Department of Mathematics   \n",
    "  \n",
    "  \n",
    "<h3><img src=\"http://mfe.baruch.cuny.edu/wp-content/uploads/2016/04/MFE-Logo.jpg\" align = \"right\" width=500></h3>\n",
    "\n",
    "\n",
    "$$\n",
    "\\newcommand{\\bea}{\\begin{eqnarray}}\n",
    "\\newcommand{\\eea}{\\end{eqnarray}}\n",
    "\\newcommand{\\supp}{\\mathrm{supp}}\n",
    "\\newcommand{\\F}{\\mathcal{F} }\n",
    "\\newcommand{\\cF}{\\mathcal{F} }\n",
    "\\newcommand{\\E}{\\mathbb{E} }\n",
    "\\newcommand{\\Eof}[1]{\\mathbb{E}\\left[ #1 \\right]}\n",
    "\\def\\Cov{{ \\mbox{Cov} }}\n",
    "\\def\\Var{{ \\mbox{Var} }}\n",
    "\\newcommand{\\1}{\\mathbf{1} }\n",
    "\\newcommand{\\p}{\\partial}\n",
    "\\newcommand{\\PP}{\\mathbb{P} }\n",
    "\\newcommand{\\Pof}[1]{\\mathbb{P}\\left[ #1 \\right]}\n",
    "\\newcommand{\\QQ}{\\mathbb{Q} }\n",
    "\\newcommand{\\R}{\\mathbb{R} }\n",
    "\\newcommand{\\DD}{\\mathbb{D} }\n",
    "\\newcommand{\\HH}{\\mathbb{H} }\n",
    "\\newcommand{\\spn}{\\mathrm{span} }\n",
    "\\newcommand{\\cov}{\\mathrm{cov} }\n",
    "\\newcommand{\\HS}{\\mathcal{L}_{\\mathrm{HS}} }\n",
    "\\newcommand{\\Hess}{\\mathrm{Hess} }\n",
    "\\newcommand{\\trace}{\\mathrm{trace} }\n",
    "\\newcommand{\\cL}{\\mathcal{L} }\n",
    "\\newcommand{\\cG}{\\mathcal{G} }\n",
    "\\newcommand{\\Xv}{X^{(v)}}\n",
    "\\newcommand{\\s}{\\mathcal{S} }\n",
    "\\newcommand{\\cE}{\\mathcal{E} }\n",
    "\\newcommand{\\ff}{\\mathcal{F} }\n",
    "\\newcommand{\\hh}{\\mathcal{H} }\n",
    "\\newcommand{\\bb}{\\mathcal{B} }\n",
    "\\newcommand{\\dd}{\\mathcal{D} }\n",
    "\\newcommand{\\g}{\\mathcal{G} }\n",
    "\\newcommand{\\half}{\\frac{1}{2} }\n",
    "\\newcommand{\\T}{\\mathcal{T} }\n",
    "\\newcommand{\\bit}{\\begin{itemize}}\n",
    "\\newcommand{\\eit}{\\end{itemize}}\n",
    "\\newcommand{\\beq}{\\begin{equation}}\n",
    "\\newcommand{\\eeq}{\\end{equation}}\n",
    "\\newcommand{\\beas}{\\begin{eqnarray*}}\n",
    "\\newcommand{\\eeas}{\\end{eqnarray*}}\n",
    "\\newcommand{\\tr}{\\mbox{tr}}\n",
    "\\newcommand{\\ee}[1]{{\\mathbb{E}\\left[{#1}\\right]}}\n",
    "\\newcommand{\\eef}[1]{{\\mathbb{E}\\left[\\left.{#1}\\right|\\cF_t\\right]}}\n",
    "\\newcommand{\\eefm}[2]{{\\mathbb{E}^{#2}\\left[\\left.{#1}\\right|\\cF_t\\right]}}\n",
    "\\newcommand{\\angl}[1]{{\\langle{#1}\\rangle}}\n",
    "$$"
   ]
  },
  {
   "cell_type": "markdown",
   "metadata": {
    "slideshow": {
     "slide_type": "slide"
    }
   },
   "source": [
    "### Outline of Lecture 7\n",
    "\n",
    "-   Long memory of order flow\n",
    "\n",
    "-   Definitions of market impact\n",
    "\n",
    "-   Why market impact is a concave function of volume.\n",
    "\n",
    "-   Two models of market impact:\n",
    "\n",
    "    -   Permanent, state-dependent impact\n",
    "\n",
    "    -   Transient impact\n",
    "\n",
    "-   Equivalence of these two models\n",
    "\n",
    "-   Including limit orders and cancelations\n",
    "\n"
   ]
  },
  {
   "cell_type": "markdown",
   "metadata": {
    "slideshow": {
     "slide_type": "slide"
    }
   },
   "source": [
    "### Long memory of order flow\n",
    "\n",
    "-   Prices evolve as a function of order flow and the arrival of new\n",
    "    orders in response to that order flow.\n",
    "\n",
    "-   Price dynamics (especially dynamics of the mid-quote) are\n",
    "    well-described by Brownian motion.\n",
    "\n",
    "-   As we have seen already, order flow is a highly autocorrelated\n",
    "    long-memory process.\n",
    "    "
   ]
  },
  {
   "cell_type": "markdown",
   "metadata": {
    "slideshow": {
     "slide_type": "subslide"
    }
   },
   "source": [
    "-   We know that the price process is reasonably efficient\n",
    "\n",
    "    -   That is price changes are almost uncorrelated which implies that\n",
    "        variance grows approximately linearly in trading time.\n",
    "\n",
    "-   It follows that the market response to order flow must strongly\n",
    "    depend on the past history of order flow."
   ]
  },
  {
   "cell_type": "markdown",
   "metadata": {
    "slideshow": {
     "slide_type": "slide"
    }
   },
   "source": [
    "### Long memory of order flow\n",
    "\n",
    "<h2><img src=\"http://mfe.baruch.cuny.edu/wp-content/uploads/2015/03/Figure1.png\" align = \"center\" width=1200></h2>\n"
   ]
  },
  {
   "cell_type": "markdown",
   "metadata": {
    "slideshow": {
     "slide_type": "slide"
    }
   },
   "source": [
    "### Autocorrelation of BAC trade signs"
   ]
  },
  {
   "cell_type": "code",
   "execution_count": 1,
   "metadata": {
    "collapsed": true,
    "slideshow": {
     "slide_type": "fragment"
    }
   },
   "outputs": [],
   "source": [
    "download.file(url=\"https://mfe.baruch.cuny.edu/wp-content/uploads/2018/02/tqDataBAC_20170919.zip\", destfile=\"tq.zip\")\n",
    "unzip(zipfile=\"tq.zip\")\n",
    "\n",
    "load(\"tqDataBAC_20170919.rData\")\n",
    "Sys.setenv(TZ='EST')"
   ]
  },
  {
   "cell_type": "code",
   "execution_count": 2,
   "metadata": {
    "collapsed": false,
    "slideshow": {
     "slide_type": "fragment"
    }
   },
   "outputs": [
    {
     "name": "stderr",
     "output_type": "stream",
     "text": [
      "Loading required package: xts\n",
      "Loading required package: zoo\n",
      "\n",
      "Attaching package: ‘zoo’\n",
      "\n",
      "The following objects are masked from ‘package:base’:\n",
      "\n",
      "    as.Date, as.Date.numeric\n",
      "\n"
     ]
    }
   ],
   "source": [
    "library(highfrequency)"
   ]
  },
  {
   "cell_type": "code",
   "execution_count": 3,
   "metadata": {
    "collapsed": true,
    "slideshow": {
     "slide_type": "subslide"
    }
   },
   "outputs": [],
   "source": [
    "tmp <- sapply(getTradeDirection(tqdata),toString)\n",
    "ts <- cbind(tqdata,tmp)\n",
    "colnames(ts) <- c(colnames(tqdata),\"SIGN\")"
   ]
  },
  {
   "cell_type": "code",
   "execution_count": 4,
   "metadata": {
    "collapsed": false,
    "slideshow": {
     "slide_type": "fragment"
    }
   },
   "outputs": [
    {
     "data": {
      "text/plain": [
       "                    SYMBOL EX  PRICE   SIZE    COND BID     BIDSIZ OFR    \n",
       "2017-09-19 09:30:00 \"BAC\"  \"P\" \"24.7\"  \"20000\" \" \"  \"24.72\" \"6\"    \"24.74\"\n",
       "2017-09-19 09:30:01 \"BAC\"  \"P\" \"24.7\"  \"100\"   \" \"  \"24.72\" \"6\"    \"24.74\"\n",
       "2017-09-19 09:30:03 \"BAC\"  \"P\" \"24.71\" \"67\"    \" \"  \"24.71\" \"7\"    \"24.72\"\n",
       "2017-09-19 09:30:03 \"BAC\"  \"P\" \"24.71\" \"4400\"  \" \"  \"24.7\"  \"1607\" \"24.71\"\n",
       "2017-09-19 09:30:03 \"BAC\"  \"P\" \"24.71\" \"100\"   \" \"  \"24.7\"  \"13\"   \"24.72\"\n",
       "                    OFRSIZ SIGN\n",
       "2017-09-19 09:30:00 \"100\"  \"-1\"\n",
       "2017-09-19 09:30:01 \"100\"  \"-1\"\n",
       "2017-09-19 09:30:03 \"3\"    \"-1\"\n",
       "2017-09-19 09:30:03 \"76\"   \"1\" \n",
       "2017-09-19 09:30:03 \"9\"    \"1\" "
      ]
     },
     "metadata": {},
     "output_type": "display_data"
    }
   ],
   "source": [
    "ts[ts$EX==\"P\"][1:5,]"
   ]
  },
  {
   "cell_type": "code",
   "execution_count": 5,
   "metadata": {
    "collapsed": true,
    "slideshow": {
     "slide_type": "fragment"
    }
   },
   "outputs": [],
   "source": [
    "library(repr)\n",
    "options(repr.plot.height=7,repr.plot.width=10)"
   ]
  },
  {
   "cell_type": "code",
   "execution_count": 6,
   "metadata": {
    "collapsed": true
   },
   "outputs": [],
   "source": [
    "# Compute tradesigns\n",
    "ts.Y <- as.numeric(ts$SIGN[ts$EX==\"Y\"])\n",
    "ts.N <- as.numeric(ts$SIGN[ts$EX==\"N\"])\n",
    "ts.both <- as.numeric(ts$SIGN[(ts$EX==\"Y\")|(ts$EX==\"N\")])\n",
    "\n",
    "# Compute autocorrelation function of trade signs\n",
    "ac.Y <- acf(ts.Y,plot=F)\n",
    "ac.N <- acf(ts.N,plot=F)\n",
    "ac.both <- acf(ts.both,plot=F)\n",
    "\n",
    "# AC computations\n",
    "lag.Y <- ac.Y$lag[-1]\n",
    "acf.Y <- ac.Y$acf[-1]\n",
    "\n",
    "lag.N <- ac.N$lag[-1]\n",
    "acf.N <- ac.N$acf[-1]\n",
    "\n",
    "lag.both <- ac.both$lag[-1]\n",
    "acf.both <- ac.both$acf[-1]"
   ]
  },
  {
   "cell_type": "markdown",
   "metadata": {
    "slideshow": {
     "slide_type": "slide"
    }
   },
   "source": [
    "### ACF plot"
   ]
  },
  {
   "cell_type": "code",
   "execution_count": 7,
   "metadata": {
    "collapsed": false,
    "slideshow": {
     "slide_type": "fragment"
    }
   },
   "outputs": [
    {
     "data": {
      "image/png": "[encoded data removed]",
      "text/plain": [
       "plot without title"
      ]
     },
     "metadata": {},
     "output_type": "display_data"
    }
   ],
   "source": [
    "plot(lag.both,acf.both,type=\"l\",xlab=expression(paste(\"Lag \",tau)),ylab=expression(paste(\"ACF \", rho(tau))),\n",
    "     col=\"dark green\")\n",
    "lines(lag.Y,acf.Y,type=\"l\",xlab=\"log(lag)\",ylab=\"log(ACF)\",col=\"red\")\n",
    "lines(lag.N,acf.N,type=\"l\",xlab=\"log(lag)\",ylab=\"log(ACF)\",col=\"blue\")\n",
    "legend(\"topright\", c(\"BYX     \",\"NYSE\",\"Both\"),col=c(\"red\",\"blue\",\"dark green\"),lty=1, inset=0.02)"
   ]
  },
  {
   "cell_type": "markdown",
   "metadata": {
    "slideshow": {
     "slide_type": "slide"
    }
   },
   "source": [
    "### BAC autocorrelation log-log plot"
   ]
  },
  {
   "cell_type": "code",
   "execution_count": 8,
   "metadata": {
    "collapsed": true
   },
   "outputs": [],
   "source": [
    "fit.both <- lm(log(acf.both)[1:10]~log(lag.both)[1:10])\n",
    "slope.both <- fit.both$coef[2]\n",
    "fit.Y<- lm(log(acf.Y)[1:10]~log(lag.Y)[1:10])\n",
    "slope.Y <- fit.Y$coef[2]\n",
    "fit.N <- lm(log(acf.N)[1:10]~log(lag.N)[1:10])\n",
    "slope.N <- fit.N$coef[2]"
   ]
  },
  {
   "cell_type": "code",
   "execution_count": 9,
   "metadata": {
    "collapsed": false,
    "slideshow": {
     "slide_type": "subslide"
    }
   },
   "outputs": [
    {
     "data": {
      "image/png": "[encoded data removed]",
      "text/plain": [
       "plot without title"
      ]
     },
     "metadata": {},
     "output_type": "display_data"
    }
   ],
   "source": [
    "plot(log(lag.both),log(acf.both),xlab=\"log(lag)\",ylab=\"log(ACF)\", col=\"dark green\", pch=20,ylim=c(-3,0))\n",
    "abline(fit.both,col=\"dark green\")\n",
    "points(log(lag.Y),log(acf.Y),xlab=\"log(lag)\",ylab=\"log(ACF)\", col=\"red\",pch=20)\n",
    "abline(fit.Y,col=\"red\")\n",
    "points(log(lag.N),log(acf.N),xlab=\"log(lag)\",ylab=\"log(ACF)\", col=\"blue\",pch=20)\n",
    "abline(fit.N,col=\"blue\")\n",
    "\n",
    "leg1 <- paste(\"BYX: Slope\",format(slope.Y, digits = 4),\"              \")\n",
    "leg2 <- paste(\"NYSE: Slope\",format(slope.N, digits = 4))\n",
    "leg3 <- paste(\"Both: Slope\",format(slope.both, digits = 4))\n",
    "\n",
    "legend(\"topright\", c(leg1,leg2,leg3),col=c(\"red\",\"blue\",\"dark green\"),lty=1, inset=0.02)"
   ]
  },
  {
   "cell_type": "markdown",
   "metadata": {
    "slideshow": {
     "slide_type": "fragment"
    }
   },
   "source": [
    "Data from 19-Sep-2017 is from the SIAC feed courtesy of Richard Holowczak."
   ]
  },
  {
   "cell_type": "markdown",
   "metadata": {
    "slideshow": {
     "slide_type": "slide"
    }
   },
   "source": [
    "### Long memory processes\n",
    "\n",
    "-   Stochastic processes for which the autocorrelation function decays\n",
    "    asymptotically as a power-law with an exponent smaller than one are\n",
    "    called <span>*long-memory*</span> processes.\n",
    "\n",
    "-   For such a process, $$\\rho(\\tau) \\sim \\frac{L(\\tau)}{\\tau^\\alpha}$$\n",
    "    where $L(\\cdot)$ is a slowly-varying function and $\\alpha <1$.\n",
    "\n",
    "    -   $L(x)$ is a slowly varying function if\n",
    "    \n",
    "        $$\\lim_{x \\to \\infty}\\frac{ L(t\\,x)}{L(x)} = 1, \\,\\forall t.$$"
   ]
  },
  {
   "cell_type": "markdown",
   "metadata": {
    "slideshow": {
     "slide_type": "subslide"
    }
   },
   "source": [
    "-   Models of long-memory processes include Fractional Brownian Motion\n",
    "    and ARFIMA (sometimes called FARIMA).\n",
    "\n",
    "    -   Autoregressive Fractionally Integrated Moving Average\n",
    "\n",
    "-   Volume and volatility were also both widely believed to be long-memory processes.\n",
    "    - At least until our work on rough volatility!"
   ]
  },
  {
   "cell_type": "markdown",
   "metadata": {
    "slideshow": {
     "slide_type": "slide"
    }
   },
   "source": [
    "### ARFIMA\n",
    "\n",
    "-   A series $\\{X_t\\}$ is $ARFIMA(p,d,q)$ if the series $(1-B)^d\\,X_t$\n",
    "    is a stationary $ARMA(p,q)$ time series where $B$ is the backward\n",
    "    shift operator.\n",
    "\n",
    "-   The special case $d=0$ gives $ARMA(p,q)$ and the case $d=1$ gives\n",
    "    $ARIMA(p,q)$.\n",
    "\n",
    "\n",
    "-   $$(1-B)^d=1+\\sum_{j=1}^\\infty\\,\\frac{d\\,(d-1)...\\,(d-j+1)}{j!}\\,(-1)^j\\,B^j$$\n",
    "\n",
    "\n",
    "-   When $d< 1/2$, the autocorrelation function\n",
    "    $$\\rho(k)\\sim{k^{2\\,d-1}}\\quad \\text{ as } k \\to \\infty$$\n",
    "\n"
   ]
  },
  {
   "cell_type": "markdown",
   "metadata": {
    "slideshow": {
     "slide_type": "slide"
    }
   },
   "source": [
    "### Unwrapping the definition of ARFIMA\n",
    "\n",
    "-   An $ARMA(p,q)$ model has the form\n",
    "    $$X_t=\\phi_0+\\sum_{i=1}^p\\,\\phi_{i}\\,X_{t-i}+\\eta_t-\\sum_{j=1}^q\\,\\theta_j\\,\\eta_{t-j}$$\n",
    "\n",
    "-   This can be rewritten using the backshift operator $B$ as\n",
    "  \n",
    "  $$\\left(1-\\sum_{i=1}^p\\,\\phi_i\\,B^i\\right) X_t=\\phi_0+\\left(1-\\sum_{j=1}^q\\,\\theta_j\\,B^j\\right) \\eta_t$$"
   ]
  },
  {
   "cell_type": "markdown",
   "metadata": {
    "slideshow": {
     "slide_type": "subslide"
    }
   },
   "source": [
    "-   If $X_t$ is $ARIMA(p,q)$ then $Y_t=(1-B) X_t$ is $ARMA(p,q)$. $X_t$\n",
    "    is then “integrated” $ARMA(p,q)$.\n",
    "\n",
    "-   If $(1-B)^d X_t$ is $ARMA(p,q)$ with $d \\in (-1/2,1/2)$, $X_t$ is\n",
    "    then “fractionally integrated” $ARMA(p,q)$."
   ]
  },
  {
   "cell_type": "markdown",
   "metadata": {
    "slideshow": {
     "slide_type": "slide"
    }
   },
   "source": [
    "### The simplest case: $ARFIMA(0,d,0)$\n",
    "\n",
    "-   In this case, $(1-B)^d\\,X_t=\\eta_t$.\n",
    "\n",
    "    -   $d=0$ gives white noise; $d=1$ gives a random walk.\n",
    "\n",
    "\n",
    "-   Then $X_t$ has the MA representation\n",
    "\n",
    "    <a name=\"eq:arfimaMA\"></a>(1)\n",
    "$$X_t=\\eta_t+\\sum_{j=1}^\\infty\\,\\psi_j\\,\\eta_{t-j}$$\n",
    "\n",
    "    $$\\text{with }\\psi_j=(-1)^j\\left(\n",
    "    \\begin{array}{c}-d\\\\j\\end{array}\n",
    "    \\right)=\\frac{d\\,(d-1)...\\,(d-j+1)}{j!}$$"
   ]
  },
  {
   "cell_type": "markdown",
   "metadata": {
    "slideshow": {
     "slide_type": "subslide"
    }
   },
   "source": [
    "-   The ACF of $X_t$ is\n",
    "\n",
    "    <a name=\"eq:arfimaACF\"></a>(2)\n",
    "    \\begin{eqnarray*}\n",
    "    \\rho(k)&=&\\frac{\\Gamma(1-2\\,d)}{\\{\\Gamma(1-d)\\}^2}\\,\\frac{d\\,(1+d)...\\,(k-1+d)}{(1-d)\\,(2-d)\\,...\\,(k-d)}\\\\\n",
    "    &\\sim&\\frac{\\Gamma(1-2\\,d)}{\\Gamma(d)\\,\\Gamma(1-d)}\\,k^{2\\,d-1} ~ \\text{ as } k \\to \\infty \\nonumber\n",
    "    \\end{eqnarray*}"
   ]
  },
  {
   "cell_type": "markdown",
   "metadata": {
    "slideshow": {
     "slide_type": "slide"
    }
   },
   "source": [
    "### Empirical results\n",
    "\n",
    "-   In an earlier slide, we found $\\rho(\\tau) \\sim \\tau^{-\\alpha}$ with\n",
    "    $\\alpha \\approx 0.3$ for BAC.\n",
    "\n",
    "-   Lillo and Farmer found $\\alpha \\approx 0.6$ on the LSE.\n",
    "\n",
    "-   Bouchaud et al. found $\\alpha \\in (0.2,0.7)$ for stocks on the Paris\n",
    "    Stock Exchange.\n",
    "\n",
    "\n",
    "-   Note that estimating $\\alpha$ as we just did by fitting a straight\n",
    "    line in a log-log plot of the autocorrelation function is\n",
    "    notoriously inaccurate. Much more dependable techniques are\n",
    "    available.\n",
    "\n"
   ]
  },
  {
   "cell_type": "markdown",
   "metadata": {
    "slideshow": {
     "slide_type": "slide"
    }
   },
   "source": [
    "### Explanations for long-memory\n",
    "\n",
    "There are two main explanations:\n",
    "\n",
    "-   Herding behavior by traders.\n",
    "\n",
    "    -   We saw previously that herding can be optimal strategic\n",
    "        behavior. Buy orders follow buy orders etc.\n",
    "\n",
    "    -   There can be two types of herding:\n",
    "\n",
    "        -   Traders respond in the same way to public information.\n",
    "\n",
    "        -   Some traders copy other traders."
   ]
  },
  {
   "cell_type": "markdown",
   "metadata": {
    "slideshow": {
     "slide_type": "subslide"
    }
   },
   "source": [
    "-   Splitting of large trades.\n",
    "\n",
    "    -   At any given time, there is insufficient depth in the order book\n",
    "        to accommodate a large trade. Such trades need to be split.\n",
    "\n",
    "    -   This is also consistent with the optimal strategy of the\n",
    "        informed trader in the Kyle model.\n",
    "\n",
    "-   [Tóth, Lillo et al.]<sup id=\"cite_ref-TothLillo\" class=\"reference\"><a href=\"#cite_note-TothLillo\"><span>[</span>9<span>]</span></a></sup>\n",
    " argue convincingly that the dominant effect is\n",
    "    order-splitting."
   ]
  },
  {
   "cell_type": "markdown",
   "metadata": {
    "slideshow": {
     "slide_type": "slide"
    }
   },
   "source": [
    "### Order splitting\n",
    "\n",
    "-   We call a large order that is yet to be revealed to the market a\n",
    "    <span>*hidden*</span> order or a <span>*metaorder*</span>.\n",
    "\n",
    "    -   The trader knows his intentions but others in the market do not.\n",
    "\n",
    "    -   The objective of the trader is to minimize market impact by\n",
    "        hiding his intentions for as long as possible.\n",
    "\n",
    "\n",
    "-   Large institutional trades such as pension fund manager transitions\n",
    "    often take many weeks to complete.\n",
    "\n"
   ]
  },
  {
   "cell_type": "markdown",
   "metadata": {
    "slideshow": {
     "slide_type": "slide"
    }
   },
   "source": [
    "### A simple model for order splitting\n",
    "\n",
    "In this model from [Lillo, Mike and Farmer]<sup id=\"cite_ref-LilloMikeFarmer\" class=\"reference\"><a href=\"#cite_note-LilloMikeFarmer\"><span>[</span>6<span>]</span></a></sup>,\n",
    "\n",
    "\n",
    "\n",
    "-   There are $N$ meta orders in the market whose sizes $V_i$ are drawn\n",
    "    from the distribution $P(V)$.\n",
    "\n",
    "-   Meta order signs $\\epsilon_i$ are randomly chosen.\n",
    "\n",
    "-   At time $t$, an existing order $i$ is chosen with uniform\n",
    "    probability and one unit is traded so that \n",
    "    \n",
    "    $$V_i(t+1)=V_i(t)-1.$$\n",
    "\n",
    "    -   This generates a child order of size $1$ and sign\n",
    "        $\\epsilon_i$.\n",
    "\n",
    "-   A meta order dies if $V_i(t+1)=0$ in which case a new meta order is\n",
    "    generated.\n",
    "\n"
   ]
  },
  {
   "cell_type": "markdown",
   "metadata": {
    "slideshow": {
     "slide_type": "slide"
    }
   },
   "source": [
    "### The Lillo, Mike, Farmer model of order splitting\n",
    "\n",
    "We paraphrase the argument of [Lillo, Mike and Farmer]<sup id=\"cite_ref-LilloMikeFarmer\" class=\"reference\"><a href=\"#cite_note-LilloMikeFarmer\"><span>[</span>6<span>]</span></a></sup>:\n",
    "\n",
    "-   Let $\\epsilon_t$ be the sign of the child order observed at time\n",
    "    $t$. Consider the autocorrelation function\n",
    "    $\\rho(\\tau)=\\langle \\epsilon_t\\,\\epsilon_{t+\\tau} \\rangle$ of order\n",
    "    signs.\n",
    "\n",
    "-   By assumption, if two child orders come from different metaorders,\n",
    "    their order signs are uncorrelated.\n",
    "\n",
    "-   The probability that a child order drawn at random comes from a\n",
    "    metaorder of length $L$ is proportional to $L\\,p(L)$ where $p(L)$ is\n",
    "    the probability that a metaorder has length $L$."
   ]
  },
  {
   "cell_type": "markdown",
   "metadata": {
    "slideshow": {
     "slide_type": "subslide"
    }
   },
   "source": [
    "-   Conditioning on metaorder length $L$, we may then write\n",
    "\n",
    "    $$\\rho(\\tau)=\\frac{1}{\\bar L}\\,\\sum_{L=1}^\\infty\\,L\\,p(L)\\,q(\\tau|L)$$\n",
    "    \n",
    "    where $q(\\tau|L)$ is the probability that two child orders $\\tau$\n",
    "    apart come from the same metaorder of length $L$."
   ]
  },
  {
   "cell_type": "markdown",
   "metadata": {
    "slideshow": {
     "slide_type": "slide"
    }
   },
   "source": [
    "### Heuristic derivation of $q(\\tau|L)$\n",
    "\n",
    "-   We have $$q(\\tau|L) = \\frac 1 N \\,w(L,\\tau)$$ where $w(L,\\tau)$ is\n",
    "    the probability that a given order of length $L$ is still active\n",
    "    after time $\\tau$.\n",
    "\n",
    "-   If child orders are executed in strict rotation, an order of\n",
    "    remaining length $\\ell$ will remain active for roughly $\\ell\\,N$\n",
    "    periods.\n",
    "\n",
    "-   After time $\\tau$, only orders of remaining length\n",
    "    $\\ell \\geq \\tau/N$ will remain active."
   ]
  },
  {
   "cell_type": "markdown",
   "metadata": {
    "slideshow": {
     "slide_type": "subslide"
    }
   },
   "source": [
    "-   Thus\n",
    "    $$w(L,\\tau) = \\frac 1 L \\, \\sum_{\\ell=\\tau/N}^{L-1} 1 = \\frac 1 L \\, \\left(L-1 - \\frac{\\tau}{N}\\right)^+$$\n",
    "    and so\n",
    "    $$q(\\tau|L)=\\frac 1N\\, w(L,\\tau) \\approx \\frac 1N\\,  \\frac 1 L \\, \\left(L-1 - \\frac{\\tau}{N}\\right)^+.$$"
   ]
  },
  {
   "cell_type": "markdown",
   "metadata": {
    "slideshow": {
     "slide_type": "slide"
    }
   },
   "source": [
    "### Computation of $\\rho(\\tau)$\n",
    "\n",
    "Then\n",
    "\n",
    "<a name=\"eq:acf\"></a>(3)\n",
    "\\begin{eqnarray*}\n",
    "\\rho(\\tau) &=& \\frac{1}{\\bar L}\\,\\sum_{L=1}^\\infty\\,L\\,p(L)\\,q(\\tau|L)\\nonumber\\\\\n",
    "&\\approx &\\frac{1}{\\bar L}\\, \\int_0^\\infty\\,p(L)\\,\\frac 1N\\,  \\left(L-1 - \\frac{\\tau}{N}\\right)^+\\,dL\\nonumber\\\\\n",
    "&=&\\frac{1}{\\bar L}\\, \\int_{1+\\tau/N}^\\infty\\,\\frac 1N\\, \\left(L-1 - \\frac{\\tau}{N}\\right) \\,p(L)\\,dL.\\end{eqnarray*}\n",
    "\n"
   ]
  },
  {
   "cell_type": "markdown",
   "metadata": {
    "slideshow": {
     "slide_type": "slide"
    }
   },
   "source": [
    "### The power-law case\n",
    "\n",
    "In the realistic case where metaorder sizes $L$ are power-law\n",
    "distributed with $$p(L) =\\gamma  L^{-(1+\\gamma)},$$\n",
    "\n",
    "performing the\n",
    "integration [(3)](#eq:acf) explicitly gives\n",
    "\n",
    "\n",
    "$$\\rho(\\tau) =N^{\\gamma -2} (N+\\tau )^{1-\\gamma } \\sim\\left\\{\\begin{array}{cc}\n",
    "  1/N & \\text{ if } \\tau \\ll N \\\\ \n",
    "N^{\\gamma -2} \\,\\tau^{1-\\gamma }  &  \\text{ if } \\tau \\gg N .\n",
    "\\end{array}\\right.$$ "
   ]
  },
  {
   "cell_type": "markdown",
   "metadata": {
    "slideshow": {
     "slide_type": "subslide"
    }
   },
   "source": [
    "In particular, if $\\gamma=3/2$ as is more or less\n",
    "the case empirically for many stocks, we have\n",
    "$$\\rho(\\tau) \\sim \\frac{1}{\\sqrt{\\tau}} \\text{ for large } \\tau.$$\n",
    "\n",
    "-   The LMF model gives a link between the distribution of order sizes\n",
    "    and the autocorrelation function of order signs."
   ]
  },
  {
   "cell_type": "markdown",
   "metadata": {
    "slideshow": {
     "slide_type": "slide"
    }
   },
   "source": [
    "### Empirical confirmation\n",
    "\n",
    "-   [Tóth, Lillo et al.]<sup id=\"cite_ref-TothLillo\" class=\"reference\"><a href=\"#cite_note-TothLillo\"><span>[</span>8<span>]</span></a></sup> perform a careful analysis of order flow data from the\n",
    "    London Stock Exchange containing exchange membership identifiers.\n",
    "\n",
    "-   They conclude that order splitting is indeed the dominant cause of\n",
    "    the long memory of the order sign process.\n",
    "\n"
   ]
  },
  {
   "cell_type": "markdown",
   "metadata": {
    "slideshow": {
     "slide_type": "slide"
    }
   },
   "source": [
    "### Evidence based on membership codes\n",
    "\n",
    "<h2><img src=\"http://mfe.baruch.cuny.edu/wp-content/uploads/2015/03/Figure2.png\" align = \"center\" width=1000></h2>\n",
    "<a name=\"fig2\"></a>"
   ]
  },
  {
   "cell_type": "markdown",
   "metadata": {
    "slideshow": {
     "slide_type": "slide"
    }
   },
   "source": [
    "### Evidence based on membership codes\n",
    "\n",
    "-   Assuming meta orders are executed using only a few brokers, we would\n",
    "    expect to see more autocorrelation for a given broker order flow\n",
    "    that for order flow in aggregate.\n",
    "\n",
    "-   [Figure 2](#fig2) from [Bouchaud, Farmer, Lillo]<sup id=\"cite_ref-BouchaudFarmerLillo\" class=\"reference\"><a href=\"#cite_note-BouchaudFarmerLillo\"><span>[</span>2<span>]</span></a></sup> shows just that and is strong\n",
    "    evidence for order splitting being the dominant cause of long memory\n",
    "    in order flow.\n",
    "\n"
   ]
  },
  {
   "cell_type": "markdown",
   "metadata": {
    "slideshow": {
     "slide_type": "slide"
    }
   },
   "source": [
    "### More evidence for order splitting\n",
    "\n",
    "[Tóth, Lillo et al.]<sup id=\"cite_ref-TothLillo\" class=\"reference\"><a href=\"#cite_note-TothLillo\"><span>[</span>8<span>]</span></a></sup> present even more convincing evidence for order-splitting as\n",
    "opposed to herding as the principal explanation for the long memory of\n",
    "order flow.\n",
    "\n",
    "They decompose the sample autocorrelations as follows:\n",
    "\n",
    "-   $\\epsilon^i_t = 1$ means a buy order was placed by investor $i$\n",
    "\n",
    "-   $\\epsilon^i_t = 0$ means an order placed by another investor\n",
    "\n",
    "-   $\\epsilon^i_t =-1$ means a sell order placed by investor $i$.\n",
    "\n"
   ]
  },
  {
   "cell_type": "markdown",
   "metadata": {
    "slideshow": {
     "slide_type": "slide"
    }
   },
   "source": [
    "### Decomposition of autocorrelation function\n",
    "\n",
    "Assuming the long-term average order sign is zero, we have\n",
    "\n",
    "$$C(\\tau)=\\langle\\epsilon_t\\,\\epsilon_{t+\\tau}\\rangle=\\frac{1}{N}\\,\\sum_t\\,\\epsilon_{t}\\,\\epsilon_{t+\\tau}\n",
    "=\\frac{1}{N}\\,\\sum_t\\,\\sum_{i,j}\\epsilon^i_{t}\\,\\epsilon^j_{t+\\tau}$$\n",
    "\n",
    "Define the autocorrelation between $i$ and $j$ orders as\n",
    "\n",
    "$$C^{ij}(\\tau)=\\langle\\epsilon^i_{t}\\,\\epsilon^j_{t+\\tau}\\rangle=\\frac{1}{N^{ij}(\\tau)}\\,\\sum_t\\,\\epsilon^i_{t}\\,\\epsilon^j_{t+\\tau}$$\n",
    "\n",
    "and let $\\theta^{ij}(\\tau) = N^{ij}(\\tau)/N$ be the fraction of times\n",
    "that an order from investor $i$ at time $t$ is followed by an order from\n",
    "investor $j$ at time $t + \\tau$."
   ]
  },
  {
   "cell_type": "markdown",
   "metadata": {
    "slideshow": {
     "slide_type": "slide"
    }
   },
   "source": [
    "Then\n",
    "\n",
    "\\begin{eqnarray*}\n",
    "C(\\tau)&=&\\sum_{i,j}\\,\\theta^{ij}(\\tau)\\,C^{ij}(\\tau)\\\\\n",
    "&=&\\sum_{i}\\,\\theta^{ii}(\\tau)\\,C^{ii}(\\tau)+\\sum_{i \\neq j}\\,\\theta^{ij}(\\tau)\\,C^{ij}(\\tau)\\\\\n",
    "&=:&C_{split}(\\tau)+C_{herd}(\\tau).\\end{eqnarray*}"
   ]
  },
  {
   "cell_type": "markdown",
   "metadata": {
    "slideshow": {
     "slide_type": "slide"
    }
   },
   "source": [
    "### Decomposition in pictures\n",
    "\n",
    "<h2><img src=\"http://mfe.baruch.cuny.edu/wp-content/uploads/2015/03/TothLilloFigure3.png\" align = \"center\" width=1200></h2>"
   ]
  },
  {
   "cell_type": "markdown",
   "metadata": {
    "slideshow": {
     "slide_type": "slide"
    }
   },
   "source": [
    "### Empirical observation\n",
    "\n",
    "-   Order splitting dominates herding\n",
    "\n",
    "-   There is <span>*anti-herding*</span>!\n",
    "\n",
    "    -   Other market participants tend to trade against a split meta\n",
    "        order.\n",
    "\n"
   ]
  },
  {
   "cell_type": "markdown",
   "metadata": {
    "slideshow": {
     "slide_type": "slide"
    }
   },
   "source": [
    "### Distribution of volume is fat-tailed\n",
    "\n",
    "<h2><img src=\"http://mfe.baruch.cuny.edu/wp-content/uploads/2015/03/Figure3.png\" align = \"center\" width=1000></h2>"
   ]
  },
  {
   "cell_type": "markdown",
   "metadata": {
    "slideshow": {
     "slide_type": "slide"
    }
   },
   "source": [
    "### The Hill estimator\n",
    "\n",
    "-   Denote by $\\tilde X_{i}$, the $k$ exceedances in the sample\n",
    "    $\\{X_1,X_2,...,X_n\\}$ over some threshold $u$.\n",
    "    \n",
    "\n",
    "-   The Hill estimator (of $1/\\alpha$) is then\n",
    "    $$H_{k}=\\frac{1}{k}\\,\\sum_{i=1}^k\\,\\log \\frac{\\tilde X_{i}}{u}$$\n",
    "    "
   ]
  },
  {
   "cell_type": "markdown",
   "metadata": {
    "slideshow": {
     "slide_type": "subslide"
    }
   },
   "source": [
    "-   To see how this works, consider a density of the form\n",
    "\n",
    "    $$f(x)=\\frac{\\alpha  }{u}\\,\\left(\\frac{u}{x}\\right)^{\\alpha +1}.$$\n",
    "    \n",
    "    which corresponds to a distribution with tail-exponent $\\alpha$.\n",
    "    Then $$\\E\\left[\\log \\frac Xu \\right] = \\int_u^\\infty\\,\\log \\frac{x}{u}\\,f(x)\\,dx=\\frac{1}{\\alpha}.$$"
   ]
  },
  {
   "cell_type": "markdown",
   "metadata": {
    "slideshow": {
     "slide_type": "subslide"
    }
   },
   "source": [
    "-  The Hill estimator is also the maximum likelihood estimator (MLE) for the power law with pdf $f$.\n",
    "\n",
    "\n",
    "-   The Hill estimator works reasonably well when the tail is really\n",
    "    Pareto. It can give bad results if the underlying distribution does\n",
    "    not have a Pareto tail."
   ]
  },
  {
   "cell_type": "markdown",
   "metadata": {
    "slideshow": {
     "slide_type": "slide"
    }
   },
   "source": [
    "### Distribution of volume\n",
    "\n",
    "-   The distribution of block trades appears to have a tail with\n",
    "    exponent $\\alpha \\approx 3/2$.\n",
    "\n",
    "-   Since block trading is in competition with order-splitting as a\n",
    "    strategy for executing large trades, we assume that the distribution\n",
    "    of meta orders should also have a roughly $3/2$ tail.\n",
    "\n",
    "    -   This has been confirmed by [Bershova and Rakhlin]<sup id=\"cite_ref-BershovaRakhlin\" class=\"reference\"><a href=\"#cite_note-BershovaRakhlin\"><span>[</span>1<span>]</span></a></sup> using a\n",
    "        database of Alliance Bernstein proprietary meta orders.\n",
    "\n"
   ]
  },
  {
   "cell_type": "markdown",
   "metadata": {
    "slideshow": {
     "slide_type": "slide"
    }
   },
   "source": [
    "### Notions of market impact\n",
    "\n",
    "The term <span>*market impact*</span> can refer to many different\n",
    "phenomena.\n",
    "\n",
    "Market impact can refer to:\n",
    "\n",
    "-   The impact of individual transactions\n",
    "\n",
    "-   The impact of meta orders\n",
    "\n",
    "-   The impact of aggregate order flow over a given period of time.\n",
    "\n"
   ]
  },
  {
   "cell_type": "markdown",
   "metadata": {
    "slideshow": {
     "slide_type": "slide"
    }
   },
   "source": [
    "### Market impact of market orders: Empirical results\n",
    "\n",
    "-   There are many studies in the classic microstructure literature that\n",
    "    document that market impact is a concave function of volume. Keim\n",
    "    and Madhavan find that block trades also generate concave market\n",
    "    impact.\n",
    "\n",
    "\n",
    "-   On the NYSE, Lillo et al. find that\n",
    "    $$\\mathbb{E} [\\Delta P|V] \\sim V^\\psi$$ with $\\psi \\approx 0.5$ for\n",
    "    small $V$ and $\\psi \\approx 0.2$ for large $V$."
   ]
  },
  {
   "cell_type": "markdown",
   "metadata": {
    "slideshow": {
     "slide_type": "subslide"
    }
   },
   "source": [
    "-   On the LSE, Lillo et al. find $\\psi \\approx 0.3$ on average.\n",
    "\n",
    "\n",
    "-   Potters and Bouchaud study trades on NASDAQ and the Paris Stock\n",
    "    Exchange (PSE) finding $\n",
    "    \\mathbb{E} [\\Delta P|V] \\sim \\log V.\n",
    "    $"
   ]
  },
  {
   "cell_type": "markdown",
   "metadata": {
    "slideshow": {
     "slide_type": "slide"
    }
   },
   "source": [
    "### $\\psi \\approx 0.3$ on LSE from Lillo et al.\n",
    "\n",
    "<h2><img src=\"http://mfe.baruch.cuny.edu/wp-content/uploads/2015/03/Figure4.png\" align = \"center\" width=1000></h2>\n"
   ]
  },
  {
   "cell_type": "markdown",
   "metadata": {
    "slideshow": {
     "slide_type": "slide"
    }
   },
   "source": [
    "### The square-root formula\n",
    "\n",
    "-   Practitioners typically believe in a square-root relationship\n",
    "    between market impact and volume.\n",
    "\n",
    "\n",
    "-   Specifically, the relationship between the price impact $\\Delta P$\n",
    "    and the size $Q$ of the order should be something like\n",
    "    \n",
    "    $$\\Delta P \\approx \\sigma\\,\\sqrt{\\frac{Q}{V}}$$ \n",
    "    \n",
    "    where $\\sigma$ is\n",
    "    (for example) daily volatility and $V$ is daily volume.\n",
    "\n",
    "    -   Note that this formula is dimensionally correct.\n",
    "    \n",
    "    \n",
    "- The square root law has recently been verified for Bitcoin and even for vega in options markets.\n",
    "\n"
   ]
  },
  {
   "cell_type": "markdown",
   "metadata": {
    "slideshow": {
     "slide_type": "slide"
    }
   },
   "source": [
    "### A heuristic derivation of the square-root market impact formula\n",
    "\n",
    "-   <span>Suppose each trade impacts the mid-log-price of the stock by\n",
    "    an amount proportional to $\\sqrt{n_i}$ where $n_i$ is the size of\n",
    "    the $i$th trade.</span>"
   ]
  },
  {
   "cell_type": "markdown",
   "metadata": {
    "slideshow": {
     "slide_type": "subslide"
    }
   },
   "source": [
    "-   <span>Then the change in mid-price over one day is given by\n",
    "    \n",
    "    $$\\Delta P = \\sum_i^N\\,\\eta\\,\\epsilon_i\\,\\sqrt{n_i}$$\n",
    "    \n",
    "    where $\\eta$\n",
    "    is the coefficient of market impact, $\\epsilon_i$ is the sign of the\n",
    "    $i$th trade and $N$ is the (random) number of trades in a day.\n",
    "    </span>\n",
    "\n",
    "    -   <span>Note that both the number of trades and the size of each\n",
    "        trade in a given time interval are random.</span>"
   ]
  },
  {
   "cell_type": "markdown",
   "metadata": {
    "slideshow": {
     "slide_type": "subslide"
    }
   },
   "source": [
    "\n",
    "\n",
    "-   If $N$, $\\epsilon_i$ and $n_i$ are all independent, the variance of\n",
    "    the one-day price change is given by\n",
    "\n",
    "    \\begin{eqnarray*}\n",
    "    \\sigma^2:=\\mbox{Var}(\\Delta P)=\\eta^2\\,\\sum_i n_i=\\eta^2\\,V\\end{eqnarray*}\n",
    "\n",
    "    where $V$ is the average daily volume.\n",
    "\n",
    "\n",
    "-   <span>It follows that\n",
    "    $$|\\Delta P_i|=\\eta\\,\\sqrt{n_i}=\\sigma\\,\\sqrt{\\frac{n_i}{V}}$$ which\n",
    "    is the familiar square-root market impact formula.</span>\n",
    "\n"
   ]
  },
  {
   "cell_type": "markdown",
   "metadata": {
    "slideshow": {
     "slide_type": "slide"
    }
   },
   "source": [
    "### Why $\\sqrt{n}$?\n",
    "\n",
    "An inventory risk argument:\n",
    "\n",
    "-   <span>A market maker requires an excess return proportional to the\n",
    "    risk of holding inventory.</span>\n",
    "\n",
    "-   <span>Risk is proportional to $\\sigma\\,\\sqrt{T}$ where $T$ is the\n",
    "    holding period.</span>\n",
    "\n",
    "-   <span>The holding period should be proportional to the size of the\n",
    "    position.</span>\n",
    "\n",
    "-   <span>So the required excess return must be proportional to\n",
    "    $\\sqrt{n}$.</span>\n",
    "\n"
   ]
  },
  {
   "cell_type": "markdown",
   "metadata": {
    "slideshow": {
     "slide_type": "slide"
    }
   },
   "source": [
    "### Gabaix again\n",
    "\n",
    "-   Volume follows the $3/2$ law:\n",
    "    $$\\mathbb{P}\\left[\\mbox{Volume} > V\\right] \\sim \\frac{1}{V^{3/2}}$$\n",
    "\n",
    "\n",
    "-   Market impact is proportional to the square-root of volume\n",
    "    $$\\Delta P \\sim \\sqrt{V}$$\n",
    "\n",
    "\n",
    "-   Then $$\\mathbb{P}\\left[\\Delta P > x\\right] \\sim \\frac{1}{x^3},$$ the so-called cubic\n",
    "    law of returns.\n",
    "\n"
   ]
  },
  {
   "cell_type": "markdown",
   "metadata": {
    "slideshow": {
     "slide_type": "slide"
    }
   },
   "source": [
    "### Aggregate market impact\n",
    "\n",
    "-   When practitioners are questioned as to whether the square-root\n",
    "    model is supposed to estimate the impact of individual orders, meta\n",
    "    orders or aggregate order flow, the answer is usually “all of\n",
    "    these!”."
   ]
  },
  {
   "cell_type": "markdown",
   "metadata": {
    "slideshow": {
     "slide_type": "subslide"
    }
   },
   "source": [
    "-   [Hopman]<sup id=\"cite_ref-Hopman\" class=\"reference\"><a href=\"#cite_note-Hopman\"><span>[</span>5<span>]</span></a></sup> measures aggregate order flow on the PSE as\n",
    "    $\\sum_i\\,\\epsilon_i\\,V_i^\\psi$.\n",
    "\n",
    "    -   He finds that $\\psi = 1/2$ best explains daily returns. $\\psi=1$\n",
    "        gives a much lower $R^2$.\n",
    "\n",
    "    -   He also finds that causality runs from orders to prices and not\n",
    "        the other way round, supporting the econophysicists and\n",
    "        contradicting the informed trader story.\n",
    "        - Returns follow orders with a lag.\n",
    "\n",
    "-   Gabaix et al. find $\\psi \\approx 1/2$ on New York, London and Paris\n",
    "    markets."
   ]
  },
  {
   "cell_type": "markdown",
   "metadata": {
    "slideshow": {
     "slide_type": "slide"
    }
   },
   "source": [
    "### Aggregation\n",
    "\n",
    "-   For a sequence of $N$ successive trades, let\n",
    "    $Q_N=\\sum_i^N \\epsilon_i\\,V_i$ be the aggregate quantity and\n",
    "    $R_N=\\sum_i^N\\,\\log P_i/P_{i-1}$ be the aggregate return.\n",
    "\n",
    "-   [Figure 5](#fig5) shows how the aggregate return $R(Q,N)$ scales with\n",
    "    quantity $Q_N$ and $N$.\n",
    "\n",
    "-   According to [Bouchaud, Farmer, Lillo]<sup id=\"cite_ref-BouchaudFarmerLillo\" class=\"reference\"><a href=\"#cite_note-BouchaudFarmerLillo\"><span>[</span>2<span>]</span></a></sup>, aggregate impact\n",
    "    becomes increasingly linear with increasing $N$.\n"
   ]
  },
  {
   "cell_type": "markdown",
   "metadata": {
    "slideshow": {
     "slide_type": "slide"
    }
   },
   "source": [
    "### Scaling of aggregated returns\n",
    "\n",
    "<h2><img src=\"http://mfe.baruch.cuny.edu/wp-content/uploads/2015/03/Figure5.png\" align = \"center\" width=1000></h2>\n",
    "<a name=\"fig5\"></a>"
   ]
  },
  {
   "cell_type": "markdown",
   "metadata": {
    "slideshow": {
     "slide_type": "slide"
    }
   },
   "source": [
    "### Why is market impact concave?\n",
    "\n",
    "There are three types of answer in the literature\n",
    "\n",
    "-  The informativeness of a trade depends on size (Easley and O’Hara).\n",
    "\n",
    "    -   Small trades may carry almost as much information as large\n",
    "        trades.\n",
    "\n",
    "2.  The shape of the order book (Weber and Rosenow).\n",
    "\n",
    "    -   The cumulative depth available at a given price level determines\n",
    "        price impact."
   ]
  },
  {
   "cell_type": "markdown",
   "metadata": {
    "slideshow": {
     "slide_type": "subslide"
    }
   },
   "source": [
    " -  Selective liquidity taking.\n",
    "\n",
    "    -   Traders condition their orders on the quantity available in the\n",
    "        order book."
   ]
  },
  {
   "cell_type": "markdown",
   "metadata": {
    "slideshow": {
     "slide_type": "slide"
    }
   },
   "source": [
    "### Virtual market impact\n",
    "<h2><img src=\"http://mfe.baruch.cuny.edu/wp-content/uploads/2015/03/Figure6.png\" align = \"center\" width=1000></h2>"
   ]
  },
  {
   "cell_type": "markdown",
   "metadata": {
    "slideshow": {
     "slide_type": "slide"
    }
   },
   "source": [
    "\n",
    "### Selective liquidity taking\n",
    "\n",
    "-   Empirically, nearly all trades are of sizes less than or equal to\n",
    "    the size available at the best quote, and certainly smaller than the\n",
    "    total size available at the first two quote levels.\n",
    "\n",
    "\n",
    "-   Suppose then that the price changes only in increments of the spread\n",
    "    $s$. Then\n",
    "    $$\\mathbb{E} [\\Delta P|V]=\\Pr(\\Delta P >0|V)\\,s=\\Pr(V \\ge Q)\\,s$$\n",
    "    where $Q$ is the quantity available at the best quote."
   ]
  },
  {
   "cell_type": "markdown",
   "metadata": {
    "slideshow": {
     "slide_type": "subslide"
    }
   },
   "source": [
    "-   But $$\\Pr(V \\ge Q)=\\Pr(Q \\le V)=:F_Q(V),$$\n",
    "the cumulative\n",
    "    distribution function of quantity at the best quote, which we expect\n",
    "    to be concave wrt V."
   ]
  },
  {
   "cell_type": "markdown",
   "metadata": {
    "slideshow": {
     "slide_type": "slide"
    }
   },
   "source": [
    "### Gamma-distributed volume at best quote\n",
    "\n",
    "For example, according to Bouchaud, Mézard and Potters, the volume at\n",
    "the best quote is gamma-distributed\n",
    "\n",
    "$$f(V) \\sim V^{\\gamma-1}\\,e^{-V/V_0}$$ \n",
    "\n",
    "with $\\gamma \\approx 0.75$.\n",
    "\n",
    "The cumulative distribution would then be\n",
    "$$F(V)=1-\\frac{\\Gamma \\left(\\gamma ,\\frac{V}{V_0} \\right)}{\\Gamma (\\gamma)}$$\n",
    "\n"
   ]
  },
  {
   "cell_type": "markdown",
   "metadata": {
    "slideshow": {
     "slide_type": "slide"
    }
   },
   "source": [
    "### Gamma distributed volume at best quote with $\\gamma=0.75$\n",
    "\n",
    "<h2><img src=\"http://mfe.baruch.cuny.edu/wp-content/uploads/2015/03/FV.png\" align = \"center\" width=900></h2>\n",
    "\n",
    "The green line is $F(V)$; the red line is $V^{0.5}$; the violet line is\n",
    "$V^{0.2}$.\n",
    "\n"
   ]
  },
  {
   "cell_type": "markdown",
   "metadata": {
    "slideshow": {
     "slide_type": "slide"
    }
   },
   "source": [
    "### A fixed permanent impact model\n",
    "\n",
    "-   Suppose that changes in the mid-quote $m$ depend on the sign\n",
    "    $\\epsilon$ of the order, the order size $v$ and possibly on other\n",
    "    state variables $\\Omega$ such as the state of the order book:\n",
    "    $$\\Delta m_t=m_{t}-m_{t-1}=\\epsilon_t\\,f(v_t,\\Omega_t)+\\eta_t$$ with\n",
    "    $\\eta$ iid and satisfying $\\mathbb{E} [\\eta_t]=0$,\n",
    "    $\\mbox{Var}[\\eta_t]=\\sigma^2$.\n",
    "\n",
    "\n",
    "-   Integrating this gives\n",
    "    $$m_{t}=\\sum_{k<t}\\,\\epsilon_k\\,f(v_k,\\Omega_k)+\\sum_{k<t}\\,\\eta_k$$\n",
    "    from which we see that in this model, all market impact is\n",
    "    permanent.\n",
    "\n"
   ]
  },
  {
   "cell_type": "markdown",
   "metadata": {
    "slideshow": {
     "slide_type": "slide"
    }
   },
   "source": [
    "### Variance and autocovariance of price returns\n",
    "\n",
    "-   If $f(\\cdot)$ is independent of order-flow, it follows that\n",
    "\n",
    "    $$\\mathbb{E} [\\Delta m_{t}\\,\\Delta m_{t+\\tau}]=\\mathbb{E} [\\epsilon_{t}\\,\\epsilon_{t+\\tau}\\,f(v_t)\\,f(v_{t+\\tau})]\\propto \\tau^{-\\alpha}$$\n",
    "    \n",
    "    so that price returns are autocorrelated in time.\n",
    "\n",
    "\n",
    "-   Also, in that case, the variance of lag-$\\tau$ returns is given by\n",
    "    $$\\mathbb{E} [(m_{t+\\tau}-m_t)^2]\\propto \\sum_{i,j=1}^\\tau\\,\\mathbb{E} \\left[\\epsilon_i\\,\\epsilon_j\\right]\\,f(v_i)\\,f(v_j) \\propto \\tau^{2-\\alpha}.$$\n",
    "\n",
    "\n",
    "-   Both of these properties of the model are inconsistent with\n",
    "    efficient prices as empirically observed."
   ]
  },
  {
   "cell_type": "markdown",
   "metadata": {
    "slideshow": {
     "slide_type": "subslide"
    }
   },
   "source": [
    "-   It follows that either the market impact function $f(\\cdot)$ must\n",
    "    depend on order flow or that market impact is not permanent.\n",
    "\n",
    "    -   The former point of view was promoted by Farmer, Lillo et al.\n",
    "\n",
    "    -   The latter point of view was promoted by Bouchaud et al.\n",
    "\n",
    "\n",
    "-   We will see that, somewhat surprisingly, the two points of view are compatible with each other."
   ]
  },
  {
   "cell_type": "markdown",
   "metadata": {
    "slideshow": {
     "slide_type": "slide"
    }
   },
   "source": [
    "### The Madhavan Richardson and Roomans (MRR) model again\n",
    "\n",
    "-   In the MRR model, as in Glosten-Milgrom, the revision in beliefs is\n",
    "    positively correlated with the innovation in the order flow:\n",
    "\n",
    "    <a name=\"eq:MRRsurprise\"></a>(4)\n",
    "    $$\\Delta V_t=\\lambda\\,\\left(\\epsilon_t-\\mathbb{E} [\\epsilon_t|\\mathcal{F} _t]\\right) + e_t$$\n",
    "\n",
    "    where $V_t$ is the efficient price and $e_t$ represents for example\n",
    "    news."
   ]
  },
  {
   "cell_type": "markdown",
   "metadata": {
    "slideshow": {
     "slide_type": "subslide"
    }
   },
   "source": [
    "-   However, in the MRR model, the revision in beliefs depends only on\n",
    "    the unexpected component of order flow.\n",
    "\n",
    "\n",
    "-   MRR modeled the order flow as $AR(1)$: $\\epsilon_t = \\phi_1 \\epsilon_{t-1} + \\eta_t$.\n",
    "\n",
    "\n",
    "-   We now model order flow as a long-memory process."
   ]
  },
  {
   "cell_type": "markdown",
   "metadata": {
    "slideshow": {
     "slide_type": "slide"
    }
   },
   "source": [
    "### Expected trade sign\n",
    "\n",
    "-   In the MRR model,\n",
    "    $$\\mathbb{E} [\\epsilon_t|\\epsilon_{t-1}]=\\phi_1\\,\\epsilon_{t-1}.$$\n",
    "    where $\\phi_1$ is the first order autocorrelation coefficient.\n",
    "\n",
    "\n",
    "-   In our extension of this model, we write\n",
    "    $$\\hat \\epsilon_t=\\mathbb{E} [\\epsilon_t|\\mathcal{F} _t]=\\sum_{k=1}^\\infty\\,\\phi_k\\,\\epsilon_{t-k}$$\n",
    "    so the filtration $\\mathcal{F} _t$ is now not just the last order\n",
    "    sign $\\epsilon_{t-1}$ but the entire order flow history."
   ]
  },
  {
   "cell_type": "markdown",
   "metadata": {
    "slideshow": {
     "slide_type": "subslide"
    }
   },
   "source": [
    "-   In practice, we can fit an $AR(p)$ model with some large order $p$:\n",
    "    $$\\hat \\epsilon_t=\\mathbb{E} [\\epsilon_t|\\mathcal{F} _t]=\\sum_{k=1}^p\\,\\phi_k\\,\\epsilon_{t-k}.$$\n",
    "\n",
    "\n",
    "-   We expect the coefficients to decay as a power-law:\n",
    "    $$\\phi_{k}\\sim k^{-\\beta} \\text{ for some $\\beta$.}$$"
   ]
  },
  {
   "cell_type": "markdown",
   "metadata": {
    "slideshow": {
     "slide_type": "slide"
    }
   },
   "source": [
    "### Empirical verification of the model\n",
    "\n",
    "-   Approximating $\\Delta V$ by $\\Delta m$, we may rewrite [(4)](#eq:MRRsurprise) as\n",
    "\n",
    "    <a name=\"eq:MRRe\"></a>(5)\n",
    "    $$\\Delta m_{t}=\\lambda\\,\\left(\\epsilon_t-\\hat \\epsilon_t\\right)+\\eta_t$$\n",
    "\n",
    "\n",
    "-   In this model, the impact of a transaction depends on the entire\n",
    "    history of the order flow and how predictable the order sign of the\n",
    "    transaction is.\n",
    "\n",
    "    -   The most likely outcome has the smallest impact.\n",
    "\n",
    "\n",
    "-   In [Figure 10](#fig10), we see stunning empirical verification of this model.\n",
    "\n"
   ]
  },
  {
   "cell_type": "markdown",
   "metadata": {
    "slideshow": {
     "slide_type": "slide"
    }
   },
   "source": [
    "### Market impact relates to unexpected order flow\n",
    "<h2><img src=\"http://mfe.baruch.cuny.edu/wp-content/uploads/2015/03/Figure10.png\" align = \"center\" width=1000></h2>\n",
    "<a name=\"fig10\"></a>"
   ]
  },
  {
   "cell_type": "markdown",
   "metadata": {
    "slideshow": {
     "slide_type": "slide"
    }
   },
   "source": [
    "### Bouchaud’s power-law decay argument\n",
    "\n",
    "-   <span> As before, assume that over one day\n",
    "    $$\\Delta P = \\sum_i^N\\,\\eta\\,\\epsilon_i\\,\\sqrt{n_i}$$</span>\n",
    "\n",
    "-   <span>The previous heuristic proof of the square-root model assumed\n",
    "    that $\\mbox{Cov}[\\epsilon_i,\\epsilon_j]=0$ if $i \\neq j$ and that all\n",
    "    market impact is permanent. </span>\n",
    "\n",
    "-   <span> Empirically, we found that autocorrelation of trade signs\n",
    "    shows power-law decay with a small exponent $\\alpha$ (very slow\n",
    "    decay).</span>\n",
    "\n"
   ]
  },
  {
   "cell_type": "markdown",
   "metadata": {
    "slideshow": {
     "slide_type": "slide"
    }
   },
   "source": [
    "### Bouchaud’s power-law decay argument continued\n",
    "\n",
    "\\begin{eqnarray*}\n",
    "\\mbox{Var}[\\Delta P] &=& \\eta^2\\,\\mbox{Var}\\left[\\sum_i^N\\,\\epsilon_i\\,\\sqrt{n_i}\\right]\\\\\n",
    "&=&\\eta^2\\,\\left\\{N\\,\\mbox{Var}[\\sqrt{n_i}]+\\sum_{i \\neq j}\\,\\mbox{Cov}[\\epsilon_i\\sqrt{n_i},\\epsilon_j\\sqrt{n_j}]\\right\\}\\\\\n",
    "&\\approx& \\eta^2\\,\\left\\{N\\,\\mbox{Var}[\\sqrt{n_i}]+\\frac{2\\,C_1}{(2-\\alpha)\\,(1-\\alpha)}\\,\\mathbb{E} [\\sqrt{n}]^2\\,N^{2-\\alpha}\\right\\}\\\\\n",
    "&\\sim& N^{2-\\alpha} \\textrm{ as } N \\to \\infty\\end{eqnarray*}"
   ]
  },
  {
   "cell_type": "markdown",
   "metadata": {
    "slideshow": {
     "slide_type": "subslide"
    }
   },
   "source": [
    "-   <span>Empirically, we find that, to a very good approximation,\n",
    "    $\\mbox{Var}[\\Delta P] \\propto N$.</span>\n",
    "\n",
    "    -   <span>Otherwise returns would be serially correlated.</span>\n",
    "\n",
    "-   <span>These observations may be reconciled if market impact decays\n",
    "    as a power law.</span>"
   ]
  },
  {
   "cell_type": "markdown",
   "metadata": {
    "slideshow": {
     "slide_type": "slide"
    }
   },
   "source": [
    "### Computation of daily variance with power-law decay\n",
    "\n",
    "-   Assuming market impact decays as $1/\\tau^{\\gamma}$, we have\n",
    "\n",
    "$$\n",
    "\\begin{eqnarray*}\n",
    "    \\mbox{Var}[\\Delta P] &=& \\eta^2\\,\\mbox{Var}\\left[\\sum_i^N\\,\\frac{\\epsilon_i\\,\\sqrt{n_i}}{(N-i)^{\\gamma}}\\right]\\\\\n",
    "    &=&\\eta^2\\,\\bigg\\{\\sum_i^{N-1}\\,\\frac{\\mathbb{E} [n]}{(N-i)^{2\\,\\gamma}}\\\\  \n",
    " &&+ 2\\,C_1\\, \\sum_{i=1}^{N-1}\\,\\sum_{j=i+1}^{N-1}\\frac{\\mathbb{E} [\\sqrt{n}]^2}{(N-i)^{\\gamma}\\,(N-j)^{\\gamma}\\,(j-i)^{\\alpha}}\\bigg\\}\\\\\n",
    "    &\\sim& N^{2-\\alpha-2\\,\\gamma} \\textrm{ as } N \\to \\infty\\\\\n",
    "    & \\sim & N \\textrm{ only if } \\gamma \\approx (1-\\alpha)/2.\\end{eqnarray*}\n",
    "$$\n"
   ]
  },
  {
   "cell_type": "markdown",
   "metadata": {
    "slideshow": {
     "slide_type": "slide"
    }
   },
   "source": [
    "### Equivalence of the two formulations\n",
    "\n",
    "We have in the Lillo picture that\n",
    "\n",
    "<a name=\"eq:dm1\"></a>(6)\n",
    "$$\\Delta m_t=m_t-m_{t-1}=\\lambda\\,\\left(\\epsilon_t-\\hat \\epsilon_t\\right)+\\eta_t$$\n",
    "\n",
    "with $$\\hat \\epsilon_t=\\sum_{k=1}^\\infty\\,\\phi_k\\,\\epsilon_{t-k}.$$"
   ]
  },
  {
   "cell_type": "markdown",
   "metadata": {
    "slideshow": {
     "slide_type": "subslide"
    }
   },
   "source": [
    "Write (Bouchaud picture)\n",
    "$$m_t=\\lambda\\,\\sum_{i=0}^\\infty\\,G(i)\\,\\epsilon_{t-i}+\\sum_{j \\leq t}\\,\\eta_j$$\n",
    "Then\n",
    "\n",
    "<a name=\"eq:dm2\"></a>(7)\n",
    "\\begin{eqnarray*}\n",
    "m_t-m_{t-1}&=&\\lambda\\,\\left(\\sum_{k=0}^\\infty\\,G(k)\\,\\epsilon_{t-k}-\\sum_{k=0}^\\infty\\,G(k)\\,\\epsilon_{t-1-k}\\right)+\\eta_t\\nonumber\\\\\n",
    "&=&\\lambda\\,\\epsilon_t+\\lambda\\,\\sum_{k=1}^\\infty\\,\\left\\{G(k)-G(k-1)\\right)\\}\\,\\epsilon_{t-k}+\\eta_t\n",
    "\\end{eqnarray*}"
   ]
  },
  {
   "cell_type": "markdown",
   "metadata": {
    "slideshow": {
     "slide_type": "subslide"
    }
   },
   "source": [
    "To match the expressions [(6)](#eq:dm1) and [(7)](#eq:dm2), we need \n",
    "\n",
    "$$G(k)-G(k-1)=-\\phi_k.$$\n",
    "\n",
    "One\n",
    "choice that would work is: $$G(k)=\\sum_{j=k+1}^{\\infty}\\,\\phi_j$$ If the\n",
    "autocorrelation function $\\rho(\\tau) \\sim \\tau^{-\\alpha}$ for large\n",
    "$\\tau$, and if the underlying process for order signs is ARFIMA, the\n",
    "best linear predictor of order sign is given by\n",
    "$$\\hat \\epsilon_t=\\sum_{k=1}^\\infty\\,\\phi_k\\,\\epsilon_{t-k}$$ with\n",
    "$\\phi_k \\sim k^{-(1+\\beta)}$ for large $k$ and\n",
    "$$\\beta=\\frac{1-\\alpha}{2}.$$"
   ]
  },
  {
   "cell_type": "markdown",
   "metadata": {
    "slideshow": {
     "slide_type": "subslide"
    }
   },
   "source": [
    "Then, for large $k$,\n",
    "$$G(k)=\\sum_{j=k+1}^{\\infty}\\,\\phi_j \\sim \\frac{1}{k^\\beta}$$ with\n",
    "\n",
    "$$\\beta=\\frac{1-\\alpha}{2}.$$ \n",
    "\n",
    "That is, the propagator $G(\\tau)$ decays\n",
    "as $\\tau^{-\\gamma}$ with \n",
    "\n",
    "$$\\gamma=\\frac{1-\\alpha}{2}.$$ \n",
    "\n",
    "as required to\n",
    "show equivalence between the Bouchaud and Lillo pictures."
   ]
  },
  {
   "cell_type": "markdown",
   "metadata": {
    "slideshow": {
     "slide_type": "slide"
    }
   },
   "source": [
    "### Explicit computation (Tai-Ho Wang)\n",
    "\n",
    "Suppose the order sign process is $ARFIMA(0,d,0)$. Then, by definition,\n",
    "$$(1-B)^d \\epsilon_t=\\eta_t$$ where $\\eta_t \\sim N(0,1)$ say.\n",
    "\n",
    "Inverting this expression gives\n",
    "\n",
    "<a name=\"eq:epsilonEta\"></a>(8)\n",
    "$$\\epsilon_t=\\eta_t+\\sum_{j=1}^\\infty\\,\\psi_j\\,\\eta_{t-j}=\\sum_{j=0}^\\infty\\,\\psi_j\\,\\eta_{t-j}$$\n",
    "\n",
    "where we adopt the convention that $\\psi_0=1$ and for $j>0$,\n",
    "\n",
    "$$\\psi_j=(-1)^j\\,\\left(\n",
    "\\begin{array}{c}-d\\\\j\\end{array}\\right)\n",
    "=\\frac{d\\,(d+1)...\\,(d+j-1)}{j!}\n",
    "=\\left(\n",
    "\\begin{array}{c}j+d-1\\\\j\\end{array}\\right)\n",
    "$$"
   ]
  },
  {
   "cell_type": "markdown",
   "metadata": {
    "slideshow": {
     "slide_type": "subslide"
    }
   },
   "source": [
    "The autocovariance function of $\\epsilon_t$ is then\n",
    "\n",
    "<a name=\"eq:arfimaACF\"></a>(9)\n",
    "\\begin{eqnarray*}\n",
    "\\rho(k)&=&\\sum_{j=0}^\\infty\\,\\psi_j\\,\\psi_{j+k}\\nonumber\\\\\n",
    "&=&\\frac{\\Gamma(1-2\\,d)}{\\{\\Gamma(1-d)\\}^2}\\,\\frac{d\\,(1+d)...\\,(k-1+d)}{(1-d)\\,(2-d)\\,...\\,(k-d)}\\nonumber\\\\\n",
    "&\\sim&\\frac{\\Gamma(1-2\\,d)}{\\Gamma(d)\\,\\Gamma(1-d)}\\,\\frac{1}{k^{1-2\\,d}} ~ \\text{ as } k \\to \\infty\n",
    "\\end{eqnarray*}\n",
    "\n",
    "In our notation, $\\rho(\\tau) \\sim \\tau^{-\\alpha}$ so\n",
    "$d=\\frac{1-\\alpha}{2}$.\n",
    "\n",
    "Now invert [(8)](#eq:epsilonEta) to get\n",
    "$$\\epsilon_t=\\eta_t+\\sum_{j=1}^\\infty\\,(-1)^{j-1}\\,\\left(\n",
    "\\begin{array}{c}d\\\\j\n",
    "\\end{array}\n",
    "\\right)\\,\\epsilon_{t-j}.$$"
   ]
  },
  {
   "cell_type": "markdown",
   "metadata": {
    "slideshow": {
     "slide_type": "subslide"
    }
   },
   "source": [
    "Then\n",
    "\n",
    "\n",
    "$$\\hat \\epsilon_t=\\mathbb{E} [\\epsilon_t|\\mathcal{F} _t]=\\sum_{k=1}^p\\,\\phi_k\\,\\epsilon_{t-k}. \\text{ with }\n",
    "\\phi_k=(-1)^{j-1}\\,\\left(\n",
    "\\begin{array}{c}d\\\\j\n",
    "\\end{array}\n",
    "\\right).$$ \n",
    "\n",
    "Finally\n",
    "\n",
    "$$G(k)=\\sum_{j=k+1}^\\infty\\,\\phi_j=\\left(\n",
    "\\begin{array}{c}k-d\\\\k\n",
    "\\end{array}\n",
    "\\right)\\sim \\frac{1}{\\Gamma(1-d)\\,k^d} \\text{ as } k \\to \\infty.$$\n",
    "\n",
    "Thus,\n",
    "the exponent $\\gamma$ of decay of market impact is given by\n",
    "\n",
    "$$\\gamma=d=\\frac{1-\\alpha}{2}.$$\n",
    "\n",
    "<font color=\"red\">The Bouchaud and Lillo formulations are exactly equivalent in this case."
   ]
  },
  {
   "cell_type": "markdown",
   "metadata": {
    "slideshow": {
     "slide_type": "slide"
    }
   },
   "source": [
    "\n",
    "### When is TIM equivalent to HDIM?\n",
    "\n",
    "- [Taranto et al.]<sup id=\"cite_ref-Taranto\" class=\"reference\"><a href=\"#cite_note-Taranto\"><span>[</span>8<span>]</span></a></sup> show that the Bouchaud transient impact (TIM) picture is equivalent to the Lillo-Farmer history dependent impact (HDIM) picture whenever the time series of order signs is generated by a so-called Discrete Autoregressive (DAR) process.\n",
    "\n",
    "\n",
    "- A DAR process may be constructed as follows:\n",
    "    - For each $t$, choose a distance $\\ell >0$ with probability $\\lambda_\\ell$ from a distribution with $\\sum_\\ell \\lambda_\\ell=1$.\n",
    "    - Then \n",
    "    $$\n",
    "    \\epsilon_t = \\left\\{\\begin{array}{ll}\\epsilon_{t-\\ell}&\\text{ with probability } \\rho\\\\\n",
    "    -\\epsilon_{t-\\ell}&\\text{ with probability } 1-\\rho\\end{array}\\right.\n",
    "    $$"
   ]
  },
  {
   "cell_type": "markdown",
   "metadata": {
    "slideshow": {
     "slide_type": "slide"
    }
   },
   "source": [
    "### Including other events\n",
    "\n",
    "Start with the Bouchaud transient impact (TIM) picture again:\n",
    "\n",
    "$$p_t=\\lambda\\,\\sum_{s<t}\\,[G(t-s)\\,\\epsilon_s +\\eta_s]+p_{-\\infty}.$$\n",
    "The <span>*propagator*</span> or <span>*decay kernel*</span> $G(\\cdot)$\n",
    "may be estimated from the correlation function\n",
    "\n",
    "\\begin{eqnarray*}\n",
    "\\mathcal{R} (\\ell)&=&\\langle (p_{t+\\ell}-p_t)\\,\\epsilon_t  \\rangle\\\\\n",
    "&=&\\sum_{0 < n \\leq \\ell}\\,G(n)\\,C(\\ell - n) + \\sum_{n>0}\\left[G(n + \\ell) - G(n)\\right]\\,C(n).\\end{eqnarray*}\n",
    "\n",
    "Then, the second moment of the price difference (variance) may be\n",
    "computed as $$\\mathcal{D} (\\ell)=\\langle (p_{t+\\ell}-p_t)^2\\rangle.$$\n",
    "\n"
   ]
  },
  {
   "cell_type": "markdown",
   "metadata": {
    "slideshow": {
     "slide_type": "slide"
    }
   },
   "source": [
    "### Bouchaud transient impact picture vs observation\n",
    "\n",
    "[Eisler, Bouchaud and Kockelkoren]<sup id=\"cite_ref-EislerEtAl\" class=\"reference\"><a href=\"#cite_note-EislerEtAl\"><span>[</span>4<span>]</span></a></sup> show that the Bouchaud transient impact (TIM) picture is \n",
    "incomplete.\n",
    "\n",
    "<h2><img src=\"http://mfe.baruch.cuny.edu/wp-content/uploads/2015/03/EislerEtAlFigure1.png\" align = \"center\" width=1200></h2>"
   ]
  },
  {
   "cell_type": "markdown",
   "metadata": {
    "slideshow": {
     "slide_type": "slide"
    }
   },
   "source": [
    "### Interpretation\n",
    "\n",
    "The Bouchaud picture is too simplistic\n",
    "\n",
    "-   Market impact varies wildly over time according to the state of the\n",
    "    market (for example the shape of the order book)\n",
    "\n",
    "    -   The history of order flow is not the only determinant of market\n",
    "        impact\n",
    "\n",
    "-   Not only market orders impact the market price; limit orders and\n",
    "    cancelations also impact the price.\n",
    "\n"
   ]
  },
  {
   "cell_type": "markdown",
   "metadata": {
    "slideshow": {
     "slide_type": "slide"
    }
   },
   "source": [
    "### Summary\n",
    "\n",
    "-   Order flow is a long memory process.\n",
    "\n",
    "    -   The dominant effect is order-splitting.\n",
    "\n",
    "-   Market impact is concave due to selective liquidity taking.\n",
    "\n",
    "-   Market impact of market orders can be modeled as:\n",
    "\n",
    "    -   Permanent but state-dependent (Lillo)\n",
    "\n",
    "    -   Transient (Bouchaud)\n",
    "\n",
    "-   Both of these formulations are equivalent."
   ]
  },
  {
   "cell_type": "markdown",
   "metadata": {
    "slideshow": {
     "slide_type": "subslide"
    }
   },
   "source": [
    "-   To get quantitative (as opposed to qualitative) agreement with\n",
    "    observation, in principle we need to take into account\n",
    "\n",
    "    -   Time-varying liquidity\n",
    "\n",
    "    -   Limit orders and cancelations\n",
    "     \n",
    "-  In practice, it seems (see [Taranto et al.]<sup id=\"cite_ref-Taranto\" class=\"reference\"><a href=\"#cite_note-Taranto\"><span>[</span>8<span>]</span></a></sup>) that distinguishing between market orders that change the price and orders that result in no price change is enough for a surprisingly accurate description of market impact."
   ]
  },
  {
   "cell_type": "markdown",
   "metadata": {
    "slideshow": {
     "slide_type": "slide"
    }
   },
   "source": [
    "### References\n",
    "<br />\n",
    "\n",
    "<div class=\"reflist\" style=\"list-style-type: decimal;\">\n",
    "\n",
    "<ol>\n",
    "\n",
    "  <li id=\"cite_note-BershovaRakhlin\"><span class=\"mw-cite-backlink\"><b><a href=\"#cite_ref-BershovaRakhlin\">^</a></b></span>Nataliya Bershova and Dmitry Rakhlin, The\n",
    "Non-Linear Market Impact of Large Trades: Evidence from Buy-Side Order\n",
    "Flow, <span>*Quantitative Finance*</span> <span>**13**</span>(11)\n",
    "1759–1778 (2013). \n",
    "  </li>\n",
    "\n",
    "  <li id=\"cite_note-BouchaudFarmerLillo\"><span class=\"mw-cite-backlink\"><b><a href=\"#cite_ref-BouchaudFarmerLillo\">^</a></b></span>Jean-Philippe Bouchaud, J. Doyne Farmer, and\n",
    "Fabrizio Lillo, How Markets Slowly Digest Changes in Supply and Demand,\n",
    "in <span>*Handbook of Financial Markets: Dynamics and Evolution*</span>\n",
    "57–156. (2009) available at\n",
    "http://tuvalu.santafe.edu/%7Ejdf/papers/MarketsSlowlyDigest.pdf:\n",
    "Sections 4, 5 and 6. \n",
    "  </li>\n",
    "    \n",
    "  <li id=\"cite_note-BouchaudEtAl\"><span class=\"mw-cite-backlink\"><b><a href=\"#cite_ref-BouchaudEtAl\">^</a></b></span>Jean-Philippe Bouchaud, Yuval Gefen, Marc Potters and Matthieu Wyart, Fluctuations and response in financial markets: the subtle nature of random price changes, <span>*Quantitative Finance*<span> <span>**4**</span>(2) 176--190 (2004). \n",
    "  </li>\n",
    "  \n",
    "  <li id=\"cite_note-EislerEtAl\"><span class=\"mw-cite-backlink\"><b><a href=\"#cite_ref-EislerEtAl\">^</a></b></span>Zoltán Eisler, Jean-Philippe\n",
    "Bouchaud, and Julien Kockelkoren, The price impact of order book events: market orders, limit orders and cancellations, *Quantitative Finance* **12**(9) 1395-1419 (2012).\n",
    "  </li>\n",
    "  \n",
    "\n",
    "  \n",
    "  <li id=\"cite_note-Hopman\"><span class=\"mw-cite-backlink\"><b><a href=\"#cite_ref-Hopman\">^</a></b></span>Carl Hopman, Do supply and demand drive stock prices?,\n",
    "<span>*Quantitative Finance*</span> <span>**7**</span>(1) 37–53 (2007). \n",
    "  </li>\n",
    "  \n",
    "  <li id=\"cite_note-LilloMikeFarmer\"><span class=\"mw-cite-backlink\"><b><a href=\"#cite_ref-LilloMikeFarmer\">^</a></b></span>Fabrizio Lillo, Szabolcs Mike, and J Doyne\n",
    "Farmer, Theory for long memory in supply and demand, <span>*Phys. Rev.\n",
    "E*</span> <span>**71**</span>(6) 66122 (2005). \n",
    "  </li>\n",
    "  \n",
    "  <li id=\"cite_note-SadTaqqu\"><span class=\"mw-cite-backlink\"><b><a href=\"#cite_ref-SadTaqqu\">^</a></b></span>Gennady Samorodnitsky, Murad S. Taqqu,\n",
    "<span>*Stable non-Gaussian random processes: stochastic models with\n",
    "infinite variance*</span>, Chapman and Hall (1994). \n",
    "  </li>\n",
    "  \n",
    "<li id=\"cite_note-Taranto\"><span class=\"mw-cite-backlink\"><b><a href=\"#cite_ref-Taranto\">^</a></b></span>  Damian Eduardo Taranto, Giacomo Bormetti, Jean-Philippe Bouchaud, Fabrizio Lillo, and Bence Toth, Linear models for the impact of order flow on prices I. Propagators: Transient vs. History Dependent Impact, *Quantitative Finance* forthcoming (2018).\n",
    "</li>\n",
    "  \n",
    "  <li id=\"cite_note-TothLillo\"><span class=\"mw-cite-backlink\"><b><a href=\"#cite_ref-TothLillo\">^</a></b></span>Bence Tóth, Imon Palit, Fabrizio Lillo, and J Doyne\n",
    "Farmer, Why is order flow so persistent?, <span>*Journal of Economic Dynamics and Control*</span> (51) 218-239 (2015). \n",
    "  </li>\n",
    "  \n",
    "</ol>"
   ]
  },
  {
   "cell_type": "code",
   "execution_count": null,
   "metadata": {
    "collapsed": true
   },
   "outputs": [],
   "source": []
  }
 ],
 "metadata": {
  "celltoolbar": "Slideshow",
  "kernelspec": {
   "display_name": "R",
   "language": "R",
   "name": "ir"
  },
  "language_info": {
   "codemirror_mode": "r",
   "file_extension": ".r",
   "mimetype": "text/x-r-source",
   "name": "R",
   "pygments_lexer": "r",
   "version": "3.3.1"
  }
 },
 "nbformat": 4,
 "nbformat_minor": 1
}
