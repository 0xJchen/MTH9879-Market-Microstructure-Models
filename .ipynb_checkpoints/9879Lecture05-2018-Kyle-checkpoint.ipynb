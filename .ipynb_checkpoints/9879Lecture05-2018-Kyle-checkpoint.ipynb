{
 "cells": [
  {
   "cell_type": "markdown",
   "metadata": {
    "slideshow": {
     "slide_type": "slide"
    }
   },
   "source": [
    "## MTH 9879 Market Microstructure Models,    Spring 2018\n",
    "\n",
    "<P>\n",
    "\n",
    "### Lecture 5: Price formation under asymmetric information: The Kyle model\n",
    "\n",
    "<p>\n",
    "Jim Gatheral   \n",
    "Department of Mathematics   \n",
    "  \n",
    "  \n",
    "<h3><img src=\"http://mfe.baruch.cuny.edu/wp-content/uploads/2016/04/MFE-Logo.jpg\" align = \"right\" width=500></h3>\n",
    "\n",
    "\n",
    "\n",
    "$$\n",
    "\\newcommand{\\bea}{\\begin{eqnarray}}\n",
    "\\newcommand{\\eea}{\\end{eqnarray}}\n",
    "\\newcommand{\\supp}{\\mathrm{supp}}\n",
    "\\newcommand{\\F}{\\mathcal{F} }\n",
    "\\newcommand{\\cF}{\\mathcal{F} }\n",
    "\\newcommand{\\E}{\\mathbb{E} }\n",
    "\\newcommand{\\Eof}[1]{\\mathbb{E}\\left[ #1 \\right]}\n",
    "\\def\\Cov{{ \\mbox{Cov} }}\n",
    "\\def\\Var{{ \\mbox{Var} }}\n",
    "\\newcommand{\\1}{\\mathbf{1} }\n",
    "\\newcommand{\\p}{\\partial}\n",
    "\\newcommand{\\PP}{\\mathbb{P} }\n",
    "\\newcommand{\\Pof}[1]{\\mathbb{P}\\left[ #1 \\right]}\n",
    "\\newcommand{\\QQ}{\\mathbb{Q} }\n",
    "\\newcommand{\\R}{\\mathbb{R} }\n",
    "\\newcommand{\\DD}{\\mathbb{D} }\n",
    "\\newcommand{\\HH}{\\mathbb{H} }\n",
    "\\newcommand{\\spn}{\\mathrm{span} }\n",
    "\\newcommand{\\cov}{\\mathrm{cov} }\n",
    "\\newcommand{\\HS}{\\mathcal{L}_{\\mathrm{HS}} }\n",
    "\\newcommand{\\Hess}{\\mathrm{Hess} }\n",
    "\\newcommand{\\trace}{\\mathrm{trace} }\n",
    "\\newcommand{\\cL}{\\mathcal{L} }\n",
    "\\newcommand{\\cG}{\\mathcal{G} }\n",
    "\\newcommand{\\Xv}{X^{(v)}}\n",
    "\\newcommand{\\s}{\\mathcal{S} }\n",
    "\\newcommand{\\cE}{\\mathcal{E} }\n",
    "\\newcommand{\\ff}{\\mathcal{F} }\n",
    "\\newcommand{\\hh}{\\mathcal{H} }\n",
    "\\newcommand{\\bb}{\\mathcal{B} }\n",
    "\\newcommand{\\dd}{\\mathcal{D} }\n",
    "\\newcommand{\\g}{\\mathcal{G} }\n",
    "\\newcommand{\\half}{\\frac{1}{2} }\n",
    "\\newcommand{\\T}{\\mathcal{T} }\n",
    "\\newcommand{\\bit}{\\begin{itemize}}\n",
    "\\newcommand{\\eit}{\\end{itemize}}\n",
    "\\newcommand{\\beq}{\\begin{equation}}\n",
    "\\newcommand{\\eeq}{\\end{equation}}\n",
    "\\newcommand{\\beas}{\\begin{eqnarray*}}\n",
    "\\newcommand{\\eeas}{\\end{eqnarray*}}\n",
    "\\newcommand{\\tr}{\\mbox{tr}}\n",
    "\\newcommand{\\ee}[1]{{\\mathbb{E}\\left[{#1}\\right]}}\n",
    "\\newcommand{\\eef}[1]{{\\mathbb{E}\\left[\\left.{#1}\\right|\\cF_t\\right]}}\n",
    "\\newcommand{\\eefm}[2]{{\\mathbb{E}^{#2}\\left[\\left.{#1}\\right|\\cF_t\\right]}}\n",
    "\\newcommand{\\angl}[1]{{\\langle{#1}\\rangle}}\n",
    "$$\n",
    "\n"
   ]
  },
  {
   "cell_type": "markdown",
   "metadata": {
    "slideshow": {
     "slide_type": "slide"
    }
   },
   "source": [
    "## Outline of Lecture 5\n",
    "\n",
    "-   Bayesian learning\n",
    "\n",
    "-   Asymmetric information\n",
    "\n",
    "-   Equilibrium price under naïve expectations\n",
    "\n",
    "-   Asymmetric information under perfect competition: The\n",
    "    Grossman-Stiglitz (1980) model\n",
    "\n",
    "-   Rational expectations with strategic traders under imperfect\n",
    "    competition: The Kyle model\n",
    "\n",
    "-   Linear regression and rational expectations\n",
    "\n"
   ]
  },
  {
   "cell_type": "markdown",
   "metadata": {
    "slideshow": {
     "slide_type": "slide"
    }
   },
   "source": [
    "### Price formation\n",
    "\n",
    "-   According to classical economics, supply and demand are matched at\n",
    "    the efficient price (though the mechanism is unclear). Information\n",
    "    is symmetric.\n",
    "\n",
    "\n",
    "-   In reality, some traders have more or better information than\n",
    "    others. That is, information is asymmetric.\n",
    "\n",
    "    -   Even in a purely mechanical model such as ZI, there are trading\n",
    "        signals. Faster and better traders have an advantage.\n",
    "\n",
    "    -   This informational advantage requires investment. For example,\n",
    "        gaining a latency advantage requires colocation.\n",
    "\n",
    "\n",
    "-   How does this information get impounded into prices?\n",
    "\n"
   ]
  },
  {
   "cell_type": "markdown",
   "metadata": {
    "slideshow": {
     "slide_type": "slide"
    }
   },
   "source": [
    "### CARA utility again\n",
    "\n",
    "-   <span>CARA stands for *<span>Constant Absolute Risk\n",
    "    Aversion</span>*</span>.\n",
    "\n",
    "\n",
    "-   <span>The utility function is $$U(W)=-e^{-\\lambda\\,W}$$ </span>\n",
    "\n",
    "\n",
    "-   <span>If $W$ is normally distributed,\n",
    "    $$\\mathbb{E} \\left[U(W)\\right]=\\mathbb{E} \\left[-e^{-\\alpha\\,W}\\right]=-\\exp\\left\\{-\\alpha\\,\\left(\\mathbb{E} [W]-\\alpha/2\\,\\mbox{Var}[W]\\right)\\right\\}$$\n",
    "    so maximizing CARA utility is equivalent to maximizing\n",
    "    $$\\mathcal{L} (W)=\\mathbb{E} [W]-\\alpha/2\\,\\mbox{Var}[W]$$ which is just\n",
    "    mean-variance optimization. </span>\n",
    "\n",
    "\n",
    "-   <span>$\\mathbb{E} [W]-\\alpha/2\\,\\mbox{Var}[W]$ is called the\n",
    "    <span>*certainty equivalent*</span> of $W$.</span>\n",
    "\n"
   ]
  },
  {
   "cell_type": "markdown",
   "metadata": {
    "slideshow": {
     "slide_type": "slide"
    }
   },
   "source": [
    "### Trader demand under CARA utility\n",
    "\n",
    "Let $p$ be the current asset price and $\\tilde S$ be the terminal asset\n",
    "price with $\\tilde S \\sim N(\\mu,\\sigma^2)$.\n",
    "\n",
    "The trader is assumed to maximize utility of terminal wealth\n",
    "$W=y\\,(\\tilde S-p)$:\n",
    "\n",
    "\\begin{eqnarray*}\n",
    "0&=&\\partial_y\\,\\left\\{\\mathbb{E} [y\\,(\\tilde S-p)]-\\frac 12\\,\\alpha\\,\\mbox{Var}[y\\,\\tilde S]\\right\\}\\\\\n",
    "&=&\\partial_y\\,\\left\\{y\\,(\\mu-p)-\\frac 12\\,\\alpha\\,y^2\\,\\sigma^2\\right\\}\\\\\n",
    "&=&\\mu-p-\\alpha\\,y\\,\\sigma^2\\end{eqnarray*}"
   ]
  },
  {
   "cell_type": "markdown",
   "metadata": {
    "slideshow": {
     "slide_type": "subslide"
    }
   },
   "source": [
    "Then the optimal trader demand $y$ is given by\n",
    "$$y=\\frac{\\mathbb{E} [\\tilde S]-p}{\\alpha\\,\\sigma^2}=\\frac{\\mu-p}{\\alpha\\,\\sigma^2}.$$"
   ]
  },
  {
   "cell_type": "markdown",
   "metadata": {
    "slideshow": {
     "slide_type": "slide"
    }
   },
   "source": [
    "### Bayes’ Rule for continuous random variables\n",
    "\n",
    "-   Suppose the trader has a prior belief on the parameter $ y$\n",
    "    described by the distribution $g( y)$.\n",
    "\n",
    "\n",
    "-   This trader then makes an observation $x$ (such as a trade price).\n",
    "\n",
    "    -   Denote the conditional density of $x$ by $f(x| y)$.\n",
    "\n",
    "\n",
    "-   Then because $$g( y|x)\\,f(x)=f(x| y)\\,g( y),$$ we have"
   ]
  },
  {
   "cell_type": "markdown",
   "metadata": {
    "slideshow": {
     "slide_type": "subslide"
    }
   },
   "source": [
    "#### <font color=\"red\"> Bayes’ Rule\n",
    "    \n",
    "<font color=\"red\"><a name=\"eq:BayesCts\"></a>(1)\n",
    "    $$g( y|x)=\\frac{f(x| y)\\,g( y)}{f(x)}=\\frac{f(x| y)\\,g( y)}{\\int\\,f(x| y)\\,g( y)\\,d y}$$"
   ]
  },
  {
   "cell_type": "markdown",
   "metadata": {
    "slideshow": {
     "slide_type": "slide"
    }
   },
   "source": [
    "### Bayes’ Rule for normal random variables\n",
    "\n",
    "Suppose\n",
    "\n",
    "$$g( y)=\\frac{1}{\\sqrt{2\\,\\pi}\\,\\sigma_ y}\\,\\exp\\left\\{-\\frac{( y-\\bar y)^2}{2\\,\\sigma_ y^2}\\right\\}$$\n",
    "\n",
    "and\n",
    "\n",
    "$$f(x| y)=\\frac{1}{\\sqrt{2\\,\\pi}\\,\\sigma_x}\\,\\exp\\left\\{-\\frac{(x- y)^2}{2\\,\\sigma_x^2}\\right\\}.$$"
   ]
  },
  {
   "cell_type": "markdown",
   "metadata": {
    "slideshow": {
     "slide_type": "subslide"
    }
   },
   "source": [
    "Substituting into [(1)](#eq:BayesCts) gives\n",
    "\n",
    "$$g( y|x)=\\sqrt{\\frac{\\tau_ y+\\tau_x}{2\\,\\pi}}\\,\\exp\\left\\{-\\frac{\\left( y - \\beta \\,x - (1-\\beta)\\,\\bar y\\right)^2}{2\\,(1-\\beta)\\,\\sigma_ y^2}\\right\\}$$\n",
    "\n",
    "where $\\tau_i={1}/{\\sigma_i^2}$ is <span>*precision*</span> and\n",
    "\n",
    "$$\\beta=\\frac{\\tau_x}{\\tau_ y+\\tau_x}.$$"
   ]
  },
  {
   "cell_type": "markdown",
   "metadata": {
    "slideshow": {
     "slide_type": "slide"
    }
   },
   "source": [
    "### The filter (a simple Kalman filter)\n",
    "\n",
    "<p>\n",
    "\n",
    "<font color=\"red\">So, if $ y \\sim N(\\bar y,\\sigma_ y^2)$ and $x| y \\sim N( y,\\sigma_x^2)$,</font>\n",
    "<br>\n",
    "\n",
    "<font color=\"red\"><a name=\"eq:normalFilter\"></a>\n",
    "(2)\n",
    "$$y|x \\sim N(\\beta\\,x+(1-\\beta)\\,\\bar y,(1-\\beta)\\,\\sigma_ y^2)$$\n",
    "</font>"
   ]
  },
  {
   "cell_type": "markdown",
   "metadata": {
    "slideshow": {
     "slide_type": "subslide"
    }
   },
   "source": [
    "-   If both prior and observation distributions are normal, the\n",
    "    posterior distribution will also be normal.\n",
    "\n",
    "    -   The mean of the posterior distribution is a linear combination\n",
    "        of the prior mean and the observation, with weights proportional\n",
    "        to their precisions.\n",
    "\n",
    "    -   The variance of the posterior is lower than both the variance of\n",
    "        the prior and the variance of the measurement.\n",
    "\n",
    "\n",
    "-   As we make more observations, the true value of the variable of\n",
    "    interest is progressively revealed."
   ]
  },
  {
   "cell_type": "markdown",
   "metadata": {
    "slideshow": {
     "slide_type": "slide"
    }
   },
   "source": [
    "### A model with asymmetric information\n",
    "\n",
    "-   Consider a model with a single risky asset (a stock).\n",
    "\n",
    "\n",
    "-   There are $N_i$ informed traders, $N_u$ uninformed traders, and\n",
    "    $N_z$ noise traders. They have demand functions $y_i$, $y_u$ and\n",
    "    $y_z$ respectively with $$y_z \\sim N(0,\\sigma_z^2).$$\n",
    "\n",
    "\n",
    "-   Agents hold a prior distribution on the expected future value\n",
    "    $\\tilde S$ of the asset: $$\\tilde S \\sim N(\\mu,\\sigma^2).$$"
   ]
  },
  {
   "cell_type": "markdown",
   "metadata": {
    "slideshow": {
     "slide_type": "subslide"
    }
   },
   "source": [
    "-   Agents do not take into account market impact when trading.\n",
    "\n",
    "\n",
    "-   At time $t=0$, informed traders receive a signal $x$ on $\\tilde S$ which\n",
    "    is drawn from the distribution\n",
    "    $$x|\\tilde S \\sim N(\\tilde S,\\sigma_x^2)$$"
   ]
  },
  {
   "cell_type": "markdown",
   "metadata": {
    "slideshow": {
     "slide_type": "slide"
    }
   },
   "source": [
    "### Computation of trader demands for the asset\n",
    "\n",
    "-   As above, an application of Bayes’ Rule then shows that\n",
    "    $$\\tilde S|x \\sim N(\\beta\\,x+(1-\\beta)\\,\\mu,(1-\\beta)\\,\\sigma^2)$$\n",
    "    with $$\\beta=\\frac{\\tau_x}{\\tau_S+\\tau_x}$$\n",
    "\n",
    "\n",
    "-   At $t=1$, trading takes place."
   ]
  },
  {
   "cell_type": "markdown",
   "metadata": {
    "slideshow": {
     "slide_type": "subslide"
    }
   },
   "source": [
    "-   Optimal trader demand assuming CARA utility (see above) is given by\n",
    "    $$y_u=\\frac{\\mathbb{E} [\\tilde S]-p}{\\alpha\\,\\mbox{Var}[\\tilde S]};\\,y_i=\\frac{\\mathbb{E} [\\tilde S|x]-p}{\\alpha\\,\\mbox{Var}[\\tilde S|x]}$$\n",
    "\n",
    "\n",
    "-   At $t=2$, the value of the asset is revealed and becomes public\n",
    "    information."
   ]
  },
  {
   "cell_type": "markdown",
   "metadata": {
    "slideshow": {
     "slide_type": "slide"
    }
   },
   "source": [
    "### Equilibrium price under naïve expectations\n",
    "\n",
    "The market clearing condition is just \n",
    "\n",
    "$$N_i\\,y_i+N_u\\,y_u+N_z\\,y_z=0$$\n",
    "\n",
    "so\n",
    "\n",
    "$$N_i\\,\\frac{\\mathbb{E} [\\tilde S|x]-p}{\\alpha\\,\\mbox{Var}[\\tilde S|x]}+N_u\\,\\frac{\\mathbb{E} [\\tilde S]-p}{\\alpha\\,\\mbox{Var}[\\tilde S]}+N_z\\,y_z=0$$"
   ]
  },
  {
   "cell_type": "markdown",
   "metadata": {
    "slideshow": {
     "slide_type": "subslide"
    }
   },
   "source": [
    "\n",
    "Solving for $p$ gives an expression of the form\n",
    "\n",
    "$$p=\\theta\\,\\mathbb{E} [\\tilde S|x]+(1-\\theta)\\,\\mu+\\lambda\\,y_z$$\n",
    "\n",
    "Substituting $\n",
    "\\mathbb{E} [\\tilde S|x]=\\beta\\,x+(1-\\beta)\\,\\mu=\\mu+\\beta\\,(x-\\mu)\n",
    "$ gives\n",
    "\n",
    "<a name=\"eq:pNaive\"></a>(3)\n",
    "$$p=\\mu+\\beta\\,\\theta\\,(x-\\mu)+\\lambda\\,y_z$$"
   ]
  },
  {
   "cell_type": "markdown",
   "metadata": {
    "slideshow": {
     "slide_type": "subslide"
    }
   },
   "source": [
    "The last term in [(3)](#eq:pNaive) is just noise and the product $\\beta\\,\\theta \\leq 1$ so\n",
    "the equilibrium price $p$ is a noisy version of the signal $x$.\n",
    "\n",
    "-   If there are only informed traders, $p=\\mathbb{E} [\\tilde S|x]$.\n",
    "\n",
    "-   If there are only uninformed traders, $p=\\mathbb{E} [\\tilde S]=\\mu$.\n",
    "\n",
    "-   If there are only noise traders, the price is undetermined.\n",
    "\n",
    "In this version of the model, uninformed traders don’t update their\n",
    "prior using information contained in the market price. That’s why this\n",
    "equilibrium is termed <span>*naïve*</span>.\n",
    "\n",
    "-   Let’s now see what happens under rational expectations.\n",
    "\n"
   ]
  },
  {
   "cell_type": "markdown",
   "metadata": {
    "slideshow": {
     "slide_type": "slide"
    }
   },
   "source": [
    "### Grossman and Stiglitz (1980)\n",
    "\n",
    "-   The setup is as before: Both $\\mathcal{I} $ and $\\mathcal{U} $ have\n",
    "    CARA utility, $\\tilde S \\sim N(\\mu,\\sigma^2)$ is unknown, and\n",
    "    $\\mathcal{I} $ receives a signal $x \\sim N(\\tilde S, \\sigma_x^2)$.\n",
    "\n",
    "\n",
    "-   In contrast to the naïve equilibrium case however, $\\mathcal{U} $\n",
    "    updates his prior after observing the market price. Quoting Grossman\n",
    "    and Stiglitz (but with our notation),\n",
    "\n",
    "    > If over time uninformed traders observe many realizations of\n",
    "    > $\\{\\tilde S, p\\}$, then they learn the joint distribution of\n",
    "    > $\\{\\tilde S, p\\}$. After all learning about the joint distribution\n",
    "    > of $\\{\\tilde S, p\\}$ ceases, all traders will make allocations and\n",
    "    > form expectations such that this joint distribution persists over\n",
    "    > time.\n",
    "\n"
   ]
  },
  {
   "cell_type": "markdown",
   "metadata": {
    "slideshow": {
     "slide_type": "slide"
    }
   },
   "source": [
    "### Fully revealing rational expectations equilibrium (REE)\n",
    "\n",
    "-   From equation [(3)](#eq:pNaive), with no noise trading ($y_z=0$),\n",
    "<p>\n",
    "    $$p=\\mu+\\beta\\,\\theta\\,(x-\\mu)$$ \n",
    "<p>    so $\\mathcal{U} $ can obtain the\n",
    "    value of $x$ by regression.\n",
    "\n",
    "-   The informed trader $\\mathcal I$’s signal $x$ can be perfectly inferred by\n",
    "    $\\mathcal{U} $ from the price $p$.\n",
    "\n",
    "    -   Thus the equilibrium is <span>*fully revealing*</span>.\n",
    "\n",
    "    -   $y_i=y_u=0$ and there is no trading."
   ]
  },
  {
   "cell_type": "markdown",
   "metadata": {
    "slideshow": {
     "slide_type": "subslide"
    }
   },
   "source": [
    "-   The equilibrium price is given by\n",
    "\n",
    "    <a name=\"eq:pREE\"></a>(4)\n",
    "    $$p=\\mathbb{E} [\\tilde S|x].$$\n",
    "\n",
    "\n",
    "-   Prices are strong-form efficient because they fully incorporate\n",
    "    public and private information."
   ]
  },
  {
   "cell_type": "markdown",
   "metadata": {
    "slideshow": {
     "slide_type": "slide"
    }
   },
   "source": [
    "### The need for noise traders\n",
    "\n",
    "-   The realization that under the Efficient Markets hypothesis,\n",
    "    uninformed traders can learn the signal at zero cost from the market\n",
    "    price was the motivation for Grossman and Stiglitz (1980) to\n",
    "    introduce a random noise trader demand $y_z$.\n",
    "\n",
    "    -   If all information is fully impounded in the price, informed\n",
    "        traders conclude they should pay nothing for information. But\n",
    "        then there are no informed traders and there is no equilibrium.\n",
    "\n",
    "    -   Having no one informed is also not an equilibrium, because then\n",
    "        each trader, taking the price as given, feels that there are\n",
    "        profits to be made from becoming informed."
   ]
  },
  {
   "cell_type": "markdown",
   "metadata": {
    "slideshow": {
     "slide_type": "subslide"
    }
   },
   "source": [
    "-   With the random demand $y_z$, the market clearing condition becomes\n",
    "\n",
    "    <a name=\"eq:GS80-2\"></a>(5)\n",
    "    $$y_u+y_i+y_z=0$$\n",
    "\n",
    "    and $x$ can no longer be inferred perfectly from $p$."
   ]
  },
  {
   "cell_type": "markdown",
   "metadata": {
    "slideshow": {
     "slide_type": "slide"
    }
   },
   "source": [
    "### Another quote from Grossman and Stiglitz\n",
    "\n",
    "> The only way informed traders can earn a return on their activity of\n",
    "> information gathering, is if they can use their information to take\n",
    "> positions in the market which are “better” than the positions of\n",
    "> uninformed traders. “Efficient Markets” theorists have claimed that\n",
    "> “at any time prices fully reflect all available information” (see\n",
    "> Eugene Fama, p. 383). If this were so then informed traders could not\n",
    "> earn a return on their information.\n",
    "\n"
   ]
  },
  {
   "cell_type": "markdown",
   "metadata": {
    "slideshow": {
     "slide_type": "slide"
    }
   },
   "source": [
    "### Imperfect vs perfect competition\n",
    "\n",
    "Grossman and Stiglitz assume perfect competition. Under this assumption,\n",
    "traders are schizophrenic:\n",
    "\n",
    "-   They don’t consider the effect of their own trades on the market\n",
    "    price.\n",
    "\n",
    "Kyle addressed this problem by introducing the notion of\n",
    "<span>*imperfect competition*</span>. With this assumption\n",
    "\n",
    "-   Traders do factor in the effect of their trading on the market\n",
    "    price.\n",
    "\n",
    "-   Prices cannot reveal more than half the information available to\n",
    "    insiders (at least in the one-step model)."
   ]
  },
  {
   "cell_type": "markdown",
   "metadata": {
    "slideshow": {
     "slide_type": "subslide"
    }
   },
   "source": [
    "To quote Kyle:\n",
    "\n",
    "> ...the competitive rational expectations concept requires each trader\n",
    "> to behave “schizophrenically” by taking the equilibrium price as given\n",
    "> when making his trading decision, even though he influences that price\n",
    "> when he trades."
   ]
  },
  {
   "cell_type": "markdown",
   "metadata": {
    "slideshow": {
     "slide_type": "slide"
    }
   },
   "source": [
    "### Kyle (1985)\n",
    "\n",
    "-   There is a single informed trader who trades strategically.\n",
    "\n",
    "    -   When computing his optimal course of action, this trader takes\n",
    "        into account the rational reactions of other traders.\n",
    "\n",
    "\n",
    "-   This informed trader sets his trade sizes taking cost of execution\n",
    "    into account."
   ]
  },
  {
   "cell_type": "markdown",
   "metadata": {
    "slideshow": {
     "slide_type": "subslide"
    }
   },
   "source": [
    "-   In the multiperiod version, the trader can return to the market,\n",
    "    spreading out his trades over time.\n",
    "\n",
    "    -   This feature of the model is particularly relevant now with\n",
    "        small ticks and fragmented markets leading to only very small\n",
    "        size typically available on each side of the market.\n",
    "\n",
    "    -   A trader with large size to trade must split the trade into\n",
    "        smaller pieces."
   ]
  },
  {
   "cell_type": "markdown",
   "metadata": {
    "slideshow": {
     "slide_type": "slide"
    }
   },
   "source": [
    "### Kyle model setup\n",
    "\n",
    "-   One asset economy.\n",
    "\n",
    "\n",
    "-   One informed trader, a group of risk-neutral market makers, and a\n",
    "    group of uninformed (liquidity) traders.\n",
    "\n",
    "\n",
    "-   At time $t=0$, the informed trader (insider) discovers what the\n",
    "    final price $\\tilde S$ will be.\n",
    "\n",
    "\n",
    "-   All traders know the distribution of $\\tilde S$:\n",
    "    $$\\tilde S \\sim N(\\mu,\\sigma^2).$$\n",
    "\n",
    "\n",
    "-   At time $t=1$, uninformed (liquidity) traders submit a random net\n",
    "    demand $y_u \\sim N(0,\\sigma_u^2)$, independent of $\\tilde S$.\n",
    "\n"
   ]
  },
  {
   "cell_type": "markdown",
   "metadata": {
    "slideshow": {
     "slide_type": "subslide"
    }
   },
   "source": [
    "\n",
    "-   Competition drives market makers to offer the price function\n",
    "  <p>\n",
    "  $$p(y)=\\mathbb{E} [\\tilde S|y]$$\n",
    "  <p>\n",
    "  so that expected profits are\n",
    "  <p>\n",
    "    $$\\mathbb{E} [(p(y)-\\tilde S)\\,y|y]=0.$$\n",
    "    <p>\n",
    "\n",
    "    -   The market makers know that there are informed traders.\n",
    "\n",
    "    -   However, they see only the aggregate order flow $y=y_i+y_u$.\n",
    "        They cannot distinguish between informed and uninformed flow."
   ]
  },
  {
   "cell_type": "markdown",
   "metadata": {
    "slideshow": {
     "slide_type": "subslide"
    }
   },
   "source": [
    "-   If there were no informed traders, the price function would be\n",
    "\n",
    "    <p>\n",
    "    $$p(y)=\\mathbb{E} [\\tilde S|y_u]=\\mathbb{E} [\\tilde S]=\\mu$$ <p> \n",
    "which is independent of size so the market would be infinitely deep."
   ]
  },
  {
   "cell_type": "markdown",
   "metadata": {
    "slideshow": {
     "slide_type": "slide"
    }
   },
   "source": [
    "### A market mechanism\n",
    "\n",
    "-   In the above, we just assume that the market mechanism will drive\n",
    "    market maker profits to zero (<span>*perfect competition*</span>).\n",
    "\n",
    "\n",
    "-   On page 137 of [Foucault, Pagano and Röell]<sup id=\"cite_ref-FPR\" class=\"reference\"><a href=\"#cite_note-FPR\"><span>[</span>2<span>]</span></a></sup>, there is a nice explanation of a possible\n",
    "    mechanism by which perfect competition might be achieved:\n",
    "\n",
    "    -   The entire order flow $y = y_i+y_u$ is displayed to the market\n",
    "        makers.\n",
    "\n",
    "    -   Each market maker responds with his price for executing the\n",
    "        order in full. The entire flow will be routed to the market\n",
    "        maker with the best price.\n",
    "\n",
    "    -   Market makers undercut each other until the zero-profit price\n",
    "        $p(y)=\\mathbb{E} [\\tilde S|y]$ is reached."
   ]
  },
  {
   "cell_type": "markdown",
   "metadata": {
    "slideshow": {
     "slide_type": "subslide"
    }
   },
   "source": [
    "-   Note that the price achieved depends in general on the market\n",
    "    mechanism."
   ]
  },
  {
   "cell_type": "markdown",
   "metadata": {
    "slideshow": {
     "slide_type": "slide"
    }
   },
   "source": [
    "### Characterization of equilibrium\n",
    "\n",
    "Traders are risk-neutral. In equilibrium,\n",
    "\n",
    "-   Market makers ($\\mathcal{M} $) maximize expected profits (in fact, market makers \"set price\" because under perfect competition they have zero expected profit) conditional\n",
    "    on the observed order flow.\n",
    "\n",
    "    -   The order flow has an informed component so $\\mathcal{M} $ can\n",
    "        extract information about the price.\n",
    "\n",
    "\n",
    "-   The informed trader ($\\mathcal{I} $) sets $y_i$ so as to maximize\n",
    "    his expected profit given his rational expectation of the impact of\n",
    "    his order on the market price.\n",
    "\n",
    "    -   $\\mathcal{I} $ knows that his order flow will end up giving\n",
    "        information to $\\mathcal{M} $.\n",
    "\n"
   ]
  },
  {
   "cell_type": "markdown",
   "metadata": {
    "slideshow": {
     "slide_type": "subslide"
    }
   },
   "source": [
    "### The informed trader’s strategy\n",
    "\n",
    "-   $\\mathcal{I} $ chooses his demand function $y_i$ so as to maximize\n",
    "    his expected profit $$\\mathbb{E} [y_i\\,(\\tilde S-p(y))|\\tilde S].$$\n",
    "    His optimal strategy thus depends on $p(y)$.\n",
    "\n",
    "\n",
    "-   $\\mathcal{I} $ conjectures that the pricing function set by\n",
    "    $\\mathcal{M} $ is of the form $$p(y)=\\mu+\\lambda\\,y, $$\n",
    "    i.e., half spread is proportional to the total demand. "
   ]
  },
  {
   "cell_type": "markdown",
   "metadata": {
    "slideshow": {
     "slide_type": "subslide"
    }
   },
   "source": [
    "-   $\\mathcal{I} $’s expected profit is then <p>\n",
    "    $$\n",
    "    \\beas\n",
    "    \\mathbb{E} [y_i\\,(\\tilde S-p(y))|\\tilde S] &=& \\mathbb{E} [y_i\\,(\\tilde S- \\mu - \\lambda(y_i + y_u))|\\tilde S]\\\\ &=& y_i\\,(\\tilde S-\\mu-\\lambda\\,y_i)\n",
    "    \\eeas$$ <p>\n",
    "    since the uninformed demand $y_u$ is independent of $\\tilde S$ and has mean 0.\n",
    "\n",
    "\n",
    "-   Maximizing with respect to $y_i$ then gives $\\mathcal{I} $’s optimal demand as\n",
    "    $$y_i=\\frac{\\tilde S-\\mu}{2\\,\\lambda}.$$"
   ]
  },
  {
   "cell_type": "markdown",
   "metadata": {
    "slideshow": {
     "slide_type": "slide"
    }
   },
   "source": [
    "### The Kyle lambda\n",
    "\n",
    "-   Recall that $$p(y)=\\mu+\\lambda\\,y.$$\n",
    "\n",
    "\n",
    "-   The <span>*Kyle lambda*</span> $\\lambda$ is a measure of market\n",
    "    liquidity;\n",
    "\n",
    "    -   The lower $\\lambda$ is, the more liquid the market.\n",
    "\n",
    "    -   Equivalently, $\\lambda$ is a market impact coefficient in a\n",
    "        linear model of market impact. The higher $\\lambda$ is, the\n",
    "        greater the market impact of a trade.\n",
    "\n",
    "    -   The Kyle lambda may be viewed as the definition of a market\n",
    "        statistic. Empirically, $\\lambda$ is the slope in a linear\n",
    "        regression of $p$ against $y$."
   ]
  },
  {
   "cell_type": "markdown",
   "metadata": {
    "slideshow": {
     "slide_type": "subslide"
    }
   },
   "source": [
    "Quote from Kyle (1985)\n",
    "\n",
    "> Roughly speaking, Black defines a liquid market as one which is almost infinitely tight, which is not infinitely deep, and which is resilient enough so that prices eventually tend to their underlying value. \n",
    "\n",
    "> Our continuous auction equilibrium has exactly the characteristics described by Black. Furthermore, these aspects of market liquidity acquire a new prominence in our model because the insider, who does not trade as a perfect competitor, must make rational conjectures about tightness, depth, and resiliency in choosing his optimal quantity to trade. "
   ]
  },
  {
   "cell_type": "markdown",
   "metadata": {
    "slideshow": {
     "slide_type": "slide"
    }
   },
   "source": [
    "### The market markers’ pricing strategy\n",
    "\n",
    "-   $\\mathcal{M} $ conjectures that $\\mathcal{I} $’s demand function is\n",
    "    of the form $$y_i=a+b\\,\\tilde S.$$\n",
    "\n",
    "\n",
    "-   Knowing the optimization process followed by $\\mathcal{I} $,\n",
    "    $\\mathcal{M} $ can solve for $a$ and $b$:\n",
    "    $$y_i=\\frac{\\tilde S-\\mu}{2\\,\\lambda}=a+b\\,\\tilde S \\quad \\forall \\tilde S$$\n",
    "    So\n",
    "\n",
    "    <a name=\"eq:mConjecture\"></a>(6)\n",
    "    $$a= -\\frac{\\mu}{2\\,\\lambda} \\text { and } b= \\frac{1}{2\\,\\lambda}.$$\n",
    "\n",
    "    In particular, $\\mathcal{I} $ trades less as $\\lambda$ increases."
   ]
  },
  {
   "cell_type": "markdown",
   "metadata": {
    "slideshow": {
     "slide_type": "subslide"
    }
   },
   "source": [
    "-   $\\mathcal{M} $ sets the pricing function as\n",
    "    $$p(y)=\\mu+\\lambda\\,y=\\mathbb{E} [\\tilde S|y]$$ so we need to\n",
    "    compute $\\mathbb{E} [\\tilde S|y]$."
   ]
  },
  {
   "cell_type": "markdown",
   "metadata": {
    "slideshow": {
     "slide_type": "slide"
    }
   },
   "source": [
    "### Bivariate normal projection\n",
    "\n",
    "Let $x$ and $y$ be bivariate normally distributed and consider the\n",
    "regression \n",
    "\n",
    "$$y-\\ee{y} = \\beta\\,\\left( x - \\ee{x}\\right)+\\epsilon \\text{ with } x \\perp \\epsilon.$$\n",
    "\n",
    "Then \n",
    "\n",
    "$$\\beta  = \\frac{\\mbox{Cov}[ y,x]}{\\mbox{Var}[x]}$$ \n",
    "\n",
    "and we obtain"
   ]
  },
  {
   "cell_type": "markdown",
   "metadata": {
    "slideshow": {
     "slide_type": "subslide"
    }
   },
   "source": [
    "#### <font color=\"red\"> Normal regression\n",
    "<font color=\"red\">\n",
    "<a name=\"eq:regression\"></a>(7)\n",
    "\\begin{eqnarray*}\n",
    "\\mathbb{E} [y| x]&=&\\mathbb{E} [y]+\\beta\\,\\left(x-\\mathbb{E} [x]\\right)\\nonumber\\\\\n",
    "\\mbox{Var}[y|x]&=&\\mbox{Var}[y]-\\beta^2\\,\\mbox{Var}[x].\n",
    "\\end{eqnarray*}"
   ]
  },
  {
   "cell_type": "markdown",
   "metadata": {
    "slideshow": {
     "slide_type": "slide"
    }
   },
   "source": [
    "### Regression of $\\tilde S$ against $y$\n",
    "\n",
    "-   Recall that $\\tilde S \\sim N(\\mu,\\sigma^2)$ and\n",
    "    $y_u\\sim N(0,\\sigma_u^2)$.\n",
    "\n",
    "\n",
    "-   Also, $y_i=a+b\\,\\tilde S$ must be normal.\n",
    "\n",
    "\n",
    "-   To compute $\\mathbb{E} [\\tilde S|y]$, we regress $\\tilde S$ against\n",
    "    $y$ using [(7)](#eq:regression):\n",
    "    \n",
    "    <font color=\"red\">\n",
    "    <a name=\"eq:normalProjection\"></a>(8)\n",
    "    $$\\mathbb{E} [\\tilde S|y]=\\mathbb{E} [\\tilde S]+\\frac{\\mbox{Cov}[\\tilde S,y]}{\\mbox{Var}[y]}\\left(y-\\mathbb{E} [y]\\right)$$\n",
    "    </font>\n",
    "\n",
    "\n",
    "-   The variance and covariance are given by\n",
    "    $$\\mbox{Var}[y]=\\sigma_u^2+b^2\\,\\sigma^2 \\text{ and } \\mbox{Cov}[\\tilde S,y]=b\\,\\sigma^2.$$"
   ]
  },
  {
   "cell_type": "markdown",
   "metadata": {
    "slideshow": {
     "slide_type": "slide"
    }
   },
   "source": [
    "### Computation of equilibrium\n",
    "\n",
    "Substituting back into [(8)](#eq:normalProjection) gives\n",
    "\n",
    "<a name=\"eq:eq1\"></a>(9)\n",
    "$$\\mathbb{E} [\\tilde S|y]=\\mu+\\frac{b\\,\\sigma^2}{\\sigma_u^2+b^2\\,\\sigma^2}\\,y$$\n",
    "\n",
    "Also\n",
    "\n",
    "<a name=\"eq:eq2\"></a>(10)\n",
    "$$p(y)=\\mu+\\lambda\\,y=\\mathbb{E} [\\tilde S|y]$$"
   ]
  },
  {
   "cell_type": "markdown",
   "metadata": {
    "slideshow": {
     "slide_type": "subslide"
    }
   },
   "source": [
    "Equating [(9)](#eq:eq1) and [(10)](#eq:eq2) and solving for all $y$ gives\n",
    "\n",
    "$$\\lambda = \\frac{b\\,\\sigma^2}{\\sigma_u^2+b^2\\,\\sigma^2}.$$ \n",
    "\n",
    "Also, recall\n",
    "that $\\mathcal{M} $’s conjecture [(6)](#eq:mConjecture) about $\\mathcal{I} $’s demand gives\n",
    "\n",
    "$$b=\\frac{1}{2\\,\\lambda}$$"
   ]
  },
  {
   "cell_type": "markdown",
   "metadata": {
    "slideshow": {
     "slide_type": "slide"
    }
   },
   "source": [
    "### Final result and intuition\n",
    "\n",
    "Equating these last two and solving for $b$ and $\\lambda$ gives\n",
    "\n",
    "<p>\n",
    "\n",
    "#### <font color=\"red\">Optimal choice of $\\lambda$\n",
    "\n",
    "<font color=\"red\">$$b = \\frac{\\sigma_u}{\\sigma} \\text{ and } \\lambda=\\frac{1}{2}\\,\\frac{\\sigma}{\\sigma_u}$$</font>\n",
    "\n",
    "\n",
    "Intuition is as follows:\n",
    "\n",
    "-   The greater the demand of uninformed traders (as proxied by\n",
    "    $\\sigma_u$), the smaller the proportion of informed trading on\n",
    "    average and the less the adverse selection faced by $\\mathcal{M} $.\n",
    "\n"
   ]
  },
  {
   "cell_type": "markdown",
   "metadata": {
    "slideshow": {
     "slide_type": "slide"
    }
   },
   "source": [
    "### Informed trader’s profit\n",
    "\n",
    "The informed trader’s expected profit is\n",
    "\n",
    "$$\\mathbb{E} [y_i\\,(\\tilde S-p)|\\tilde S]=\\frac{(\\tilde S-\\mu)^2}{4\\,\\lambda}=\\frac{(\\tilde S-\\mu)^2}{2}\\,\\frac{\\sigma_u}{\\sigma}$$\n",
    "\n",
    "Profit is increasing in $\\sigma_u$:\n",
    "\n",
    "-   The more liquidity trading there is, the more $\\mathcal{I} $ can\n",
    "    hide his intentions.\n",
    "\n",
    "    -   Note that $\\sigma_u$ is the typical magnitude of $y_u$\n",
    "        ($\\mathbb{E} [|y_u|]=\\sqrt{\\frac 2 \\pi}\\,\\sigma_u$).\n",
    "\n",
    "\n",
    "-   The more liquid the stock, the easier it is to trade!"
   ]
  },
  {
   "cell_type": "markdown",
   "metadata": {
    "slideshow": {
     "slide_type": "subslide"
    }
   },
   "source": [
    "The unconditional expectation of the informed trader’s profit is\n",
    "\n",
    "$$\\mathbb{E} [y_i\\,(\\tilde S-p)]=\\frac{\\mathbb{E}\\left[{(\\tilde S-\\mu)^2}\\right]}{2}\\,\\frac{\\sigma_u}{\\sigma}=\\frac 12 \\sigma\\,\\sigma_u.$$"
   ]
  },
  {
   "cell_type": "markdown",
   "metadata": {
    "slideshow": {
     "slide_type": "slide"
    }
   },
   "source": [
    "### The market makers’ posterior distribution\n",
    "\n",
    "-   $\\mathcal{M} $’s posterior distribution is $\\tilde S|y$.\n",
    "\n",
    "\n",
    "  - If for example there was big demand from liquidity traders, the mean\n",
    "    $p=\\mathbb{E} [\\tilde S|y]$ may be further away from the true value\n",
    "    $\\tilde S$ than the mean $\\mu$ of the prior.\n",
    "\n",
    "\n",
    "-   The variance of the posterior distribution is of course much smaller\n",
    "    than the variance of the prior.\n",
    "\n",
    "\n",
    "-   We now compute the mean and variance of the posterior distribution.\n",
    "\n"
   ]
  },
  {
   "cell_type": "markdown",
   "metadata": {
    "slideshow": {
     "slide_type": "slide"
    }
   },
   "source": [
    "### Net order flow $y$ as a signal for $\\tilde S$\n",
    "\n",
    "The order flow $y$ is a signal for $\\tilde S$. In fact, from [(9)](#eq:eq1) and [(10)](#eq:eq2),\n",
    "\n",
    "$$\n",
    "\\tilde S = \\mu + \\lambda\\,y + \\epsilon.\n",
    "$$\n",
    "\n",
    "where $\\epsilon$ is independent noise.  "
   ]
  },
  {
   "cell_type": "markdown",
   "metadata": {
    "slideshow": {
     "slide_type": "subslide"
    }
   },
   "source": [
    "Thus\n",
    "\n",
    "$$\n",
    "\\beas\n",
    "\\Var[\\tilde S|y] &=& \\Var[\\epsilon] \\\\\n",
    "&=& \\sigma^2 - \\lambda^2\\, \\Var[y]\\\\\n",
    "&=& \\sigma^2 - \\lambda^2\\, \\left( \\sigma_u^2 + b^2\\,\\sigma^2  \\right)\\\\\n",
    "&=&  \\sigma^2 - \\frac14 \\frac{\\sigma^2}{\\sigma_u^2}\\, \\left( \\sigma_u^2 + \\frac {\\sigma_u^2}{ \\sigma^2}\\,\\sigma^2  \\right)\\\\\n",
    "&=& \\frac12\\,\\sigma^2.\n",
    "\\eeas\n",
    "$$ "
   ]
  },
  {
   "cell_type": "markdown",
   "metadata": {
    "slideshow": {
     "slide_type": "subslide"
    }
   },
   "source": [
    "-   No matter what the trade outcome is, the posterior variance is\n",
    "    exactly half of the prior variance.\n",
    "\n",
    "-   Since $\\sigma$ proxies the information that $\\mathcal{I} $ holds\n",
    "    (inside information), we can say following Kyle that\n",
    "    $\\mathcal{I} $’s optimal strategy will result in half\n",
    "    of his information being revealed by the market price.\n",
    "\n",
    "-   The mean of the posterior distribution is\n",
    "    $$\\mathbb{E} [\\tilde S|y]=\\mu+\\lambda\\,y$$\n",
    "    which is $\\mathcal{M} $’s pricing rule."
   ]
  },
  {
   "cell_type": "markdown",
   "metadata": {
    "slideshow": {
     "slide_type": "slide"
    }
   },
   "source": [
    "### Extension to noisy signal\n",
    "\n",
    "-   In this extension of the model, $\\mathcal{I} $ receives imperfect\n",
    "    (as opposed to perfect) information at $t=0$.\n",
    "\n",
    "\n",
    "-   The signal $x=\\tilde S+\\epsilon$ where\n",
    "    $\\epsilon \\sim N(0,\\sigma_\\epsilon^2)$ is independent of everything\n",
    "    else."
   ]
  },
  {
   "cell_type": "markdown",
   "metadata": {
    "slideshow": {
     "slide_type": "subslide"
    }
   },
   "source": [
    "-   In this case, we can show (see HW5 problem 1) that\n",
    "\n",
    "    <a name=\"eq:lamdaNoisy\"></a>(11)\n",
    "    $$\\lambda=\\frac{\\sigma}{2\\,\\sigma_u}\\,\\sqrt{\\phi}$$\n",
    "\n",
    "    with $$\\phi = \\frac{\\sigma^2}{\\sigma^2+\\sigma_\\epsilon^2}$$\n",
    "\n",
    "\n",
    "-   This clearly has the right limit as $\\sigma_\\epsilon \\to 0$."
   ]
  },
  {
   "cell_type": "markdown",
   "metadata": {
    "slideshow": {
     "slide_type": "slide"
    }
   },
   "source": [
    "### Extension to multiple informed traders\n",
    "\n",
    "-   The solution for $k$ traders can be shown to be:\n",
    "    $$\\lambda_k=\\frac{1}{k+1}\\,\\frac{\\sigma\\,\\sqrt{k}}{\\sigma_u};\\,b_k=\\frac{\\sigma_u}{\\sigma\\,\\sqrt{k}}$$\n",
    "\n",
    "\n",
    "-   The greater the number $k$ of informed traders, the lower the value\n",
    "    of information each holds and so the smaller the $b_k$ (recall that\n",
    "    $y_i=a+b\\,\\tilde S$).\n",
    "\n",
    "\n",
    "-   Competition between informed traders drives down the optimal\n",
    "    $\\lambda$, decreasing market impact and increasing liquidity.\n",
    "\n",
    "    -   This contrasts with the piggybacking case explored in HW5\n",
    "        Problem 3."
   ]
  },
  {
   "cell_type": "markdown",
   "metadata": {
    "slideshow": {
     "slide_type": "subslide"
    }
   },
   "source": [
    "### Imperfect competition\n",
    "\n",
    "- In the above, we assumed perfect competition between market makers so that $p = \\ee{\\tilde S|y}$.\n",
    "\n",
    "\n",
    "-   On page 144 of [Foucault, Pagano and Röell]<sup id=\"cite_ref-FPR\" class=\"reference\"><a href=\"#cite_note-FPR\"><span>[</span>2<span>]</span></a></sup>, an alternative market mechanism is explored with imperfect competition between $K$ dealers.\n",
    "\n",
    "    -   The $k$th market maker $\\mathcal{M} _k$ must taken into account the strategic behavior\n",
    "        of the other market markers when setting a price schedule.\n",
    "\n",
    "    -   The price $p^\\star$ thus depends in particular on the number $K$ of\n",
    "        competing market makers."
   ]
  },
  {
   "cell_type": "markdown",
   "metadata": {
    "slideshow": {
     "slide_type": "slide"
    }
   },
   "source": [
    "### The cost of imperfect competition\n",
    "\n",
    "-   With this market mechanism and with $K$ market\n",
    "    makers, each $\\mathcal{M} _k$ posts less quantity than that in the case of\n",
    "    perfect competition, by a factor\n",
    "    \n",
    "    $$\\frac{K-2}{K-1}.$$\n",
    "\n",
    "\n",
    "-   Relative to the case of perfect competition, market impact with $K$ market makers is given by\n",
    "    \n",
    "    $$\\lambda_K =  \\lambda\\,\\frac{K-1}{K-2} = \\lambda +\\frac{\\lambda}{K-2}$$\n",
    "    \n",
    "    so relative to the perfect competition case, the Kyle lambda\n",
    "    increases by the factor $(K-1)/(K-2)$."
   ]
  },
  {
   "cell_type": "markdown",
   "metadata": {
    "slideshow": {
     "slide_type": "subslide"
    }
   },
   "source": [
    "-   As $K \\to \\infty$, we retrieve the perfect competition case.\n",
    "\n",
    "\n",
    "-   We also see that the cost of trading depends on market structure.\n",
    "\n",
    "    -   Different auction mechanisms lead to different market maker\n",
    "        rents."
   ]
  },
  {
   "cell_type": "markdown",
   "metadata": {
    "slideshow": {
     "slide_type": "slide"
    }
   },
   "source": [
    "### Extension to multiple trading periods\n",
    "\n",
    "Suppose there are $N$ auctions at intervals $\\Delta t=1/N$ and indexed\n",
    "by $t \\in \\{1,...,N\\}$.\n",
    "\n",
    "The equilibrium has the following properties:\n",
    "\n",
    "-   $\\mathcal{I} $’s demand is\n",
    "    $\\Delta {y_i}_t=b_t\\,(\\tilde S- p_{t-1})\\,\\Delta t$ where $b_t$ is\n",
    "    trading intensity at time $t$.\n",
    "\n",
    "\n",
    "-   The price change at the $t$th auction is given by\n",
    "\n",
    "    $$\\Delta p_t=\\lambda_t\\,(\\Delta {y_i}_t+\\Delta {y_u}_t)$$\n",
    "\n",
    "\n",
    "-   Market efficiency gives\n",
    "\n",
    "    $$p_t=\\mathbb{E} [\\tilde S|y_t]$$\n",
    "    \n",
    "    where\n",
    "    $y_t$ is cumulative order flow up to time $t$.\n",
    "\n"
   ]
  },
  {
   "cell_type": "markdown",
   "metadata": {
    "slideshow": {
     "slide_type": "slide"
    }
   },
   "source": [
    "### Properties of the solution\n",
    "\n",
    "-   $\\mathcal{I} $ slices and dices his order flow, just like real\n",
    "    traders splitting orders.\n",
    "\n",
    "\n",
    "-   $\\mathcal{I} $’s optimal trade sizes change over time with the\n",
    "    random uninformed demand $y_u$.\n",
    "\n",
    "    -   $\\mathcal{I} $ hides behind the uninformed order flow in such a\n",
    "        way that $\\mathcal{M} $ cannot predict on the basis of net order\n",
    "        flow what $\\mathcal{I} $ will do next."
   ]
  },
  {
   "cell_type": "markdown",
   "metadata": {
    "slideshow": {
     "slide_type": "slide"
    }
   },
   "source": [
    " -   There is no autocorrelation in the total order flow $y$. If\n",
    "        there were, it would induce autocorrelation in prices and that\n",
    "        is ruled out by market efficiency.  \n",
    "        \n",
    "        - Note that this is unlike sequential trader models like Glosten and Milgrom where there is autocorrelation of order flow.\n",
    "\n",
    "\n",
    "-   In the limit $N \\to \\infty$, the volatility of the price process\n",
    "    tends to a constant."
   ]
  },
  {
   "cell_type": "markdown",
   "metadata": {
    "slideshow": {
     "slide_type": "subslide"
    }
   },
   "source": [
    "### More properties of the solution\n",
    "\n",
    "-   As time progresses, information is progressively revealed.\n",
    "\n",
    "-   The Kyle model shows how information can be incorporated into\n",
    "    prices.\n",
    "\n",
    "-   In the Kyle model, the process of price formation is explicit.\n",
    "\n",
    "-   In the perfect competition version, market makers get zero profits,\n",
    "    informed traders make profits and liquidity traders face transaction\n",
    "    costs.\n",
    "\n"
   ]
  },
  {
   "cell_type": "markdown",
   "metadata": {
    "slideshow": {
     "slide_type": "slide"
    }
   },
   "source": [
    "### Price manipulation\n",
    "\n",
    "-   One might wonder whether traders could manipulate the market price.\n",
    "\n",
    "    -   A potential strategy would be to submit a large buy order,\n",
    "        driving the price up then selling back slowly at newer higher\n",
    "        prices.\n",
    "\n",
    "\n",
    "-   [Huberman and Stanzl]<sup id=\"cite_ref-HubermanStanzl\" class=\"reference\"><a href=\"#cite_note-HubermanStanzl\"><span>[</span>4<span>]</span></a></sup>\n",
    "     showed manipulation is not possible with the linear\n",
    "    market impact function in the Kyle model and in fact that\n",
    "    <span>*only*</span> linear models of this type have this property.\n",
    "\n",
    "\n",
    "-   We will revisit price manipulation later in this lecture series.\n",
    "\n"
   ]
  },
  {
   "cell_type": "markdown",
   "metadata": {
    "slideshow": {
     "slide_type": "slide"
    }
   },
   "source": [
    "### Correlation of order flow\n",
    "\n",
    "-   In real markets, order flow is in fact highly autocorrelated.\n",
    "\n",
    "\n",
    "-   However, to a very accurate approximation, price changes are\n",
    "    unpredictable.\n",
    "\n",
    "\n",
    "-   In subsequent lectures we will try to understand how this can be so.\n",
    "\n"
   ]
  },
  {
   "cell_type": "markdown",
   "metadata": {
    "slideshow": {
     "slide_type": "slide"
    }
   },
   "source": [
    "### The econophysics critique of Kyle\n",
    "\n",
    "Amongst other things, [Bouchaud, Farmer, Lillo]<sup id=\"cite_ref-BouchaudFarmerLillo\" class=\"reference\"><a href=\"#cite_note-BouchaudFarmerLillo\"><span>[</span>1<span>]</span></a></sup> complain that:\n",
    "\n",
    "> The rational investors, in contrast, are assumed to correspond to\n",
    "> skilled professionals. Their trading is perfect, in the sense that\n",
    "> they know everything. Examples of what they must know includes the\n",
    "> strategies of all the noise traders, and the fraction of capital\n",
    "> traded by noise traders as opposed to rational investors. In such\n",
    "> models prices can deviate from fundamental values due to the action of\n",
    "> the noise traders and the desire of the rational agents to exploit\n",
    "> them as much as possible, but the rational agents always keep them\n",
    "> from deviating too much.\n",
    "\n",
    "The following simulations suggest that perhaps all an agent needs to do to be\n",
    "considered as acting rationally, is to perform linear regression.\n",
    "\n"
   ]
  },
  {
   "cell_type": "markdown",
   "metadata": {
    "slideshow": {
     "slide_type": "slide"
    }
   },
   "source": [
    "### Kyle model simulation with Bayesian learning\n",
    "\n",
    "#### Simulation pseudo code\n",
    "\n",
    "-   $\\mathcal{M} $ assumes some prior $\\lambda$ with some (low)\n",
    "    precision\n",
    "\n",
    "\n",
    "-   $\\mathcal{I} $ determines his optimal demand $y_i$.\n",
    "\n",
    "\n",
    "-   The true value $\\tilde S$ is revealed.\n",
    "\n",
    "\n",
    "-   $\\mathcal{M} $ regresses $\\tilde S$ against $y$ to get a new\n",
    "    observation of $\\lambda$ and computes its precision."
   ]
  },
  {
   "cell_type": "markdown",
   "metadata": {
    "slideshow": {
     "slide_type": "subslide"
    }
   },
   "source": [
    "-   This new observation is combined with the prior to generate a new\n",
    "    posterior estimate of $\\lambda$.\n",
    "    \n",
    "    $$\n",
    "    \\lambda_2 = \\frac{\\tau_0\\,\\lambda_0+ \\tau_1\\,\\lambda_1}{\\tau_0+\\tau_1}.\n",
    "    $$"
   ]
  },
  {
   "cell_type": "code",
   "execution_count": 1,
   "metadata": {
    "collapsed": true,
    "slideshow": {
     "slide_type": "subslide"
    }
   },
   "outputs": [],
   "source": [
    "sigu <- .5\n",
    "sig <- .5\n",
    "mu <- 1\n",
    "nTrials <- 1\n",
    "\n",
    "#Initialize vectors\n",
    "numRuns <- 2000\n",
    "sTildeVec <- numeric(numRuns)\n",
    "yVec <- numeric(numRuns)\n",
    "lamVec <- numeric(numRuns)"
   ]
  },
  {
   "cell_type": "code",
   "execution_count": 2,
   "metadata": {
    "collapsed": true
   },
   "outputs": [],
   "source": [
    "library(repr)\n",
    "options(repr.plot.height=5)"
   ]
  },
  {
   "cell_type": "markdown",
   "metadata": {
    "slideshow": {
     "slide_type": "subslide"
    }
   },
   "source": [
    "- Suppose the market maker $\\mathcal{M}$'s prior is such that he sets the Kyle lambda to $1/3$."
   ]
  },
  {
   "cell_type": "code",
   "execution_count": 3,
   "metadata": {
    "collapsed": true,
    "slideshow": {
     "slide_type": "fragment"
    }
   },
   "outputs": [],
   "source": [
    "lam0 <- .1\n",
    "sd0 <- 1 # Std error of prior\n",
    "tau0 <-.01 # Precision of prior\n",
    "\n",
    "lamK <- lam0\n",
    "lam2 <- 0"
   ]
  },
  {
   "cell_type": "code",
   "execution_count": 4,
   "metadata": {
    "collapsed": true,
    "slideshow": {
     "slide_type": "subslide"
    }
   },
   "outputs": [],
   "source": [
    "for(count in 1:numRuns){\n",
    "    \n",
    "    # Generate a true value \n",
    "    sTilde <- rnorm(nTrials,mean=mu,sd=sig)\n",
    "\n",
    "    # Generate uninformed demand\n",
    "    yu <- rnorm(nTrials,mean=0,sd=sigu)\n",
    "\n",
    "    # Generate informed demand\n",
    "    yi <- (sTilde-mu)/(2*lamK)\n",
    "\n",
    "    # Get updated value of lamK from regression\n",
    "    y <- yi+yu\n",
    "    sTildeVec[count] <- sTilde\n",
    "    yVec[count] <- y\n",
    "    lamVec[count] <- lamK\n",
    "    if(count>2) {\n",
    "        \n",
    "        tmp <- coef(summary(lm(sTildeVec[1:count]~yVec[1:count])))\n",
    "        lam1 <- tmp[2,1]\n",
    "        stderr <- tmp[2,2]\n",
    "        tau1 <- 1/stderr^2\n",
    "        lam2 <- (lam0*tau0 + lam1*tau1) / (tau0+tau1)\n",
    "        if (lam2 >.001) {lamK <- lam2}\n",
    "        \n",
    "    }\n",
    "    lamVec[count] <- lamK\n",
    "}"
   ]
  },
  {
   "cell_type": "markdown",
   "metadata": {
    "slideshow": {
     "slide_type": "slide"
    }
   },
   "source": [
    "### Convergence plot"
   ]
  },
  {
   "cell_type": "code",
   "execution_count": 5,
   "metadata": {
    "collapsed": false,
    "slideshow": {
     "slide_type": "fragment"
    }
   },
   "outputs": [
    {
     "data": {
      "image/png": "[encoded data removed]",
      "text/plain": [
       "Plot with title “Convergence of learned Kyle Lambda”"
      ]
     },
     "metadata": {},
     "output_type": "display_data"
    }
   ],
   "source": [
    "plot(lamVec,type=\"l\",ylim=c(0,1),col=\"red\",ylab=\"Updated lambda estimate\",xlab=\"# of trades\",main=\"Convergence of learned Kyle Lambda\")\n",
    "abline(h=.5,col=\"green\")"
   ]
  },
  {
   "cell_type": "markdown",
   "metadata": {
    "slideshow": {
     "slide_type": "slide"
    }
   },
   "source": [
    "### Convergence to equilibrium\n",
    "\n",
    "-   The question then arises as to whether this always works: If agents\n",
    "    just perform linear regressions, does the system converge?\n",
    "\n",
    "\n",
    "-   The answer according to [Marcet and Sargent]<sup id=\"cite_ref-MarcetSargent\" class=\"reference\"><a href=\"#cite_note-MarcetSargent\"><span>[</span>5<span>]</span></a></sup> is that there is a rational\n",
    "    expectations equilibrium under certain conditions."
   ]
  },
  {
   "cell_type": "markdown",
   "metadata": {
    "slideshow": {
     "slide_type": "subslide"
    }
   },
   "source": [
    "-   <span>*Rational expectations*</span> should then be understood in\n",
    "    this sense: that agents updating their beliefs by regressing the\n",
    "    results of their actions (reactions) against price changes may\n",
    "    (sometimes) cause equilibrium to emerge.\n",
    "\n",
    "    -   In that case, the system behaves as if the agents are rational;\n",
    "        capable of computing the rational reaction of other agents to\n",
    "        their rational actions.\n",
    "\n",
    "\n",
    "-   In this light, the above critique of the econophysicists appears\n",
    "    naïve."
   ]
  },
  {
   "cell_type": "markdown",
   "metadata": {
    "slideshow": {
     "slide_type": "slide"
    }
   },
   "source": [
    "### Inventory models vs asymmetric information models\n",
    "\n",
    "-   Studies of market makers inventory suggest that the effect of\n",
    "    inventory on price is negligible.\n",
    "\n",
    "\n",
    "-   This has led market microstructure theorists to reject inventory\n",
    "    models in favor of asymmetric information models."
   ]
  },
  {
   "cell_type": "markdown",
   "metadata": {
    "slideshow": {
     "slide_type": "subslide"
    }
   },
   "source": [
    "-   However, this seems to be an overly restrictive view of\n",
    "    inventory models.\n",
    "\n",
    "    -   Some portion of the activity of most market participants could\n",
    "        be classed as market-making. For example, the simple choice to\n",
    "        send a limit order rather than a market order.\n",
    "\n",
    "    -   Ultimately, there is almost always a market maker who will\n",
    "        accept new inventory in return for spread.\n",
    "\n",
    "\n",
    "-   Taking this view, cumulative order flow is inventory and everyone is\n",
    "    a market maker."
   ]
  },
  {
   "cell_type": "markdown",
   "metadata": {
    "slideshow": {
     "slide_type": "slide"
    }
   },
   "source": [
    "### Models and algorithmic trading\n",
    "\n",
    "- With the advent of algorithmic trading, models take on a new importance - as inspiration for algorithms rather than as guides to market design.\n",
    "\n",
    "    - Managing inventory is key!\n",
    "\n",
    "\n",
    "- Thus we see a new literature starting with Avellaneda and Stoikov (2008) that focuses on inventory.\n",
    "\n",
    "\n",
    "- Adverse selection (asymmetric information) and inventory are both very important."
   ]
  },
  {
   "cell_type": "markdown",
   "metadata": {
    "slideshow": {
     "slide_type": "slide"
    }
   },
   "source": [
    "### Final remarks\n",
    "\n",
    "-   In economics, the rôle of prices is not just to allocate resources\n",
    "    efficiently but also to transmit information about the values of\n",
    "    assets.\n",
    "\n",
    "\n",
    "-   The Kyle model exhibits a mechanism through which information may be\n",
    "    impounded into market prices.\n",
    "\n",
    "    -   Note however that the market price can depart very substantially\n",
    "        from fair value if there is large uninformed demand.\n",
    "\n",
    "    -   If fair value is itself evolving dynamically, the market price\n",
    "        may never correspond to fair value!"
   ]
  },
  {
   "cell_type": "markdown",
   "metadata": {
    "slideshow": {
     "slide_type": "subslide"
    }
   },
   "source": [
    "We finish with a quote from Hasbrouck (page 53):\n",
    "\n",
    "> ..., orders do not “impact” prices. It is more accurate to say that\n",
    "> they forecast prices. The distinction is important but empirical\n",
    "> resolution is difficult.\n",
    "\n",
    "What do we believe?"
   ]
  },
  {
   "cell_type": "markdown",
   "metadata": {
    "slideshow": {
     "slide_type": "slide"
    }
   },
   "source": [
    "### References\n",
    "<br />\n",
    "\n",
    "<div class=\"reflist\" style=\"list-style-type: decimal;\">\n",
    "\n",
    "<ol>\n",
    "\n",
    "  <li id=\"cite_note-BouchaudFarmerLillo\"><span class=\"mw-cite-backlink\"><b><a href=\"#cite_ref-BouchaudFarmerLillo\">^</a></b></span>Jean-Philippe Bouchaud, J. Doyne Farmer, and Fabrizio Lillo, How Markets\n",
    "Slowly Digest Changes in Supply and Demand, in <span>*Handbook of\n",
    "Financial Markets: Dynamics and Evolution*</span> 57-156. (2009)\n",
    "available at\n",
    "http://tuvalu.santafe.edu/%7Ejdf/papers/MarketsSlowlyDigest.pdf: Section\n",
    "3.\n",
    "  </li>\n",
    "\n",
    "  <li id=\"cite_note-FPR\"><span class=\"mw-cite-backlink\"><b><a href=\"#cite_ref-FPR\">^</a></b></span>Thierry Foucault, Marco Pagano and Ailsa Röell, <span>*Market\n",
    "Liquidity*</span>, Oxford University Press, Chapter 4. (2013).\n",
    "  </li>\n",
    "  \n",
    "  <li id=\"cite_note-Hasbrouck\"><span class=\"mw-cite-backlink\"><b><a href=\"#cite_ref-Hasbrouck\">^</a></b></span>Joel Hasbrouck, <span>*Empirical Market Microstructure*</span>, Oxford\n",
    "University Press, Chapter 7 (2007).\n",
    "  </li>\n",
    "  \n",
    "  <li id=\"cite_note-HubermanStanzl\"><span class=\"mw-cite-backlink\"><b><a href=\"#cite_ref-HubermanStanzl\">^</a></b></span>Gur Huberman and Werner Stanzl, Price manipulation and quasi-Arbitrage,\n",
    "<span>*Econometrica*</span> <span>**72**</span>(4) 1247–1275 (2004).\n",
    "  </li>\n",
    "  \n",
    "  <li id=\"cite_note-MarcetSargent\"><span class=\"mw-cite-backlink\"><b><a href=\"#cite_ref-MarcetSargent\">^</a></b></span>Albert Marcet and Thomas J. Sargent, Convergence of least squares\n",
    "learning mechanisms in self-referential linear stochastic models,\n",
    "<span>*Journal of Economic Theory*</span> <span>**48**</span>(2) 337–368\n",
    "(1989).\n",
    "  </li>\n",
    "  \n",
    "</ol>"
   ]
  }
 ],
 "metadata": {
  "anaconda-cloud": {},
  "celltoolbar": "Slideshow",
  "kernelspec": {
   "display_name": "R",
   "language": "R",
   "name": "ir"
  },
  "language_info": {
   "codemirror_mode": "r",
   "file_extension": ".r",
   "mimetype": "text/x-r-source",
   "name": "R",
   "pygments_lexer": "r",
   "version": "3.3.1"
  }
 },
 "nbformat": 4,
 "nbformat_minor": 1
}
