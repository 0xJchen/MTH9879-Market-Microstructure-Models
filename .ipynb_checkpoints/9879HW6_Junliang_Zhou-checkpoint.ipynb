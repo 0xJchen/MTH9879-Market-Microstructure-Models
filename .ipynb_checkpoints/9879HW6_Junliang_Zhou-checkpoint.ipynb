{
 "cells": [
  {
   "cell_type": "markdown",
   "metadata": {},
   "source": [
    "# MTH9879 Homework 6\n",
    "\n",
    "Assigned: March 8, 2018.\n",
    "Due March 22, 2018 by 6pm. \n",
    "\n",
    "Late homework **will not be accepted**.\n",
    "\n",
    "$$\n",
    "\\newcommand{\\supp}{\\mathrm{supp}}\n",
    "\\newcommand{\\E}{\\mathbb{E}}\n",
    "\\newcommand{\\EE}{\\mathbb{E}}\n",
    "\\newcommand{\\Eof}[1]{\\mathbb{E}\\left[ #1 \\right]}\n",
    "\\def\\Cov{{ \\mbox{Cov} }}\n",
    "\\def\\Var{{ \\mbox{Var} }}\n",
    "\\newcommand{\\1}{\\mathbf{1} }\n",
    "\\newcommand{\\PP}{\\mathbb{P} }\n",
    "%\\newcommand{\\Pr}{\\mathrm{Pr} }\n",
    "\\newcommand{\\QQ}{\\mathbb{Q} }\n",
    "\\newcommand{\\RR}{\\mathbb{R} }\n",
    "\\newcommand{\\DD}{\\mathbb{D} }\n",
    "\\newcommand{\\HH}{\\mathbb{H} }\n",
    "\\newcommand{\\spn}{\\mathrm{span} }\n",
    "\\newcommand{\\cov}{\\mathrm{cov} }\n",
    "\\newcommand{\\sgn}{\\mathrm{sgn} }\n",
    "\\newcommand{\\HS}{\\mathcal{L}_{\\mathrm{HS}} }\n",
    "%\\newcommand{\\HS}{\\mathrm{HS} }\n",
    "\\newcommand{\\trace}{\\mathrm{trace} }\n",
    "\\newcommand{\\LL}{\\mathcal{L} }\n",
    "%\\newcommand{\\LL}{\\mathrm{L} }\n",
    "\\newcommand{\\s}{\\mathcal{S} }\n",
    "\\newcommand{\\ee}{\\mathcal{E} }\n",
    "\\newcommand{\\ff}{\\mathcal{F} }\n",
    "\\newcommand{\\hh}{\\mathcal{H} }\n",
    "\\newcommand{\\bb}{\\mathcal{B} }\n",
    "\\newcommand{\\dd}{\\mathcal{D} }\n",
    "\\newcommand{\\g}{\\mathcal{G} }\n",
    "\\newcommand{\\p}{\\partial}\n",
    "\\newcommand{\\half}{\\frac{1}{2} }\n",
    "\\newcommand{\\T}{\\mathcal{T} }\n",
    "\\newcommand{\\bi}{\\begin{itemize}}\n",
    "\\newcommand{\\ei}{\\end{itemize}}\n",
    "\\newcommand{\\beq}{\\begin{equation}}\n",
    "\\newcommand{\\eeq}{\\end{equation}}\n",
    "\\newcommand{\\beas}{\\begin{eqnarray*}}\n",
    "\\newcommand{\\eeas}{\\end{eqnarray*}}\n",
    "\\newcommand{\\cO}{\\mathcal{O}}\n",
    "\\newcommand{\\cF}{\\mathcal{F}}\n",
    "\\newcommand{\\cI}{\\mathcal{I}}\n",
    "\\newcommand{\\cL}{\\mathcal{L}}\n",
    "\\newcommand{\\cM}{\\mathcal{M}}\n",
    "\\newcommand{\\BS}{\\text{BS}}\n",
    "$$"
   ]
  },
  {
   "cell_type": "markdown",
   "metadata": {},
   "source": [
    "<font color = \"red\">Homework is to be done by each student individually.  To receive full credit, you must email a completed copy of this iPython notebook to Victor Istratov (stavka@gmail.com), Yassine Ghalem (yassine.ghalem@gmail.com) and Jim Gatheral (jim.gatheral@gmail.com) by the due date and time.  All R-code must run correctly and solutions must be written up neatly in Markdown/LaTeX format."
   ]
  },
  {
   "cell_type": "markdown",
   "metadata": {},
   "source": [
    "## Junliang Zhou\n",
    "\n",
    "Tel: (347) 276-1207\n",
    "\n",
    "Email: gjimzhou@gmail.com"
   ]
  },
  {
   "cell_type": "markdown",
   "metadata": {},
   "source": [
    "### 0. (0 points) \n",
    "Read the review article by McAleer and Medeiros and also the nice article by Barndorff-Nielsen et al."
   ]
  },
  {
   "cell_type": "markdown",
   "metadata": {},
   "source": [
    "## Comparison of estimators"
   ]
  },
  {
   "cell_type": "markdown",
   "metadata": {},
   "source": [
    "### Download RV estimator code"
   ]
  },
  {
   "cell_type": "code",
   "execution_count": 1,
   "metadata": {
    "collapsed": true
   },
   "outputs": [],
   "source": [
    "options(warn = -1)\n",
    "\n",
    "download.file(url=\"http://mfe.baruch.cuny.edu/wp-content/uploads/2015/02/tq.zip\", destfile=\"tq.zip\")\n",
    "unzip(zipfile=\"tq.zip\")\n",
    "download.file(url=\"https://mfe.baruch.cuny.edu/wp-content/uploads/2018/03/tq_BAC_C.zip\", destfile=\"tq_BAC_C.zip\")\n",
    "unzip(zipfile=\"tq_BAC_C.zip\")\n",
    "download.file(url=\"https://mfe.baruch.cuny.edu/wp-content/uploads/2015/03/RvEstimators.R.zip\", destfile=\"RvEstimators.R.zip\")\n",
    "unzip(zipfile=\"RvEstimators.R.zip\")"
   ]
  },
  {
   "cell_type": "code",
   "execution_count": 2,
   "metadata": {
    "collapsed": true
   },
   "outputs": [],
   "source": [
    "load(\"tqDataBAC_20170919.rData\")\n",
    "Sys.setenv(TZ='EST')\n",
    "tqBAC <- tqdata"
   ]
  },
  {
   "cell_type": "code",
   "execution_count": 3,
   "metadata": {
    "collapsed": false
   },
   "outputs": [
    {
     "name": "stderr",
     "output_type": "stream",
     "text": [
      "Warning message:\n",
      "\"package 'highfrequency' was built under R version 3.3.3\"Loading required package: xts\n",
      "Warning message:\n",
      "\"package 'xts' was built under R version 3.3.3\"Loading required package: zoo\n",
      "\n",
      "Attaching package: 'zoo'\n",
      "\n",
      "The following objects are masked from 'package:base':\n",
      "\n",
      "    as.Date, as.Date.numeric\n",
      "\n"
     ]
    }
   ],
   "source": [
    "library(highfrequency)"
   ]
  },
  {
   "cell_type": "code",
   "execution_count": 4,
   "metadata": {
    "collapsed": true
   },
   "outputs": [],
   "source": [
    "source('RvEstimators.R')"
   ]
  },
  {
   "cell_type": "markdown",
   "metadata": {},
   "source": [
    "### 1. (12 points) \n",
    "This assignment uses the *tqBAC* dataset and the RV estimators from *RvEstimators.R*."
   ]
  },
  {
   "cell_type": "markdown",
   "metadata": {},
   "source": [
    "(a) Consider the BAC trade price series.  Superimpose signature plots of the following estimators with subsampling frequency $q$ from 1 to 20: ZHOU, TSRV, MSRV, KRVTH, KRVC.  Express your results as $\\sqrt{RV}$ to make them more intuitive, as in Table 1 of Lecture 6 (recall that volatility estimates should be of the order of $2\\%$!).\n",
    "<br>\n",
    "Pay attention to good aesthetics, addling a proper legend to your plot.\n",
    "\n",
    "(b) Repeat part (a) for the BAC mid-quote series.\n",
    "\n",
    "(c) Which of these estimators do you recommend and why?  What sub-sampling frequency do you recommend based on these pictures?"
   ]
  },
  {
   "cell_type": "markdown",
   "metadata": {
    "collapsed": true
   },
   "source": [
    "### Solution\n",
    "\n",
    "(a)"
   ]
  },
  {
   "cell_type": "code",
   "execution_count": 5,
   "metadata": {
    "collapsed": false
   },
   "outputs": [
    {
     "data": {
      "image/png": "[encoded data removed]",
      "text/plain": [
       "plot without title"
      ]
     },
     "metadata": {},
     "output_type": "display_data"
    }
   ],
   "source": [
    "# Get stock prices\n",
    "prices <- log(as.numeric(tqBAC$PRICE))\n",
    "\n",
    "# Compute RV as function of sampling frequency\n",
    "freq <- 20\n",
    "rv_ZHOU <- sapply(1:freq, function(q){sqrt(ZHOU(prices,q))})\n",
    "rv_TSRV <- sapply(1:freq, function(q){sqrt(TSRV(prices,q))})\n",
    "rv_MS <- sapply(1:freq, function(q){sqrt(MSRV(prices,q))})\n",
    "rv_KRVTH <- sapply(1:freq, function(q){sqrt(KRVTH(prices,q))})\n",
    "rv_KRVC <- sapply(1:freq, function(q){sqrt(KRVC(prices,q))})\n",
    "\n",
    "# Plot\n",
    "plot(1:freq, rv_ZHOU, col=\"red\", type='l', ylab='Realized variance', xlab='Sampling frequency q')\n",
    "lines(rv_TSRV, col=\"orange\")\n",
    "lines(rv_MS, col=\"blue\")\n",
    "lines(rv_KRVTH, col=\"green\")\n",
    "lines(rv_KRVC, col=\"purple\")\n",
    "legend(\"topright\", \n",
    "       c(\"ZHOU\",\"TSRV\",\"MSRV\",\"KRVTH\",\"KRVC\"),\n",
    "       lty=c(1,1,1,1,1), \n",
    "       col=c(\"red\",\"orange\",\"blue\",\"green\",\"purple\"))"
   ]
  },
  {
   "cell_type": "markdown",
   "metadata": {},
   "source": [
    "(b)"
   ]
  },
  {
   "cell_type": "code",
   "execution_count": 6,
   "metadata": {
    "collapsed": false
   },
   "outputs": [
    {
     "data": {
      "image/png": "[encoded data removed]",
      "text/plain": [
       "plot without title"
      ]
     },
     "metadata": {},
     "output_type": "display_data"
    }
   ],
   "source": [
    "# Get mid quotes\n",
    "mids <- log((as.numeric(tqBAC$BID)+as.numeric(tqBAC$OFR))/2)\n",
    "\n",
    "# Compute RV as function of sampling frequency\n",
    "freq <- 20\n",
    "rv_ZHOU <- sapply(1:freq, function(q){sqrt(ZHOU(mids,q))})\n",
    "rv_TSRV <- sapply(1:freq, function(q){sqrt(TSRV(mids,q))})\n",
    "rv_MS <- sapply(1:freq, function(q){sqrt(MSRV(mids,q))})\n",
    "rv_KRVTH <- sapply(1:freq, function(q){sqrt(KRVTH(mids,q))})\n",
    "rv_KRVC <- sapply(1:freq, function(q){sqrt(KRVC(mids,q))})\n",
    "\n",
    "# Plot\n",
    "plot(1:freq, rv_ZHOU, col=\"red\", type='l', ylab='Realized variance', xlab='Sampling frequency q')\n",
    "lines(rv_TSRV, col=\"orange\")\n",
    "lines(rv_MS, col=\"blue\")\n",
    "lines(rv_KRVTH, col=\"green\")\n",
    "lines(rv_KRVC, col=\"purple\")\n",
    "legend(\"topright\", \n",
    "       c(\"ZHOU\",\"TSRV\",\"MSRV\",\"KRVTH\",\"KRVC\"),\n",
    "       lty=c(1,1,1,1,1), \n",
    "       col=c(\"red\",\"orange\",\"blue\",\"green\",\"purple\"))"
   ]
  },
  {
   "cell_type": "markdown",
   "metadata": {
    "collapsed": true
   },
   "source": [
    "(c)\n",
    "\n",
    "As frequency from 1 to 20 doesn't give much useful information, replot with frequency from 1 to 200."
   ]
  },
  {
   "cell_type": "code",
   "execution_count": 7,
   "metadata": {
    "collapsed": false
   },
   "outputs": [
    {
     "data": {
      "image/png": "[encoded data removed]",
      "text/plain": [
       "plot without title"
      ]
     },
     "metadata": {},
     "output_type": "display_data"
    }
   ],
   "source": [
    "# Get stock prices\n",
    "prices <- log(as.numeric(tqBAC$PRICE))\n",
    "\n",
    "# Compute RV as function of sampling frequency\n",
    "freq <- 200\n",
    "rv_ZHOU <- sapply(1:freq, function(q){sqrt(ZHOU(prices,q))})\n",
    "rv_TSRV <- sapply(1:freq, function(q){sqrt(TSRV(prices,q))})\n",
    "rv_MS <- sapply(1:freq, function(q){sqrt(MSRV(prices,q))})\n",
    "rv_KRVTH <- sapply(1:freq, function(q){sqrt(KRVTH(prices,q))})\n",
    "rv_KRVC <- sapply(1:freq, function(q){sqrt(KRVC(prices,q))})\n",
    "\n",
    "# Plot\n",
    "plot(1:freq, rv_ZHOU, col=\"red\", type='l', ylab='Realized variance', xlab='Sampling frequency q')\n",
    "lines(rv_TSRV, col=\"orange\")\n",
    "lines(rv_MS, col=\"blue\")\n",
    "lines(rv_KRVTH, col=\"green\")\n",
    "lines(rv_KRVC, col=\"purple\")\n",
    "legend(\"topright\", \n",
    "       c(\"ZHOU\",\"TSRV\",\"MSRV\",\"KRVTH\",\"KRVC\"),\n",
    "       lty=c(1,1,1,1,1), \n",
    "       col=c(\"red\",\"orange\",\"blue\",\"green\",\"purple\"))"
   ]
  },
  {
   "cell_type": "code",
   "execution_count": null,
   "metadata": {
    "collapsed": true
   },
   "outputs": [],
   "source": [
    "# Get mid quotes\n",
    "mids <- log((as.numeric(tqBAC$BID)+as.numeric(tqBAC$OFR))/2)\n",
    "\n",
    "# Compute RV as function of sampling frequency\n",
    "freq <- 200\n",
    "rv_ZHOU <- sapply(1:freq, function(q){sqrt(ZHOU(mids,q))})\n",
    "rv_TSRV <- sapply(1:freq, function(q){sqrt(TSRV(mids,q))})\n",
    "rv_MS <- sapply(1:freq, function(q){sqrt(MSRV(mids,q))})\n",
    "rv_KRVTH <- sapply(1:freq, function(q){sqrt(KRVTH(mids,q))})\n",
    "rv_KRVC <- sapply(1:freq, function(q){sqrt(KRVC(mids,q))})\n",
    "\n",
    "# Plot\n",
    "plot(1:freq, rv_ZHOU, col=\"red\", type='l', ylab='Realized variance', xlab='Sampling frequency q')\n",
    "lines(rv_TSRV, col=\"orange\")\n",
    "lines(rv_MS, col=\"blue\")\n",
    "lines(rv_KRVTH, col=\"green\")\n",
    "lines(rv_KRVC, col=\"purple\")\n",
    "legend(\"topright\", \n",
    "       c(\"ZHOU\",\"TSRV\",\"MSRV\",\"KRVTH\",\"KRVC\"),\n",
    "       lty=c(1,1,1,1,1), \n",
    "       col=c(\"red\",\"orange\",\"blue\",\"green\",\"purple\"))"
   ]
  },
  {
   "cell_type": "markdown",
   "metadata": {},
   "source": [
    "From the plot we can choose KRVTH when frequency is 50 since it's the smoothest and most stable one among all estimators and frequencies."
   ]
  },
  {
   "cell_type": "markdown",
   "metadata": {},
   "source": [
    "## The Epps effect"
   ]
  },
  {
   "cell_type": "markdown",
   "metadata": {},
   "source": [
    "### 2. (14 points) \n",
    "For this assignment, use the *tqBAC* and  *tqC* datasets from *tq.rData*, the function *getSymbols* from the *quantmod* package, and the function *aggregatets* from the * highfrequency* package."
   ]
  },
  {
   "cell_type": "code",
   "execution_count": 3,
   "metadata": {
    "collapsed": false
   },
   "outputs": [
    {
     "name": "stderr",
     "output_type": "stream",
     "text": [
      "Warning message:\n",
      "\"package 'highfrequency' was built under R version 3.3.3\"Loading required package: xts\n",
      "Warning message:\n",
      "\"package 'xts' was built under R version 3.3.3\"Loading required package: zoo\n",
      "\n",
      "Attaching package: 'zoo'\n",
      "\n",
      "The following objects are masked from 'package:base':\n",
      "\n",
      "    as.Date, as.Date.numeric\n",
      "\n",
      "Warning message:\n",
      "\"package 'quantmod' was built under R version 3.3.3\"Loading required package: TTR\n",
      "Version 0.4-0 included new data defaults. See ?getSymbols.\n",
      "\n",
      "Attaching package: 'quantmod'\n",
      "\n",
      "The following objects are masked from 'package:highfrequency':\n",
      "\n",
      "    getPrice, has.Qty\n",
      "\n"
     ]
    }
   ],
   "source": [
    "load('tq.rData')\n",
    "library(highfrequency)\n",
    "library(quantmod)"
   ]
  },
  {
   "cell_type": "markdown",
   "metadata": {},
   "source": [
    "(a) Write a function to aggregate a *tq* object (such as *tqBAC*) to the nearest $k$ seconds. <br>\n",
    "(Hint: Use the function *aggregatets(.)*).\n",
    "\n",
    "(b) Write a function to compute the correlation between two high-frequency log return series (in *tq* format) where the underlying prices have been aggregated to the nearest $k$ seconds.\n",
    "\n",
    "(c) Plot the correlation between BAC and C returns where these returns are sampled every $k$ seconds, with $ k  \\in \\{2,3,4,. .., 599,600\\} $.  Use a kernel smoothing function such as *ksmooth* to smooth your results.  Make sure the aesthetics are good with nice labels etc.\n",
    "\n",
    "(d)  Is your plot consistent with the Epps effect?  What was the intraday correlation between BAC and C returns on 04-May-2012?\n",
    "\n",
    "(e) Use the function *getSymbols* from *quantmod* to download daily data for BAC and C from 01-Jan-2012 to 31-Dec-2012.  What was the historical correlation of daily BAC and C returns over that period?"
   ]
  },
  {
   "cell_type": "markdown",
   "metadata": {},
   "source": [
    "### Solution\n",
    "\n",
    "(a)"
   ]
  },
  {
   "cell_type": "code",
   "execution_count": 5,
   "metadata": {
    "collapsed": true
   },
   "outputs": [],
   "source": [
    "# Aggregate a tq object to the nearest k seconds\n",
    "aggregateTQ <- function(tq, k) {\n",
    "    return (aggregatets(tq, k=k, on=\"seconds\"))\n",
    "}"
   ]
  },
  {
   "cell_type": "markdown",
   "metadata": {},
   "source": [
    "(b)"
   ]
  },
  {
   "cell_type": "code",
   "execution_count": 6,
   "metadata": {
    "collapsed": false,
    "scrolled": true
   },
   "outputs": [],
   "source": [
    "# Compute the correlation between two high-frequency log return series\n",
    "corTQ <- function(tq1, tq2) {\n",
    "    r1 <- diff(log(as.numeric(tq1$PRICE)))\n",
    "    r2 <- diff(log(as.numeric(tq2$PRICE)))\n",
    "    return (cor(r1, r2))\n",
    "}"
   ]
  },
  {
   "cell_type": "markdown",
   "metadata": {},
   "source": [
    "(c)"
   ]
  },
  {
   "cell_type": "code",
   "execution_count": 7,
   "metadata": {
    "collapsed": false
   },
   "outputs": [],
   "source": [
    "# Compute the correlation between aggregated log return series\n",
    "aggCorTQ <- function(tq1, tq2, k) {\n",
    "    atq1 <- aggregateTQ(tq1, k)\n",
    "    atq2 <- aggregateTQ(tq2, k)\n",
    "    return (corTQ(atq1, atq2))\n",
    "}"
   ]
  },
  {
   "cell_type": "code",
   "execution_count": 9,
   "metadata": {
    "collapsed": false
   },
   "outputs": [
    {
     "data": {
      "image/png": "[encoded data removed]",
      "text/plain": [
       "plot without title"
      ]
     },
     "metadata": {},
     "output_type": "display_data"
    }
   ],
   "source": [
    "# Plot\n",
    "x <- 2:600\n",
    "plot(x, ksmooth(x, sapply(x, function(k){aggCorTQ(tqBAC,tqC,k)}), \"normal\", bandwidth=10)$y,\n",
    "     col=\"red\", type = \"l\", ylab=\"Correlation between BAC and C returns\", xlab=\"Seconds aggregated\")"
   ]
  },
  {
   "cell_type": "markdown",
   "metadata": {},
   "source": [
    "(d)\n",
    "\n",
    "From the plot we know that as the sampling frequency increases (aggregate second decreases), the correlation decreases, which is consistent with the Epps effect."
   ]
  },
  {
   "cell_type": "markdown",
   "metadata": {
    "collapsed": true
   },
   "source": [
    "(e)"
   ]
  },
  {
   "cell_type": "code",
   "execution_count": 14,
   "metadata": {
    "collapsed": false
   },
   "outputs": [
    {
     "name": "stderr",
     "output_type": "stream",
     "text": [
      "'getSymbols' currently uses auto.assign=TRUE by default, but will\n",
      "use auto.assign=FALSE in 0.5-0. You will still be able to use\n",
      "'loadSymbols' to automatically load data. getOption(\"getSymbols.env\")\n",
      "and getOption(\"getSymbols.auto.assign\") will still be checked for\n",
      "alternate defaults.\n",
      "\n",
      "This message is shown once per session and may be disabled by setting \n",
      "options(\"getSymbols.warning4.0\"=FALSE). See ?getSymbols for details.\n",
      "\n",
      "WARNING: There have been significant changes to Yahoo Finance data.\n",
      "Please see the Warning section of '?getSymbols.yahoo' for details.\n",
      "\n",
      "This message is shown once per session and may be disabled by setting\n",
      "options(\"getSymbols.yahoo.warning\"=FALSE).\n"
     ]
    },
    {
     "data": {
      "text/html": [
       "\"BAC\""
      ],
      "text/latex": [
       "\"BAC\""
      ],
      "text/markdown": [
       "\"BAC\""
      ],
      "text/plain": [
       "[1] \"BAC\""
      ]
     },
     "metadata": {},
     "output_type": "display_data"
    },
    {
     "data": {
      "text/html": [
       "\"C\""
      ],
      "text/latex": [
       "\"C\""
      ],
      "text/markdown": [
       "\"C\""
      ],
      "text/plain": [
       "[1] \"C\""
      ]
     },
     "metadata": {},
     "output_type": "display_data"
    },
    {
     "data": {
      "text/html": [
       "0.799625784647133"
      ],
      "text/latex": [
       "0.799625784647133"
      ],
      "text/markdown": [
       "0.799625784647133"
      ],
      "text/plain": [
       "[1] 0.7996258"
      ]
     },
     "metadata": {},
     "output_type": "display_data"
    }
   ],
   "source": [
    "# Get symbols for BAC and C\n",
    "getSymbols(\"BAC\", src=\"yahoo\", from=\"2012-01-01\", to=\"2012-12-31\")\n",
    "getSymbols(\"C\", src=\"yahoo\", from=\"2012-01-01\", to=\"2012-12-31\")\n",
    "\n",
    "# Calculate historical correlation of daily returns\n",
    "rBAC <- diff(log(as.numeric(BAC$BAC.Adjusted)))\n",
    "rC <- diff(log(as.numeric(C$C.Adjusted)))\n",
    "cor(rBAC, rC)"
   ]
  },
  {
   "cell_type": "markdown",
   "metadata": {},
   "source": [
    "## The Hayashi-Yoshida estimator"
   ]
  },
  {
   "cell_type": "markdown",
   "metadata": {},
   "source": [
    "### 3. (2 points) \n",
    "Show that when two time series $p^{(1)}$ and $p^{(2)}$ are synchronous, the Hayashi-Yoshida estimator coincides with the realized covariance estimator."
   ]
  },
  {
   "cell_type": "markdown",
   "metadata": {},
   "source": [
    "### Solution\n",
    "\n",
    "The Hayashi-Yoshida estimator is defined as\n",
    "\n",
    "$$HY_t=\\sum_{i\\leq t}\\sum_{j\\leq t} {(p_i^{(1)}-p_{i-1}^{(1)})} {(p_j^{(2)}-p_{j-1}^{(2)})} \\nu_{ij}$$\n",
    "\n",
    "If two time series $p^{(1)}$ and $p^{(2)}$ are synchronous, for all $p_i^{(1)}$ at $t_i$, there exists $p_i^{(2)}$ at $t_i$, and *vice versa*. Therefore, $\\nu_{ij}=1$ for all $i=j\\leq t$.\n",
    "\n",
    "Then the Hayashi-Yoshida estimator can be rewritten as\n",
    "\n",
    "$$HY_t=\\sum_{i=j\\leq t} {(p_i^{(1)}-p_{i-1}^{(1)})} {(p_j^{(2)}-p_{j-1}^{(2)})}=\\sum_{i\\leq t} \\Delta p_i^{(1)} \\Delta p_i^{(2)} $$\n",
    "\n",
    "which is coincide with the realized covariance estimator."
   ]
  },
  {
   "cell_type": "markdown",
   "metadata": {},
   "source": [
    "## Fulvio Corsi's HAR-RV model"
   ]
  },
  {
   "cell_type": "markdown",
   "metadata": {},
   "source": [
    "The following code loads the data of SPX realized volatility required for this problem. Data were downloaded from the Oxford-Man website"
   ]
  },
  {
   "cell_type": "code",
   "execution_count": 16,
   "metadata": {
    "collapsed": true
   },
   "outputs": [],
   "source": [
    "download.file(url=\"https://mfe.baruch.cuny.edu/wp-content/uploads/2015/03/spx_krv.rData_.zip\", destfile=\"spx_krv.zip\")\n",
    "unzip(zipfile=\"spx_krv.zip\")\n",
    "load(\"spx_krv.rData\")"
   ]
  },
  {
   "cell_type": "code",
   "execution_count": 17,
   "metadata": {
    "collapsed": false
   },
   "outputs": [
    {
     "data": {
      "text/html": [
       "<table>\n",
       "<thead><tr><th></th><th scope=col>head.spx.krv.</th></tr></thead>\n",
       "<tbody>\n",
       "\t<tr><th scope=row>2000-01-03</th><td>0.0001607266</td></tr>\n",
       "\t<tr><th scope=row>2000-01-04</th><td>0.0002643965</td></tr>\n",
       "\t<tr><th scope=row>2000-01-05</th><td>0.0003046503</td></tr>\n",
       "\t<tr><th scope=row>2000-01-06</th><td>0.0001485821</td></tr>\n",
       "\t<tr><th scope=row>2000-01-07</th><td>0.000123267</td></tr>\n",
       "\t<tr><th scope=row>2000-01-10</th><td>0.0001306934</td></tr>\n",
       "</tbody>\n",
       "</table>\n"
      ],
      "text/latex": [
       "\\begin{tabular}{r|l}\n",
       "  & head.spx.krv.\\\\\n",
       "\\hline\n",
       "\t2000-01-03 & 0.0001607266\\\\\n",
       "\t2000-01-04 & 0.0002643965\\\\\n",
       "\t2000-01-05 & 0.0003046503\\\\\n",
       "\t2000-01-06 & 0.0001485821\\\\\n",
       "\t2000-01-07 & 0.000123267\\\\\n",
       "\t2000-01-10 & 0.0001306934\\\\\n",
       "\\end{tabular}\n"
      ],
      "text/plain": [
       "           head.spx.krv.\n",
       "2000-01-03  0.0001607266\n",
       "2000-01-04  0.0002643965\n",
       "2000-01-05  0.0003046503\n",
       "2000-01-06  0.0001485821\n",
       "2000-01-07  0.0001232670\n",
       "2000-01-10  0.0001306934"
      ]
     },
     "metadata": {},
     "output_type": "display_data"
    }
   ],
   "source": [
    "data.frame(head(spx.krv))"
   ]
  },
  {
   "cell_type": "markdown",
   "metadata": {},
   "source": [
    "### 4. (12 points)\n",
    "\n",
    "(a) Rerun the HAR-RV example code using the 2008 *DJI_RV* sample from the *highfrequency* package.\n",
    "\n",
    "(b) Repeat the analysis of part (a) with *spx.krv* restricted to 2008.\n",
    "\n",
    "(c) Tabulate the HAR-RV coefficients for the two 2008 datasets.  Are they similar or do they differ?  Is most weight on the 1-day, 5-day, or 22-day RV?\n",
    "\n",
    "(d) Using *quantmod* download daily VIX data.  Subset this data to 2008 and plot ${\\rm VIX}^2$.\n",
    "\n",
    "(e)  Plot SPX RV and superimpose DJI RV for 2008. Superimpose a plot of $\\text{VIX}^2$, adding a scale on the right hand axis (see how this is done in the lecture iPython notebook). Comment on the resulting plot.\n"
   ]
  },
  {
   "cell_type": "code",
   "execution_count": null,
   "metadata": {
    "collapsed": true
   },
   "outputs": [],
   "source": []
  },
  {
   "cell_type": "code",
   "execution_count": null,
   "metadata": {
    "collapsed": true
   },
   "outputs": [],
   "source": []
  },
  {
   "cell_type": "code",
   "execution_count": null,
   "metadata": {
    "collapsed": true
   },
   "outputs": [],
   "source": []
  },
  {
   "cell_type": "code",
   "execution_count": null,
   "metadata": {
    "collapsed": true
   },
   "outputs": [],
   "source": []
  },
  {
   "cell_type": "code",
   "execution_count": null,
   "metadata": {
    "collapsed": true
   },
   "outputs": [],
   "source": []
  },
  {
   "cell_type": "code",
   "execution_count": null,
   "metadata": {
    "collapsed": true
   },
   "outputs": [],
   "source": []
  },
  {
   "cell_type": "code",
   "execution_count": null,
   "metadata": {
    "collapsed": true
   },
   "outputs": [],
   "source": []
  }
 ],
 "metadata": {
  "anaconda-cloud": {},
  "kernelspec": {
   "display_name": "R",
   "language": "R",
   "name": "ir"
  },
  "language_info": {
   "codemirror_mode": "r",
   "file_extension": ".r",
   "mimetype": "text/x-r-source",
   "name": "R",
   "pygments_lexer": "r",
   "version": "3.3.1"
  }
 },
 "nbformat": 4,
 "nbformat_minor": 1
}
