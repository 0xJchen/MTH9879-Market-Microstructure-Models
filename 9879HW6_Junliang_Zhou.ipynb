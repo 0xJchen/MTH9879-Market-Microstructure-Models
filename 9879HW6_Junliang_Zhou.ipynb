{
 "cells": [
  {
   "cell_type": "markdown",
   "metadata": {},
   "source": [
    "# MTH9879 Homework 6\n",
    "\n",
    "Assigned: March 8, 2018.\n",
    "Due March 22, 2018 by 6pm. \n",
    "\n",
    "Late homework **will not be accepted**.\n",
    "\n",
    "$$\n",
    "\\newcommand{\\supp}{\\mathrm{supp}}\n",
    "\\newcommand{\\E}{\\mathbb{E}}\n",
    "\\newcommand{\\EE}{\\mathbb{E}}\n",
    "\\newcommand{\\Eof}[1]{\\mathbb{E}\\left[ #1 \\right]}\n",
    "\\def\\Cov{{ \\mbox{Cov} }}\n",
    "\\def\\Var{{ \\mbox{Var} }}\n",
    "\\newcommand{\\1}{\\mathbf{1} }\n",
    "\\newcommand{\\PP}{\\mathbb{P} }\n",
    "%\\newcommand{\\Pr}{\\mathrm{Pr} }\n",
    "\\newcommand{\\QQ}{\\mathbb{Q} }\n",
    "\\newcommand{\\RR}{\\mathbb{R} }\n",
    "\\newcommand{\\DD}{\\mathbb{D} }\n",
    "\\newcommand{\\HH}{\\mathbb{H} }\n",
    "\\newcommand{\\spn}{\\mathrm{span} }\n",
    "\\newcommand{\\cov}{\\mathrm{cov} }\n",
    "\\newcommand{\\sgn}{\\mathrm{sgn} }\n",
    "\\newcommand{\\HS}{\\mathcal{L}_{\\mathrm{HS}} }\n",
    "%\\newcommand{\\HS}{\\mathrm{HS} }\n",
    "\\newcommand{\\trace}{\\mathrm{trace} }\n",
    "\\newcommand{\\LL}{\\mathcal{L} }\n",
    "%\\newcommand{\\LL}{\\mathrm{L} }\n",
    "\\newcommand{\\s}{\\mathcal{S} }\n",
    "\\newcommand{\\ee}{\\mathcal{E} }\n",
    "\\newcommand{\\ff}{\\mathcal{F} }\n",
    "\\newcommand{\\hh}{\\mathcal{H} }\n",
    "\\newcommand{\\bb}{\\mathcal{B} }\n",
    "\\newcommand{\\dd}{\\mathcal{D} }\n",
    "\\newcommand{\\g}{\\mathcal{G} }\n",
    "\\newcommand{\\p}{\\partial}\n",
    "\\newcommand{\\half}{\\frac{1}{2} }\n",
    "\\newcommand{\\T}{\\mathcal{T} }\n",
    "\\newcommand{\\bi}{\\begin{itemize}}\n",
    "\\newcommand{\\ei}{\\end{itemize}}\n",
    "\\newcommand{\\beq}{\\begin{equation}}\n",
    "\\newcommand{\\eeq}{\\end{equation}}\n",
    "\\newcommand{\\beas}{\\begin{eqnarray*}}\n",
    "\\newcommand{\\eeas}{\\end{eqnarray*}}\n",
    "\\newcommand{\\cO}{\\mathcal{O}}\n",
    "\\newcommand{\\cF}{\\mathcal{F}}\n",
    "\\newcommand{\\cI}{\\mathcal{I}}\n",
    "\\newcommand{\\cL}{\\mathcal{L}}\n",
    "\\newcommand{\\cM}{\\mathcal{M}}\n",
    "\\newcommand{\\BS}{\\text{BS}}\n",
    "$$"
   ]
  },
  {
   "cell_type": "markdown",
   "metadata": {},
   "source": [
    "<font color = \"red\">Homework is to be done by each student individually.  To receive full credit, you must email a completed copy of this iPython notebook to Victor Istratov (stavka@gmail.com), Yassine Ghalem (yassine.ghalem@gmail.com) and Jim Gatheral (jim.gatheral@gmail.com) by the due date and time.  All R-code must run correctly and solutions must be written up neatly in Markdown/LaTeX format."
   ]
  },
  {
   "cell_type": "markdown",
   "metadata": {},
   "source": [
    "## Junliang Zhou\n",
    "\n",
    "Tel: (347) 276-1207\n",
    "\n",
    "Email: gjimzhou@gmail.com"
   ]
  },
  {
   "cell_type": "markdown",
   "metadata": {},
   "source": [
    "### 0. (0 points) \n",
    "Read the review article by McAleer and Medeiros and also the nice article by Barndorff-Nielsen et al."
   ]
  },
  {
   "cell_type": "markdown",
   "metadata": {},
   "source": [
    "## Comparison of estimators"
   ]
  },
  {
   "cell_type": "markdown",
   "metadata": {},
   "source": [
    "### Download RV estimator code"
   ]
  },
  {
   "cell_type": "code",
   "execution_count": 1,
   "metadata": {
    "collapsed": true
   },
   "outputs": [],
   "source": [
    "options(warn = -1)\n",
    "\n",
    "download.file(url=\"http://mfe.baruch.cuny.edu/wp-content/uploads/2015/02/tq.zip\", destfile=\"tq.zip\")\n",
    "unzip(zipfile=\"tq.zip\")\n",
    "download.file(url=\"https://mfe.baruch.cuny.edu/wp-content/uploads/2018/03/tq_BAC_C.zip\", destfile=\"tq_BAC_C.zip\")\n",
    "unzip(zipfile=\"tq_BAC_C.zip\")\n",
    "download.file(url=\"https://mfe.baruch.cuny.edu/wp-content/uploads/2015/03/RvEstimators.R.zip\", destfile=\"RvEstimators.R.zip\")\n",
    "unzip(zipfile=\"RvEstimators.R.zip\")"
   ]
  },
  {
   "cell_type": "code",
   "execution_count": 2,
   "metadata": {
    "collapsed": true
   },
   "outputs": [],
   "source": [
    "load(\"tqDataBAC_20170919.rData\")\n",
    "Sys.setenv(TZ='EST')\n",
    "tqBAC <- tqdata"
   ]
  },
  {
   "cell_type": "code",
   "execution_count": 3,
   "metadata": {
    "collapsed": false
   },
   "outputs": [
    {
     "name": "stderr",
     "output_type": "stream",
     "text": [
      "Loading required package: xts\n",
      "Loading required package: zoo\n",
      "\n",
      "Attaching package: 'zoo'\n",
      "\n",
      "The following objects are masked from 'package:base':\n",
      "\n",
      "    as.Date, as.Date.numeric\n",
      "\n"
     ]
    }
   ],
   "source": [
    "library(highfrequency)"
   ]
  },
  {
   "cell_type": "code",
   "execution_count": 4,
   "metadata": {
    "collapsed": true
   },
   "outputs": [],
   "source": [
    "source('RvEstimators.R')"
   ]
  },
  {
   "cell_type": "markdown",
   "metadata": {},
   "source": [
    "### 1. (12 points) \n",
    "This assignment uses the *tqBAC* dataset and the RV estimators from *RvEstimators.R*."
   ]
  },
  {
   "cell_type": "markdown",
   "metadata": {},
   "source": [
    "(a) Consider the BAC trade price series.  Superimpose signature plots of the following estimators with subsampling frequency $q$ from 1 to 20: ZHOU, TSRV, MSRV, KRVTH, KRVC.  Express your results as $\\sqrt{RV}$ to make them more intuitive, as in Table 1 of Lecture 6 (recall that volatility estimates should be of the order of $2\\%$!).\n",
    "<br>\n",
    "Pay attention to good aesthetics, addling a proper legend to your plot.\n",
    "\n",
    "(b) Repeat part (a) for the BAC mid-quote series.\n",
    "\n",
    "(c) Which of these estimators do you recommend and why?  What sub-sampling frequency do you recommend based on these pictures?"
   ]
  },
  {
   "cell_type": "markdown",
   "metadata": {
    "collapsed": true
   },
   "source": [
    "### Solution\n",
    "\n",
    "(a)"
   ]
  },
  {
   "cell_type": "code",
   "execution_count": 5,
   "metadata": {
    "collapsed": false
   },
   "outputs": [
    {
     "data": {
      "image/png": "[encoded data removed]",
      "text/plain": [
       "plot without title"
      ]
     },
     "metadata": {},
     "output_type": "display_data"
    }
   ],
   "source": [
    "# Get stock prices\n",
    "prices <- log(as.numeric(tqBAC$PRICE))\n",
    "\n",
    "# Compute RV as function of sampling frequency\n",
    "freq <- 20\n",
    "rv_ZHOU <- sapply(1:freq, function(q){sqrt(ZHOU(prices,q))})\n",
    "rv_TSRV <- sapply(1:freq, function(q){sqrt(TSRV(prices,q))})\n",
    "rv_MS <- sapply(1:freq, function(q){sqrt(MSRV(prices,q))})\n",
    "rv_KRVTH <- sapply(1:freq, function(q){sqrt(KRVTH(prices,q))})\n",
    "rv_KRVC <- sapply(1:freq, function(q){sqrt(KRVC(prices,q))})\n",
    "\n",
    "# Plot\n",
    "plot(1:freq, rv_ZHOU, col=\"red\", type='l', ylab='Realized variance', xlab='Sampling frequency q')\n",
    "lines(rv_TSRV, col=\"orange\")\n",
    "lines(rv_MS, col=\"blue\")\n",
    "lines(rv_KRVTH, col=\"green\")\n",
    "lines(rv_KRVC, col=\"purple\")\n",
    "legend(\"topright\", \n",
    "       c(\"ZHOU\",\"TSRV\",\"MSRV\",\"KRVTH\",\"KRVC\"),\n",
    "       lty=c(1,1,1,1,1), \n",
    "       col=c(\"red\",\"orange\",\"blue\",\"green\",\"purple\"))"
   ]
  },
  {
   "cell_type": "markdown",
   "metadata": {},
   "source": [
    "(b)"
   ]
  },
  {
   "cell_type": "code",
   "execution_count": 6,
   "metadata": {
    "collapsed": false
   },
   "outputs": [
    {
     "data": {
      "image/png": "[encoded data removed]",
      "text/plain": [
       "plot without title"
      ]
     },
     "metadata": {},
     "output_type": "display_data"
    }
   ],
   "source": [
    "# Get mid quotes\n",
    "mids <- log((as.numeric(tqBAC$BID)+as.numeric(tqBAC$OFR))/2)\n",
    "\n",
    "# Compute RV as function of sampling frequency\n",
    "freq <- 20\n",
    "rv_ZHOU <- sapply(1:freq, function(q){sqrt(ZHOU(mids,q))})\n",
    "rv_TSRV <- sapply(1:freq, function(q){sqrt(TSRV(mids,q))})\n",
    "rv_MS <- sapply(1:freq, function(q){sqrt(MSRV(mids,q))})\n",
    "rv_KRVTH <- sapply(1:freq, function(q){sqrt(KRVTH(mids,q))})\n",
    "rv_KRVC <- sapply(1:freq, function(q){sqrt(KRVC(mids,q))})\n",
    "\n",
    "# Plot\n",
    "plot(1:freq, rv_ZHOU, col=\"red\", type='l', ylab='Realized variance', xlab='Sampling frequency q')\n",
    "lines(rv_TSRV, col=\"orange\")\n",
    "lines(rv_MS, col=\"blue\")\n",
    "lines(rv_KRVTH, col=\"green\")\n",
    "lines(rv_KRVC, col=\"purple\")\n",
    "legend(\"topright\", \n",
    "       c(\"ZHOU\",\"TSRV\",\"MSRV\",\"KRVTH\",\"KRVC\"),\n",
    "       lty=c(1,1,1,1,1), \n",
    "       col=c(\"red\",\"orange\",\"blue\",\"green\",\"purple\"))"
   ]
  },
  {
   "cell_type": "markdown",
   "metadata": {
    "collapsed": true
   },
   "source": [
    "(c)\n",
    "\n",
    "As frequency from 1 to 20 doesn't give much useful information, replot with frequency from 1 to 200."
   ]
  },
  {
   "cell_type": "code",
   "execution_count": 7,
   "metadata": {
    "collapsed": false
   },
   "outputs": [
    {
     "data": {
      "image/png": "[encoded data removed]",
      "text/plain": [
       "plot without title"
      ]
     },
     "metadata": {},
     "output_type": "display_data"
    }
   ],
   "source": [
    "# Get stock prices\n",
    "prices <- log(as.numeric(tqBAC$PRICE))\n",
    "\n",
    "# Compute RV as function of sampling frequency\n",
    "freq <- 200\n",
    "rv_ZHOU <- sapply(1:freq, function(q){sqrt(ZHOU(prices,q))})\n",
    "rv_TSRV <- sapply(1:freq, function(q){sqrt(TSRV(prices,q))})\n",
    "rv_MS <- sapply(1:freq, function(q){sqrt(MSRV(prices,q))})\n",
    "rv_KRVTH <- sapply(1:freq, function(q){sqrt(KRVTH(prices,q))})\n",
    "rv_KRVC <- sapply(1:freq, function(q){sqrt(KRVC(prices,q))})\n",
    "\n",
    "# Plot\n",
    "plot(1:freq, rv_ZHOU, col=\"red\", type='l', ylab='Realized variance', xlab='Sampling frequency q')\n",
    "lines(rv_TSRV, col=\"orange\")\n",
    "lines(rv_MS, col=\"blue\")\n",
    "lines(rv_KRVTH, col=\"green\")\n",
    "lines(rv_KRVC, col=\"purple\")\n",
    "legend(\"topright\", \n",
    "       c(\"ZHOU\",\"TSRV\",\"MSRV\",\"KRVTH\",\"KRVC\"),\n",
    "       lty=c(1,1,1,1,1), \n",
    "       col=c(\"red\",\"orange\",\"blue\",\"green\",\"purple\"))"
   ]
  },
  {
   "cell_type": "code",
   "execution_count": 8,
   "metadata": {
    "collapsed": false
   },
   "outputs": [
    {
     "data": {
      "image/png": "[encoded data removed]",
      "text/plain": [
       "plot without title"
      ]
     },
     "metadata": {},
     "output_type": "display_data"
    }
   ],
   "source": [
    "# Get mid quotes\n",
    "mids <- log((as.numeric(tqBAC$BID)+as.numeric(tqBAC$OFR))/2)\n",
    "\n",
    "# Compute RV as function of sampling frequency\n",
    "freq <- 200\n",
    "rv_ZHOU <- sapply(1:freq, function(q){sqrt(ZHOU(mids,q))})\n",
    "rv_TSRV <- sapply(1:freq, function(q){sqrt(TSRV(mids,q))})\n",
    "rv_MS <- sapply(1:freq, function(q){sqrt(MSRV(mids,q))})\n",
    "rv_KRVTH <- sapply(1:freq, function(q){sqrt(KRVTH(mids,q))})\n",
    "rv_KRVC <- sapply(1:freq, function(q){sqrt(KRVC(mids,q))})\n",
    "\n",
    "# Plot\n",
    "plot(1:freq, rv_ZHOU, col=\"red\", type='l', ylab='Realized variance', xlab='Sampling frequency q')\n",
    "lines(rv_TSRV, col=\"orange\")\n",
    "lines(rv_MS, col=\"blue\")\n",
    "lines(rv_KRVTH, col=\"green\")\n",
    "lines(rv_KRVC, col=\"purple\")\n",
    "legend(\"topright\", \n",
    "       c(\"ZHOU\",\"TSRV\",\"MSRV\",\"KRVTH\",\"KRVC\"),\n",
    "       lty=c(1,1,1,1,1), \n",
    "       col=c(\"red\",\"orange\",\"blue\",\"green\",\"purple\"))"
   ]
  },
  {
   "cell_type": "markdown",
   "metadata": {},
   "source": [
    "From the plot we can choose KRVTH when frequency is 50 since it's the smoothest and most stable one among all estimators and frequencies."
   ]
  },
  {
   "cell_type": "markdown",
   "metadata": {},
   "source": [
    "## The Epps effect"
   ]
  },
  {
   "cell_type": "markdown",
   "metadata": {},
   "source": [
    "### 2. (14 points) \n",
    "For this assignment, use the *tqBAC* and  *tqC* datasets from *tq.rData*, the function *getSymbols* from the *quantmod* package, and the function *aggregatets* from the * highfrequency* package."
   ]
  },
  {
   "cell_type": "code",
   "execution_count": 9,
   "metadata": {
    "collapsed": false
   },
   "outputs": [
    {
     "name": "stderr",
     "output_type": "stream",
     "text": [
      "Loading required package: TTR\n",
      "Version 0.4-0 included new data defaults. See ?getSymbols.\n",
      "\n",
      "Attaching package: 'quantmod'\n",
      "\n",
      "The following objects are masked from 'package:highfrequency':\n",
      "\n",
      "    getPrice, has.Qty\n",
      "\n"
     ]
    }
   ],
   "source": [
    "load('tq.rData')\n",
    "library(highfrequency)\n",
    "library(quantmod)"
   ]
  },
  {
   "cell_type": "markdown",
   "metadata": {},
   "source": [
    "(a) Write a function to aggregate a *tq* object (such as *tqBAC*) to the nearest $k$ seconds. <br>\n",
    "(Hint: Use the function *aggregatets(.)*).\n",
    "\n",
    "(b) Write a function to compute the correlation between two high-frequency log return series (in *tq* format) where the underlying prices have been aggregated to the nearest $k$ seconds.\n",
    "\n",
    "(c) Plot the correlation between BAC and C returns where these returns are sampled every $k$ seconds, with $ k  \\in \\{2,3,4,. .., 599,600\\} $.  Use a kernel smoothing function such as *ksmooth* to smooth your results.  Make sure the aesthetics are good with nice labels etc.\n",
    "\n",
    "(d)  Is your plot consistent with the Epps effect?  What was the intraday correlation between BAC and C returns on 04-May-2012?\n",
    "\n",
    "(e) Use the function *getSymbols* from *quantmod* to download daily data for BAC and C from 01-Jan-2012 to 31-Dec-2012.  What was the historical correlation of daily BAC and C returns over that period?"
   ]
  },
  {
   "cell_type": "markdown",
   "metadata": {},
   "source": [
    "### Solution\n",
    "\n",
    "(a)"
   ]
  },
  {
   "cell_type": "code",
   "execution_count": 10,
   "metadata": {
    "collapsed": true
   },
   "outputs": [],
   "source": [
    "# Aggregate a tq object to the nearest k seconds\n",
    "aggregateTQ <- function(tq, k) {\n",
    "    return (aggregatets(tq, k=k, on=\"seconds\"))\n",
    "}"
   ]
  },
  {
   "cell_type": "markdown",
   "metadata": {},
   "source": [
    "(b)"
   ]
  },
  {
   "cell_type": "code",
   "execution_count": 11,
   "metadata": {
    "collapsed": false,
    "scrolled": true
   },
   "outputs": [],
   "source": [
    "# Compute the correlation between two high-frequency log return series\n",
    "corTQ <- function(tq1, tq2) {\n",
    "    r1 <- diff(log(as.numeric(tq1$PRICE)))\n",
    "    r2 <- diff(log(as.numeric(tq2$PRICE)))\n",
    "    return (cor(r1, r2))\n",
    "}"
   ]
  },
  {
   "cell_type": "markdown",
   "metadata": {},
   "source": [
    "(c)"
   ]
  },
  {
   "cell_type": "code",
   "execution_count": 12,
   "metadata": {
    "collapsed": false
   },
   "outputs": [],
   "source": [
    "# Compute the correlation between aggregated log return series\n",
    "aggCorTQ <- function(tq1, tq2, k) {\n",
    "    atq1 <- aggregateTQ(tq1, k)\n",
    "    atq2 <- aggregateTQ(tq2, k)\n",
    "    return (corTQ(atq1, atq2))\n",
    "}"
   ]
  },
  {
   "cell_type": "code",
   "execution_count": 13,
   "metadata": {
    "collapsed": false
   },
   "outputs": [
    {
     "data": {
      "image/png": "[encoded data removed]",
      "text/plain": [
       "plot without title"
      ]
     },
     "metadata": {},
     "output_type": "display_data"
    }
   ],
   "source": [
    "# Plot\n",
    "x <- 2:600\n",
    "plot(x, ksmooth(x, sapply(x, function(k){aggCorTQ(tqBAC,tqC,k)}), \"normal\", bandwidth=10)$y,\n",
    "     col=\"red\", type = \"l\", ylab=\"Correlation between BAC and C returns\", xlab=\"Seconds aggregated\")"
   ]
  },
  {
   "cell_type": "markdown",
   "metadata": {},
   "source": [
    "(d)\n",
    "\n",
    "From the plot we know that as the sampling frequency increases (aggregate second decreases), the correlation decreases, which is consistent with the Epps effect."
   ]
  },
  {
   "cell_type": "markdown",
   "metadata": {
    "collapsed": true
   },
   "source": [
    "(e)"
   ]
  },
  {
   "cell_type": "code",
   "execution_count": 14,
   "metadata": {
    "collapsed": false
   },
   "outputs": [
    {
     "name": "stderr",
     "output_type": "stream",
     "text": [
      "'getSymbols' currently uses auto.assign=TRUE by default, but will\n",
      "use auto.assign=FALSE in 0.5-0. You will still be able to use\n",
      "'loadSymbols' to automatically load data. getOption(\"getSymbols.env\")\n",
      "and getOption(\"getSymbols.auto.assign\") will still be checked for\n",
      "alternate defaults.\n",
      "\n",
      "This message is shown once per session and may be disabled by setting \n",
      "options(\"getSymbols.warning4.0\"=FALSE). See ?getSymbols for details.\n",
      "\n",
      "WARNING: There have been significant changes to Yahoo Finance data.\n",
      "Please see the Warning section of '?getSymbols.yahoo' for details.\n",
      "\n",
      "This message is shown once per session and may be disabled by setting\n",
      "options(\"getSymbols.yahoo.warning\"=FALSE).\n"
     ]
    },
    {
     "data": {
      "text/html": [
       "\"BAC\""
      ],
      "text/latex": [
       "\"BAC\""
      ],
      "text/markdown": [
       "\"BAC\""
      ],
      "text/plain": [
       "[1] \"BAC\""
      ]
     },
     "metadata": {},
     "output_type": "display_data"
    },
    {
     "data": {
      "text/html": [
       "\"C\""
      ],
      "text/latex": [
       "\"C\""
      ],
      "text/markdown": [
       "\"C\""
      ],
      "text/plain": [
       "[1] \"C\""
      ]
     },
     "metadata": {},
     "output_type": "display_data"
    },
    {
     "data": {
      "text/html": [
       "0.799625784647133"
      ],
      "text/latex": [
       "0.799625784647133"
      ],
      "text/markdown": [
       "0.799625784647133"
      ],
      "text/plain": [
       "[1] 0.7996258"
      ]
     },
     "metadata": {},
     "output_type": "display_data"
    }
   ],
   "source": [
    "# Get symbols for BAC and C\n",
    "getSymbols(\"BAC\", src=\"yahoo\", from=\"2012-01-01\", to=\"2012-12-31\")\n",
    "getSymbols(\"C\", src=\"yahoo\", from=\"2012-01-01\", to=\"2012-12-31\")\n",
    "\n",
    "# Calculate historical correlation of daily returns\n",
    "rBAC <- diff(log(as.numeric(BAC$BAC.Adjusted)))\n",
    "rC <- diff(log(as.numeric(C$C.Adjusted)))\n",
    "cor(rBAC, rC)"
   ]
  },
  {
   "cell_type": "markdown",
   "metadata": {},
   "source": [
    "## The Hayashi-Yoshida estimator"
   ]
  },
  {
   "cell_type": "markdown",
   "metadata": {},
   "source": [
    "### 3. (2 points) \n",
    "Show that when two time series $p^{(1)}$ and $p^{(2)}$ are synchronous, the Hayashi-Yoshida estimator coincides with the realized covariance estimator."
   ]
  },
  {
   "cell_type": "markdown",
   "metadata": {},
   "source": [
    "### Solution\n",
    "\n",
    "The Hayashi-Yoshida estimator is defined as\n",
    "\n",
    "$$HY_t=\\sum_{i\\leq t}\\sum_{j\\leq t} {(p_i^{(1)}-p_{i-1}^{(1)})} {(p_j^{(2)}-p_{j-1}^{(2)})} \\nu_{ij}$$\n",
    "\n",
    "If two time series $p^{(1)}$ and $p^{(2)}$ are synchronous, for all $p_i^{(1)}$ at $t_i$, there exists $p_i^{(2)}$ at $t_i$, and *vice versa*. Therefore, $\\nu_{ij}=1$ for all $i=j\\leq t$, and $\\nu_{ij}=0$ otherwise.\n",
    "\n",
    "Then the Hayashi-Yoshida estimator can be rewritten as\n",
    "\n",
    "$$HY_t=\\sum_{i=j\\leq t} {(p_i^{(1)}-p_{i-1}^{(1)})} {(p_j^{(2)}-p_{j-1}^{(2)})}=\\sum_{i\\leq t} \\Delta p_i^{(1)} \\Delta p_i^{(2)} $$\n",
    "\n",
    "which is coincide with the realized covariance estimator."
   ]
  },
  {
   "cell_type": "markdown",
   "metadata": {},
   "source": [
    "## Fulvio Corsi's HAR-RV model"
   ]
  },
  {
   "cell_type": "markdown",
   "metadata": {},
   "source": [
    "The following code loads the data of SPX realized volatility required for this problem. Data were downloaded from the Oxford-Man website"
   ]
  },
  {
   "cell_type": "code",
   "execution_count": 15,
   "metadata": {
    "collapsed": true
   },
   "outputs": [],
   "source": [
    "download.file(url=\"https://mfe.baruch.cuny.edu/wp-content/uploads/2015/03/spx_krv.rData_.zip\", destfile=\"spx_krv.zip\")\n",
    "unzip(zipfile=\"spx_krv.zip\")\n",
    "load(\"spx_krv.rData\")"
   ]
  },
  {
   "cell_type": "code",
   "execution_count": 16,
   "metadata": {
    "collapsed": false
   },
   "outputs": [
    {
     "data": {
      "text/html": [
       "<table>\n",
       "<thead><tr><th></th><th scope=col>head.spx.krv.</th></tr></thead>\n",
       "<tbody>\n",
       "\t<tr><th scope=row>2000-01-03</th><td>0.0001607266</td></tr>\n",
       "\t<tr><th scope=row>2000-01-04</th><td>0.0002643965</td></tr>\n",
       "\t<tr><th scope=row>2000-01-05</th><td>0.0003046503</td></tr>\n",
       "\t<tr><th scope=row>2000-01-06</th><td>0.0001485821</td></tr>\n",
       "\t<tr><th scope=row>2000-01-07</th><td>0.000123267</td></tr>\n",
       "\t<tr><th scope=row>2000-01-10</th><td>0.0001306934</td></tr>\n",
       "</tbody>\n",
       "</table>\n"
      ],
      "text/latex": [
       "\\begin{tabular}{r|l}\n",
       "  & head.spx.krv.\\\\\n",
       "\\hline\n",
       "\t2000-01-03 & 0.0001607266\\\\\n",
       "\t2000-01-04 & 0.0002643965\\\\\n",
       "\t2000-01-05 & 0.0003046503\\\\\n",
       "\t2000-01-06 & 0.0001485821\\\\\n",
       "\t2000-01-07 & 0.000123267\\\\\n",
       "\t2000-01-10 & 0.0001306934\\\\\n",
       "\\end{tabular}\n"
      ],
      "text/plain": [
       "           head.spx.krv.\n",
       "2000-01-03  0.0001607266\n",
       "2000-01-04  0.0002643965\n",
       "2000-01-05  0.0003046503\n",
       "2000-01-06  0.0001485821\n",
       "2000-01-07  0.0001232670\n",
       "2000-01-10  0.0001306934"
      ]
     },
     "metadata": {},
     "output_type": "display_data"
    }
   ],
   "source": [
    "data.frame(head(spx.krv))"
   ]
  },
  {
   "cell_type": "markdown",
   "metadata": {},
   "source": [
    "### 4. (12 points)\n",
    "\n",
    "(a) Rerun the HAR-RV example code using the 2008 *DJI_RV* sample from the *highfrequency* package.\n",
    "\n",
    "(b) Repeat the analysis of part (a) with *spx.krv* restricted to 2008.\n",
    "\n",
    "(c) Tabulate the HAR-RV coefficients for the two 2008 datasets.  Are they similar or do they differ?  Is most weight on the 1-day, 5-day, or 22-day RV?\n",
    "\n",
    "(d) Using *quantmod* download daily VIX data.  Subset this data to 2008 and plot ${\\rm VIX}^2$.\n",
    "\n",
    "(e)  Plot SPX RV and superimpose DJI RV for 2008. Superimpose a plot of $\\text{VIX}^2$, adding a scale on the right hand axis (see how this is done in the lecture iPython notebook). Comment on the resulting plot.\n"
   ]
  },
  {
   "cell_type": "markdown",
   "metadata": {
    "collapsed": true
   },
   "source": [
    "### Solution\n",
    "\n",
    "(a)"
   ]
  },
  {
   "cell_type": "code",
   "execution_count": 17,
   "metadata": {
    "collapsed": false
   },
   "outputs": [
    {
     "data": {
      "text/plain": [
       "\n",
       "Call:\n",
       "\"RV1 = beta0  +  beta1 * RV1 +  beta2 * RV5 +  beta3 * RV22\"\n",
       "\n",
       "Residuals:\n",
       "       Min         1Q     Median         3Q        Max \n",
       "-0.0017683 -0.0000626 -0.0000427 -0.0000087  0.0044331 \n",
       "\n",
       "Coefficients:\n",
       "       Estimate Std. Error t value Pr(>|t|)    \n",
       "beta0 4.432e-05  3.695e-05   1.200   0.2315    \n",
       "beta1 1.586e-01  8.089e-02   1.960   0.0512 .  \n",
       "beta2 6.213e-01  1.362e-01   4.560 8.36e-06 ***\n",
       "beta3 8.721e-02  1.217e-01   0.716   0.4745    \n",
       "---\n",
       "Signif. codes:  0 '***' 0.001 '**' 0.01 '*' 0.05 '.' 0.1 ' ' 1\n",
       "\n",
       "Residual standard error: 0.0004344 on 227 degrees of freedom\n",
       "Multiple R-squared:  0.4679,\tAdjusted R-squared:  0.4608 \n",
       "F-statistic: 66.53 on 3 and 227 DF,  p-value: < 2.2e-16\n"
      ]
     },
     "metadata": {},
     "output_type": "display_data"
    },
    {
     "data": {},
     "metadata": {},
     "output_type": "display_data"
    },
    {
     "data": {
      "image/png": "[encoded data removed]",
      "text/plain": [
       "plot without title"
      ]
     },
     "metadata": {},
     "output_type": "display_data"
    }
   ],
   "source": [
    "# Get DJI RV and run HAR-RV\n",
    "data(realized_library)\n",
    "DJI_RV <- realized_library$Dow.Jones.Industrials.Realized.Variance\n",
    "DJI_RV <- DJI_RV[!is.na(DJI_RV)]\n",
    "DJI_RV <- DJI_RV['2008']\n",
    "\n",
    "fit <- harModel(data=DJI_RV, periods=c(1,5,22), RVest=c(\"rCov\"), type=\"HARRV\", h=1, transform=NULL)\n",
    "summary(fit)\n",
    "plot(fit)"
   ]
  },
  {
   "cell_type": "markdown",
   "metadata": {
    "collapsed": true
   },
   "source": [
    "(b)"
   ]
  },
  {
   "cell_type": "code",
   "execution_count": 18,
   "metadata": {
    "collapsed": false
   },
   "outputs": [
    {
     "data": {
      "text/plain": [
       "\n",
       "Call:\n",
       "\"RV1 = beta0  +  beta1 * RV1 +  beta2 * RV5 +  beta3 * RV22\"\n",
       "\n",
       "Residuals:\n",
       "       Min         1Q     Median         3Q        Max \n",
       "-0.0022396 -0.0001219 -0.0000725 -0.0000176  0.0079141 \n",
       "\n",
       "Coefficients:\n",
       "       Estimate Std. Error t value Pr(>|t|)    \n",
       "beta0 7.164e-05  5.960e-05   1.202  0.23067    \n",
       "beta1 1.523e-01  8.218e-02   1.853  0.06526 .  \n",
       "beta2 5.512e-01  1.415e-01   3.896  0.00013 ***\n",
       "beta3 1.501e-01  1.324e-01   1.134  0.25801    \n",
       "---\n",
       "Signif. codes:  0 '***' 0.001 '**' 0.01 '*' 0.05 '.' 0.1 ' ' 1\n",
       "\n",
       "Residual standard error: 0.0006787 on 220 degrees of freedom\n",
       "Multiple R-squared:  0.4096,\tAdjusted R-squared:  0.4015 \n",
       "F-statistic: 50.87 on 3 and 220 DF,  p-value: < 2.2e-16\n"
      ]
     },
     "metadata": {},
     "output_type": "display_data"
    },
    {
     "data": {},
     "metadata": {},
     "output_type": "display_data"
    },
    {
     "data": {
      "image/png": "[encoded data removed]",
      "text/plain": [
       "plot without title"
      ]
     },
     "metadata": {},
     "output_type": "display_data"
    }
   ],
   "source": [
    "# Get SPX RV and run HAR-RV\n",
    "spx.krv <- spx.krv[!is.na(spx.krv)]\n",
    "spx.krv <- spx.krv['2008']\n",
    "\n",
    "fit <- harModel(data=spx.krv, periods=c(1,5,22), RVest=c(\"rCov\"), type=\"HARRV\", h=1, transform=NULL)\n",
    "summary(fit)\n",
    "plot(fit)"
   ]
  },
  {
   "cell_type": "markdown",
   "metadata": {
    "collapsed": true
   },
   "source": [
    "(c)"
   ]
  },
  {
   "cell_type": "markdown",
   "metadata": {},
   "source": [
    "The HAR-RV coefficients for DJI RV and SYX RV in 2008 are tabled below.\n",
    "\n",
    "|  Estimator  |  DJI RV  |  SYX RV  |\n",
    "|:------------|:---------|:---------|\n",
    "|  Intercept  |  4.432e-05  |  7.164e-05  |\n",
    "|  1-Day RV  |  1.586e-01 . |  1.523e-01 .  |\n",
    "|  5-Day RV  |  6.213e-01 \\*\\*\\*  |  5.512e-01 \\*\\*\\*  |\n",
    "|  22-Day RV  |  8.721e-02  |  1.501e-01  |\n",
    "\n",
    "From the table we know that they are very much similar to each other and the 5-Day RV is the most significant for both."
   ]
  },
  {
   "cell_type": "markdown",
   "metadata": {},
   "source": [
    "(d)"
   ]
  },
  {
   "cell_type": "code",
   "execution_count": 19,
   "metadata": {
    "collapsed": false
   },
   "outputs": [
    {
     "data": {
      "text/html": [
       "\"VIX\""
      ],
      "text/latex": [
       "\"VIX\""
      ],
      "text/markdown": [
       "\"VIX\""
      ],
      "text/plain": [
       "[1] \"VIX\""
      ]
     },
     "metadata": {},
     "output_type": "display_data"
    },
    {
     "data": {},
     "metadata": {},
     "output_type": "display_data"
    },
    {
     "data": {
      "image/png": "[encoded data removed]",
      "text/plain": [
       "plot without title"
      ]
     },
     "metadata": {},
     "output_type": "display_data"
    }
   ],
   "source": [
    "# Get VIX and calculate VIX^2\n",
    "getSymbols(\"^VIX\", src=\"yahoo\", from=\"2008-01-01\", to=\"2008-12-31\")\n",
    "\n",
    "VIX2 <- (VIX$VIX.Adjusted)^2\n",
    "plot(VIX2, ylab=\"VIX^2\", xlab=\"Date\")"
   ]
  },
  {
   "cell_type": "markdown",
   "metadata": {},
   "source": [
    "(e)"
   ]
  },
  {
   "cell_type": "code",
   "execution_count": 20,
   "metadata": {
    "collapsed": false
   },
   "outputs": [
    {
     "data": {
      "text/html": [
       "<table>\n",
       "<thead><tr><th></th><th scope=col>Date</th><th scope=col>spx.krv</th><th scope=col>Dow.Jones.Industrials.Realized.Variance</th><th scope=col>VIX.Adjusted</th></tr></thead>\n",
       "<tbody>\n",
       "\t<tr><th scope=row>1</th><td>1.388000e+04</td><td>1.119915e-04</td><td>9.071620e-05</td><td>5.368489e+02</td></tr>\n",
       "\t<tr><th scope=row>2</th><td>1.388100e+04</td><td>5.201828e-05</td><td>4.049200e-05</td><td>5.058001e+02</td></tr>\n",
       "\t<tr><th scope=row>3</th><td>1.388200e+04</td><td>1.381456e-04</td><td>7.245940e-05</td><td>5.731236e+02</td></tr>\n",
       "\t<tr><th scope=row>4</th><td>1.388500e+04</td><td>1.970979e-04</td><td>1.043010e-04</td><td>5.659641e+02</td></tr>\n",
       "\t<tr><th scope=row>5</th><td>1.388600e+04</td><td>1.980179e-04</td><td>1.022930e-04</td><td>6.466849e+02</td></tr>\n",
       "\t<tr><th scope=row>6</th><td>1.388700e+04</td><td>2.397865e-04</td><td>1.334460e-04</td><td>5.817744e+02</td></tr>\n",
       "</tbody>\n",
       "</table>\n"
      ],
      "text/latex": [
       "\\begin{tabular}{r|llll}\n",
       "  & Date & spx.krv & Dow.Jones.Industrials.Realized.Variance & VIX.Adjusted\\\\\n",
       "\\hline\n",
       "\t1 & 1.388000e+04 & 1.119915e-04 & 9.071620e-05 & 5.368489e+02\\\\\n",
       "\t2 & 1.388100e+04 & 5.201828e-05 & 4.049200e-05 & 5.058001e+02\\\\\n",
       "\t3 & 1.388200e+04 & 1.381456e-04 & 7.245940e-05 & 5.731236e+02\\\\\n",
       "\t4 & 1.388500e+04 & 1.970979e-04 & 1.043010e-04 & 5.659641e+02\\\\\n",
       "\t5 & 1.388600e+04 & 1.980179e-04 & 1.022930e-04 & 6.466849e+02\\\\\n",
       "\t6 & 1.388700e+04 & 2.397865e-04 & 1.334460e-04 & 5.817744e+02\\\\\n",
       "\\end{tabular}\n"
      ],
      "text/plain": [
       "        Date      spx.krv Dow.Jones.Industrials.Realized.Variance VIX.Adjusted\n",
       "1 2008-01-02 1.119915e-04                             9.07162e-05     536.8489\n",
       "2 2008-01-03 5.201828e-05                             4.04920e-05     505.8001\n",
       "3 2008-01-04 1.381456e-04                             7.24594e-05     573.1236\n",
       "4 2008-01-07 1.970979e-04                             1.04301e-04     565.9641\n",
       "5 2008-01-08 1.980179e-04                             1.02293e-04     646.6849\n",
       "6 2008-01-09 2.397865e-04                             1.33446e-04     581.7744"
      ]
     },
     "metadata": {},
     "output_type": "display_data"
    }
   ],
   "source": [
    "# Merge SPX, DJI, and VIX^2 by date\n",
    "spx.krv <- data.frame(Date=as.Date(rownames(as.data.frame(spx.krv))),spx.krv)\n",
    "DJI_RV <- data.frame(Date=as.Date(rownames(as.data.frame(DJI_RV))), DJI_RV)\n",
    "VIX2 <- data.frame(Date=as.Date(rownames(as.data.frame(VIX2))),VIX2)\n",
    "\n",
    "RVs <- merge(spx.krv, DJI_RV, by='Date')\n",
    "RVs <- merge(RVs, VIX2, by='Date')\n",
    "head(RVs)"
   ]
  },
  {
   "cell_type": "code",
   "execution_count": 22,
   "metadata": {
    "collapsed": false,
    "scrolled": false
   },
   "outputs": [
    {
     "data": {
      "image/png": "[encoded data removed]",
      "text/plain": [
       "Plot with title \"NA\""
      ]
     },
     "metadata": {},
     "output_type": "display_data"
    }
   ],
   "source": [
    "# Superimpose all three in one plot\n",
    "plot(RVs$Date, RVs$spx.krv, col=\"red\", type=\"l\", \n",
    "     main=\"Comparison among SPX, DJI, and VIX^2\", ylab=\"Realized volatility\", xlab=\"Date of 2008\")\n",
    "par(new=T)\n",
    "plot(RVs$Date, RVs$Dow.Jones.Industrials.Realized.Variance, col=\"green\", type=\"l\",ylim=c(0,0.01), \n",
    "     axes=F, main=NA, ylab=NA, xlab=NA)\n",
    "par(new=T)\n",
    "plot(RVs$Date, RVs$VIX.Adjusted, col=\"blue\", type=\"l\",ylim=c(0,30000),\n",
    "     axes=F, main=NA, xlab=NA, ylab=NA)\n",
    "\n",
    "\n",
    "# Additional axis on the right for VIX^2\n",
    "axis(side=4)\n",
    "mtext(side=4, line=3, \"VIX Squared\")\n",
    "legend(\"topleft\",\n",
    "       legend=c(\"SPX\",\"DJI\",\"VIX^2\"),\n",
    "       lty=c(1,1,1,1,1),\n",
    "       col=c(\"red\",\"green\",\"blue\"))"
   ]
  }
 ],
 "metadata": {
  "anaconda-cloud": {},
  "kernelspec": {
   "display_name": "R",
   "language": "R",
   "name": "ir"
  },
  "language_info": {
   "codemirror_mode": "r",
   "file_extension": ".r",
   "mimetype": "text/x-r-source",
   "name": "R",
   "pygments_lexer": "r",
   "version": "3.3.1"
  }
 },
 "nbformat": 4,
 "nbformat_minor": 1
}
