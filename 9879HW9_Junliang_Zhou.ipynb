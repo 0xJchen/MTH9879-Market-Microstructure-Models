{
 "cells": [
  {
   "cell_type": "markdown",
   "metadata": {},
   "source": [
    "# MTH9879 Homework 9\n",
    "\n",
    "Assigned: April 12, 2018.\n",
    "Due: April 26, 2018 by 6pm. \n",
    "\n",
    "Late homework **will not be accepted**.\n",
    "\n",
    "$$\n",
    "\\newcommand{\\supp}{\\mathrm{supp}}\n",
    "\\newcommand{\\E}{\\mathbb{E}}\n",
    "\\newcommand{\\Eof}[1]{\\mathbb{E}\\left[ #1 \\right]}\n",
    "\\def\\Cov{{ \\mbox{Cov} }}\n",
    "\\def\\Var{{ \\mbox{Var} }}\n",
    "\\newcommand{\\1}{\\mathbf{1} }\n",
    "\\newcommand{\\PP}{\\mathbb{P} }\n",
    "%\\newcommand{\\Pr}{\\mathrm{Pr} }\n",
    "\\newcommand{\\QQ}{\\mathbb{Q} }\n",
    "\\newcommand{\\RR}{\\mathbb{R} }\n",
    "\\newcommand{\\DD}{\\mathbb{D} }\n",
    "\\newcommand{\\HH}{\\mathbb{H} }\n",
    "\\newcommand{\\spn}{\\mathrm{span} }\n",
    "\\newcommand{\\cov}{\\mathrm{cov} }\n",
    "\\newcommand{\\sgn}{\\mathrm{sgn} }\n",
    "\\newcommand{\\HS}{\\mathcal{L}_{\\mathrm{HS}} }\n",
    "%\\newcommand{\\HS}{\\mathrm{HS} }\n",
    "\\newcommand{\\trace}{\\mathrm{trace} }\n",
    "\\newcommand{\\LL}{\\mathcal{L} }\n",
    "%\\newcommand{\\LL}{\\mathrm{L} }\n",
    "\\newcommand{\\s}{\\mathcal{S} }\n",
    "\\newcommand{\\ee}{\\mathcal{E} }\n",
    "\\newcommand{\\ff}{\\mathcal{F} }\n",
    "\\newcommand{\\hh}{\\mathcal{H} }\n",
    "\\newcommand{\\bb}{\\mathcal{B} }\n",
    "\\newcommand{\\dd}{\\mathcal{D} }\n",
    "\\newcommand{\\g}{\\mathcal{G} }\n",
    "\\newcommand{\\p}{\\partial}\n",
    "\\newcommand{\\half}{\\frac{1}{2} }\n",
    "\\newcommand{\\T}{\\mathcal{T} }\n",
    "\\newcommand{\\bi}{\\begin{itemize}}\n",
    "\\newcommand{\\ei}{\\end{itemize}}\n",
    "\\newcommand{\\beq}{\\begin{equation}}\n",
    "\\newcommand{\\eeq}{\\end{equation}}\n",
    "\\newcommand{\\beas}{\\begin{eqnarray*}}\n",
    "\\newcommand{\\eeas}{\\end{eqnarray*}}\n",
    "\\newcommand{\\cO}{\\mathcal{O}}\n",
    "\\newcommand{\\cC}{\\mathcal{C}}\n",
    "\\newcommand{\\cF}{\\mathcal{F}}\n",
    "\\newcommand{\\cL}{\\mathcal{L}}\n",
    "\\newcommand{\\BS}{\\text{BS}}\n",
    "$$"
   ]
  },
  {
   "cell_type": "markdown",
   "metadata": {},
   "source": [
    "<font color = \"red\">Homework is to be done by each student individually.  To receive full credit, you must email a completed copy of this iPython notebook to Victor Istratov (stavka@gmail.com), Yassine Ghalem (yassine.ghalem@gmail.com) and Jim Gatheral (jim.gatheral@gmail.com) by the due date and time.  All R-code must run correctly and solutions must be written up neatly in Markdown/LaTeX format.\n"
   ]
  },
  {
   "cell_type": "markdown",
   "metadata": {},
   "source": [
    "## Junliang Zhou\n",
    "\n",
    "Tel: (347) 276-1207\n",
    "\n",
    "Email: gjimzhou@gmail.com"
   ]
  },
  {
   "cell_type": "markdown",
   "metadata": {},
   "source": [
    "### 1. (20 points)\n",
    "Following Almgren and Chriss,  assume that the stock price $S_t$ evolves as\n",
    "\n",
    "$$\n",
    "dS_t = \\sigma\\,dZ_t\n",
    "$$\n",
    "\n",
    "and the price $\\tilde S_t$ at which we transact is given by\n",
    "\n",
    "$$\n",
    "\\tilde S_t = S_t - \\eta\\,v_t\n",
    "$$\n",
    "\n",
    "where $v_t:=-{\\dot x}_t$ is the rate of trading with $x_0 = X$ and $x_T = 0$.\n",
    "\n",
    "In the lecture notes, we showed that with a risk term that penalizes average VaR instead of variance, the risk-adjusted cost of trading associated with a given price path $\\{S_t\\}$ is given by\n",
    "\n",
    "$$\n",
    "C = \\int_0^T\\,(S_t - \\eta\\,v_t) \\,dx_t + \\lambda\\,\\sigma\\,\\int_0^T\\,x_t\\,dt\n",
    "$$\n",
    "\n",
    "for some price of risk $\\lambda$. We want to find a (possibly state-dependent) control $v_t$ that minimizes the expected cost $\\cC=\\E[C]$.\n",
    "\n",
    "(a) Apply the technique of integration by parts to simplify the term $\\int_0^T S_t dx_t$. Does the optimal strategy depend on the stock price $S_t$?  Why not?  Write down the HJB equation for the resulting problem.\n",
    "\n",
    "(b) Solve the first order condition to find the optimal trading rate $v^\\star$.    \n",
    "\n",
    "(c) Substitute $v^\\star$ back into the HJB equation to show that the value function $\\cC$ must satisfy\n",
    "$$\n",
    "\\cC_t = \\frac{\\cC_x^2}{4\\,\\eta\\,} - \\lambda \\sigma x.\n",
    "$$\n",
    "\n",
    "(d) With the terminal condition, \n",
    "\n",
    "$$\\lim_{t\\uparrow T}\\cC(t,x) = \\begin{cases}0&\\text{if $x=0$,}\\\\\n",
    "+\\infty&\\text{if $x\\neq0$.}\n",
    "\\end{cases}$$\n",
    "\n",
    "solve the HJB equaiton with the ansatz $\\cC(t,x) = \\eta\\,\\left[a(t)\\,x^2 + b(t)\\,x + c(t)\\right]$. Verify that the optimal trading rate is given by\n",
    "\n",
    "$$\n",
    "v^\\star = \\frac{x}{T-t} - \\frac{1}{4}\\, \\kappa \\, (T-t)\n",
    "$$\n",
    "\n",
    "with \n",
    "\n",
    "$$\n",
    "\\kappa = \\frac{\\lambda\\,\\sigma}{\\eta}.\n",
    "$$\n",
    "\n",
    "(e) Define the characteristic time $T^\\star$ as\n",
    "\n",
    "$$\n",
    "T^\\star=\\sqrt{\\frac{4\\,X}{\\kappa}}=\\sqrt{\\frac{4\\,\\eta\\,X}{\\lambda\\,\\sigma}}.\n",
    "$$\n",
    "\n",
    "\n",
    "Verify that the optimal trading strategy with liquidation horizon set to the characteristic time $T^\\star$ is given by\n",
    "\n",
    "$$\n",
    "\\begin{eqnarray*}\n",
    "x_t&=&X\\,\\left(1-\\frac{t}{T}\\right)^2.\n",
    "\\end{eqnarray*}\n",
    "$$\n"
   ]
  },
  {
   "cell_type": "markdown",
   "metadata": {},
   "source": [
    "### Solution\n",
    "\n",
    "(a)\n",
    "\n",
    "Applying the technique of integration by parts, we can rewrite the cost function into\n",
    "$$\n",
    "\\mathcal{C} = \\int_0^T (S_t - \\eta v_t) d x_t + \\lambda \\sigma \\int_0^T x_t d t \\\\ \n",
    "= \\sigma Z_t x_t \\bigg|_0^T - \\sigma \\int_0^T x_t d Z_t + \\int_0^T \\eta v_t^2 d t + \\lambda \\sigma \\int_0^T x_t d t\n",
    "$$\n",
    "\n",
    "The expected cost is given as the equation below, with $Z_t$ as a Brownian motion.\n",
    "$$\n",
    "\\mathcal{C} = \\E {[\\mathcal{C}]} = \\E { \\left[ - \\sigma \\int_0^T x_t d Z_t + \\int_0^T \\eta v_t^2 d t + \\lambda \\sigma \\int_0^T x_t d t \\right] } \\\\ \n",
    "= \\inf_{v\\in\\mathcal{G}} \\E { \\left[ \\int_0^T \\eta v_t^2 d t + \\lambda \\sigma \\int_0^T x_t d t \\right] }\n",
    "$$\n",
    "\n",
    "Therefore, the Hamilton-Jacobi-Bellman equation for it is\n",
    "$$\n",
    "\\mathcal{C}_t + \\lambda \\sigma x + \\inf_{v\\in\\mathcal{G}} \\left(\\eta v_t^2 - v_t \\mathcal{C}_x \\right) = 0\n",
    "$$"
   ]
  },
  {
   "cell_type": "markdown",
   "metadata": {},
   "source": [
    "(b)\n",
    "\n",
    "The first order condition of $v^\\star$ is\n",
    "$$\n",
    "\\frac {\\partial} {\\partial v_t} \\left(\\eta v_t^2 - v_t \\mathcal{C}_x \\right) = 0\n",
    "$$\n",
    "\n",
    "By solving the equation above, we obtain\n",
    "$$\n",
    "v_t^\\star = \\frac {\\mathcal{C}_x} {2 \\eta}\n",
    "$$"
   ]
  },
  {
   "cell_type": "markdown",
   "metadata": {},
   "source": [
    "(c)\n",
    "\n",
    "Substitute (b) back into the Hamilton-Jacobi-Bellman equation, we shall have\n",
    "$$\n",
    "\\mathcal{C}_t + \\lambda \\sigma x + \\eta {\\left(\\frac {\\mathcal{C}_x} {2 \\eta}\\right)}^2 - \\frac {\\mathcal{C}_x} {2 \\eta} \\mathcal{C}_x = 0 \\\\ \n",
    "\\mathcal{C}_t = \\frac {\\mathcal{C}_x^2} {4 \\eta} - \\lambda \\sigma x\n",
    "$$\n"
   ]
  },
  {
   "cell_type": "markdown",
   "metadata": {},
   "source": [
    "(d)\n",
    "\n",
    "Here we shall solve the Hamilton-Jacobi-Bellman equaiton with the ansatz \n",
    "$$\n",
    "\\mathcal{C}(t,x) = \\eta \\left[ a(t) x^2 + b(t) x + c(t) \\right]\n",
    "$$\n",
    "\n",
    "Firstly, calculate the partial differentiations, we have\n",
    "$$\n",
    "\\begin{cases}\n",
    "\\mathcal{C}_t = \\eta {\\left(a' x^2 + b' x + c' \\right)} \\\\\n",
    "\\mathcal{C}_x = \\eta {\\left( a x + b \\right)}\n",
    "\\end{cases}\n",
    "$$\n",
    "\n",
    "Then, substitute the partial differentiations into the HJB equation.\n",
    "$$\n",
    "\\eta {\\left(a' x^2 + b' x + c' \\right)} = \\frac {\\eta^2 {\\left(2 a x + b \\right)}^2} {4 \\eta} - \\lambda \\sigma x\n",
    "$$\n",
    "\n",
    "Compare the coefficients, we can obtain the following system of ordinary differential equations.\n",
    "$$\n",
    "\\begin{cases}\n",
    "x^2: \\eta a' - \\eta a^2 = 0 \\\\ \n",
    "x: \\eta b' - \\eta a b + \\lambda \\sigma = 0 \\\\ \n",
    "1: \\eta c' - \\frac {\\eta} {4} b^2 = 0\n",
    "\\end{cases}\n",
    "$$\n",
    "\n",
    "Solve these equations, we have\n",
    "$$\n",
    "\\begin{cases}\n",
    "a(t) = \\frac {1} {T - t} \\\\ \n",
    "b(t) = \\frac {\\kappa} {2} {(T - t)} \\\\ \n",
    "c(t) = - \\frac {\\kappa^2} {48} {(T - t)}^3\n",
    "\\end{cases}\n",
    "$$\n",
    "\n",
    "where\n",
    "$$\n",
    "\\kappa = \\frac {\\lambda \\sigma} {\\eta}\n",
    "$$\n",
    "\n",
    "Finally, substitute all parameters back to the expression of $v^\\star$ in (b), we shall have\n",
    "$$\n",
    "v^\\star = \\frac {\\mathcal{C}_x} {2 \\eta} = \\frac { \\eta (2 a x + b )} {2 \\eta} = \\frac {x} {T - t} + \\frac {\\kappa} {4} {(T - t)}\n",
    "$$"
   ]
  },
  {
   "cell_type": "markdown",
   "metadata": {},
   "source": [
    "(e)\n",
    "\n",
    "As $v_t = - {\\dot x_t}$, the expression of $v^\\star$ could be viewed as an ordinary differential equation of $x_t$. By solving that with the terminal conditons that\n",
    "$$\n",
    "\\begin{cases} x_0 = X \\\\ \n",
    "x_T = 0 \\end{cases}\n",
    "$$\n",
    "we get\n",
    "$$\n",
    "x_t = {\\left(\\frac {X} {T} - \\frac {\\kappa} {4} t\\right)} {(T - t)}\n",
    "$$\n",
    "\n",
    "As a result,\n",
    "$$\n",
    "v_t = {\\left(\\frac {X} {T} - \\frac {\\kappa} {4} t\\right)} + \\frac {\\kappa} {4} {(T - t)}\n",
    "$$\n",
    "\n",
    "Apply the first order condition to $\\mathcal{C}$.\n",
    "$$\n",
    "\\frac {\\partial \\mathcal{C}} {\\partial T} = \\eta v_T^2 + \\lambda \\sigma x_T = 0\n",
    "$$\n",
    "\n",
    "Since $x_T = 0$, we can deduce that $v_T = 0$. That is\n",
    "$$\n",
    "\\frac {X} {T^\\star} + \\frac {\\kappa} {4} T^\\star = 0 \\\\\n",
    "T^\\star = \\sqrt {\\frac {4 X} {\\kappa}}\n",
    "$$\n",
    "\n",
    "Therefore,\n",
    "$$\n",
    "x_t = \\frac {X} {T} {(T - t)}^2\n",
    "$$"
   ]
  },
  {
   "cell_type": "markdown",
   "metadata": {},
   "source": [
    "## ABM and GBM"
   ]
  },
  {
   "cell_type": "markdown",
   "metadata": {},
   "source": [
    "### Download BAC data"
   ]
  },
  {
   "cell_type": "code",
   "execution_count": 10,
   "metadata": {
    "collapsed": true
   },
   "outputs": [],
   "source": [
    "download.file(url=\"https://mfe.baruch.cuny.edu/wp-content/uploads/2018/02/tqDataBAC_20170919.zip\", destfile=\"tq.zip\")\n",
    "unzip(zipfile=\"tq.zip\")\n",
    "\n",
    "load(\"tqDataBAC_20170919.rData\")\n",
    "tqBAC <- tqdata\n",
    "Sys.setenv(TZ='EST')"
   ]
  },
  {
   "cell_type": "code",
   "execution_count": 2,
   "metadata": {
    "collapsed": false,
    "scrolled": true
   },
   "outputs": [
    {
     "name": "stderr",
     "output_type": "stream",
     "text": [
      "Warning message:\n",
      "\"package 'xts' was built under R version 3.3.3\"Loading required package: zoo\n",
      "\n",
      "Attaching package: 'zoo'\n",
      "\n",
      "The following objects are masked from 'package:base':\n",
      "\n",
      "    as.Date, as.Date.numeric\n",
      "\n"
     ]
    }
   ],
   "source": [
    "library(xts)\n",
    "library(repr)\n",
    "options(repr.plot.height=5)"
   ]
  },
  {
   "cell_type": "markdown",
   "metadata": {},
   "source": [
    "### 2. (8 points)\n",
    "\n",
    "Recall from the lecture slides that with time-averaged VaR as the risk penalty, and when the liquidation time $T$ is chosen to be the characteristic time, the optimal trading rate under ABM becomes\n",
    "\n",
    "$$\n",
    "v^A(t)= \\frac{x_t}{T-t}\\,+\\frac{X}{T}\\,\\left(1-\\frac t T\\right)\n",
    "$$\n",
    "\n",
    "and the optimal trading rate under GBM becomes\n",
    "\n",
    "$$\n",
    "v^G(t)= \\frac{x_t}{T-t}\\,+\\frac{X}{T}\\,\\frac{S_t}{S_0}\\,\\left(1-\\frac t T\\right).\n",
    "$$\n",
    "\n",
    "(a) The `tqdata` dataset from `tqDataBAC_20170919.rData` contains trades and quotes for BAC on 19-Sep-2017.  One trading day has 390 minutes.  Sample the  `tqdata` dataset evenly, roughly every minute of volume time.  Superimpose plots of the optimal strategy under ABM and GBM assuming liquidation takes place over one trading day.\n",
    "\n",
    "(b) Denote the corresponding position sizes by $x^A(t)$ and $x^G(t)$ respectively.  What is the maximum deviation of the two position sizes as a percentage of the initial position $X$?  How significant is this deviation?\n",
    "\n"
   ]
  },
  {
   "cell_type": "markdown",
   "metadata": {},
   "source": [
    "### Solution\n",
    "\n",
    "(a)"
   ]
  },
  {
   "cell_type": "code",
   "execution_count": 12,
   "metadata": {
    "collapsed": false
   },
   "outputs": [
    {
     "name": "stdout",
     "output_type": "stream",
     "text": [
      "[1] \"maxium deviation = 11\"\n"
     ]
    },
    {
     "data": {
      "image/png": "[encoded data removed]",
      "text/plain": [
       "Plot with title \"Optimal Strategy under ABM and GBM\""
      ]
     },
     "metadata": {},
     "output_type": "display_data"
    }
   ],
   "source": [
    "N <- 100000\n",
    "T <- 390\n",
    "tqPrices <- as.numeric(tqBAC$PRICE)\n",
    "tqShares <- as.numeric(tqBAC$SIZE)\n",
    "\n",
    "# Sample price\n",
    "length <- length(tqPrices)\n",
    "price <- c(1:T)\n",
    "for (i in 1:T){\n",
    "    price[i] <- tqPrices[floor(i*length/T)]\n",
    "}\n",
    "\n",
    "# Sample price by volume time\n",
    "volume <- sum(abs(tqShares))\n",
    "pricev <- c(1:T)\n",
    "shares <- 0\n",
    "j <- 1\n",
    "for (i in 1:length){\n",
    "    shares <- shares+abs(tqShares[i])\n",
    "    if (shares>=volume*j/T){\n",
    "        pricev[j] <- tqPrices[i]\n",
    "        j <- j+1        \n",
    "    }\n",
    "}\n",
    "\n",
    "# Create strategy functions\n",
    "abm <- function(x,t){x/(T-t)+N/T*(1-t/T)}\n",
    "gbm <- function(x,t){x/(T-t)+N/T*price[t]/tqPrices[1]*(1-t/T)}\n",
    "gbmv <- function(x,t){x/(T-t)+N/T*pricev[t]/tqPrices[1]*(1-t/T)}\n",
    "\n",
    "# Initialize strategy\n",
    "xa <- c(N,2:T)\n",
    "xg <- c(N,2:T)\n",
    "xgv <- c(N,2:T)\n",
    "\n",
    "# Loop strategy to find path\n",
    "for (i in 1:(T-1)）{\n",
    "    xa[i+1]=xa[i]-abm(xa[i],i)\n",
    "    xg[i+1]=xg[i]-gbm(xg[i],i)\n",
    "    xgv[i+1]=xgv[i]-gbmv(xgv[i],i)\n",
    "}\n",
    "\n",
    "# Plot results\n",
    "plot(1:T, (1:T)*N/T, type=\"n\", xlab=\"Time\", ylab=\"Shares\", \n",
    "     main=\"Optimal Strategy under ABM and GBM\", sub=\"* denotes sample by volume time.\")\n",
    "lines(xa, col=\"red\")\n",
    "lines(xg, col=\"green\")\n",
    "lines(xgv, col=\"blue\")\n",
    "legend(\"topright\", c(\"ABM\",\"GBM\",\"GBM*\"), col=c(\"red\",\"green\",\"blue\"), lty=1, inset=0.02)\n",
    "\n",
    "# Difference between sample methods\n",
    "print(paste(\"maxium deviation =\", floor(max(abs(xg-xgv)))))"
   ]
  },
  {
   "cell_type": "markdown",
   "metadata": {},
   "source": [
    "Maxium deviation between evenly sample and sample by volume time is only 11 shares, as a result, the difference between two sample methods can be neglected."
   ]
  },
  {
   "cell_type": "markdown",
   "metadata": {},
   "source": [
    "(b)"
   ]
  },
  {
   "cell_type": "code",
   "execution_count": 13,
   "metadata": {
    "collapsed": false
   },
   "outputs": [
    {
     "name": "stdout",
     "output_type": "stream",
     "text": [
      "[1] \"maxium deviation = 130\"\n"
     ]
    },
    {
     "data": {
      "image/png": "[encoded data removed]",
      "text/plain": [
       "Plot with title \"Deviation between ABM and GBM\""
      ]
     },
     "metadata": {},
     "output_type": "display_data"
    }
   ],
   "source": [
    "# Find deviation\n",
    "xdelta=abs(xg-xa)\n",
    "plot(1:390, xdelta, col=\"red\", type=\"l\", xlab=\"Time\", ylab=\"Shares\", main=\"Deviation between ABM and GBM\")\n",
    "print(paste(\"maxium deviation =\", floor(max(xdelta))))"
   ]
  },
  {
   "cell_type": "markdown",
   "metadata": {},
   "source": [
    "Clearly, the deviation between ABM and GBM is quite unsignificant compared to the total quantity of shares (about $0.12\\%$)."
   ]
  },
  {
   "cell_type": "markdown",
   "metadata": {},
   "source": [
    "## Kratz and Schöneborn with time-averaged VaR risk charge"
   ]
  },
  {
   "cell_type": "markdown",
   "metadata": {},
   "source": [
    "### 3. (12 points)\n",
    "\n",
    "(a) Repeat the computation of the optimal strategy from the lecture notes with time-averaged VaR\n",
    "\n",
    "$$\n",
    "\\lambda\\,\\sigma\\,\\int_0^T\\,x_t\\,dt\n",
    "$$\n",
    "\n",
    "as the risk term (rather than the quadratic variation $\\lambda\\,\\sigma^2\\,\\int_0^T\\,x_t^2\\,dt$).  Show that the optimal position\n",
    "\n",
    "$$\n",
    "x^\\star(t)=\\left(X-\\frac{A\\, T}{\\theta }\\right)\\,\\frac{1-e^{-\\theta\\,(T-t)} }{1-e^{-\\theta\\,T }}+\\frac{A }{\\theta }\\,(T-t)\n",
    "$$\n",
    "and deduce the optimal trading rate $v^\\star(t)$.\n",
    "\n",
    "(b) By Taylor-expanding the solution around $\\theta=0$, show that we retrieve the solution derived in the slides with no dark pool\n",
    "\n",
    "$$\n",
    "x^\\star(t)=\\left(X-\\frac{A \\, T}{2}\\,t\\right)\\,\\left(1-\\frac{t}{T}\\right) .\n",
    "$$\n",
    "\n",
    "in the limit $\\theta \\to 0$.\n"
   ]
  },
  {
   "cell_type": "markdown",
   "metadata": {},
   "source": [
    "### Solution\n",
    "\n",
    "(a)\n",
    "\n",
    "From the lecture we know that the Kratz-Schoneborn Hamilton-Jacobi-Bellman equation is\n",
    "\n",
    "$$\n",
    "\\mathcal{C}_t + \\lambda \\sigma x + \\inf_{v\\in\\mathcal{G}} \\left\\{ \\eta v_t^2 - v_t \\mathcal{C}_x +\\theta \\left[ \\mathcal{C}(x_t-y_t)-\\mathcal{C}(x_t) \\right] \\right\\} = 0\n",
    "$$\n",
    "\n",
    "The optimal value of $y_t$ is obviously $y_t^\\star=x_t$\n",
    "\n",
    "The first order condition of $v_t^\\star$ is\n",
    "$$\n",
    "\\frac {\\partial} {\\partial v_t} \\left\\{\\eta v_t^2 - v_t \\mathcal{C}_x +\\theta \\left[ \\mathcal{C}(x_t-y_t)-\\mathcal{C}(x_t) \\right] \\right\\} = 0\n",
    "$$\n",
    "\n",
    "By solving the equation above, we obtain\n",
    "$$\n",
    "v_t^\\star = \\frac {\\mathcal{C}_x} {2 \\eta}\n",
    "$$\n",
    "\n",
    "Substitute $y_t^\\star$ and $v_t^\\star$ back into the Hamilton-Jacobi-Bellman equation, we shall have\n",
    "$$\n",
    "\\mathcal{C}_t + \\lambda \\sigma x + \\eta {\\left(\\frac {\\mathcal{C}_x} {2 \\eta}\\right)}^2 - \\frac {\\mathcal{C}_x} {2 \\eta} \\mathcal{C}_x +\\theta \\mathcal{C} = 0 \\\\ \n",
    "\\mathcal{C}_t = \\frac {\\mathcal{C}_x^2} {4 \\eta} - \\lambda \\sigma x -\\theta \\mathcal{C}\n",
    "$$\n"
   ]
  },
  {
   "cell_type": "markdown",
   "metadata": {},
   "source": [
    "Here we shall solve the Hamilton-Jacobi-Bellman equaiton with the ansatz \n",
    "$$\n",
    "\\mathcal{C}(t,x) = \\eta \\left[ a(t) x^2 + b(t) x + c(t) \\right]\n",
    "$$\n",
    "\n",
    "Firstly, calculate the partial differentiations, we have\n",
    "$$\n",
    "\\begin{cases}\n",
    "\\mathcal{C}_t = \\eta {\\left(a' x^2 + b' x + c' \\right)} \\\\\n",
    "\\mathcal{C}_x = \\eta {\\left( a x + b \\right)}\n",
    "\\end{cases}\n",
    "$$\n",
    "\n",
    "Then, substitute the partial differentiations into the HJB equation.\n",
    "$$\n",
    "\\eta {\\left(a' x^2 + b' x + c' \\right)} = \\frac {\\eta^2 {\\left(2 a x + b \\right)}^2} {4 \\eta} - \\lambda \\sigma x - \\theta\\eta \\left( a x^2 + b x + c \\right)\n",
    "$$\n",
    "\n",
    "Compare the coefficients, we can obtain the following system of ordinary differential equations.\n",
    "$$\n",
    "\\begin{cases}\n",
    "x^2: \\eta a' - \\eta a^2 + \\theta\\eta a = 0 \\\\ \n",
    "x: \\eta b' - \\eta a b + \\theta\\eta b + \\lambda \\sigma = 0 \\\\ \n",
    "1: \\eta c' - \\frac {\\eta} {4} b^2 + \\theta\\eta c = 0\n",
    "\\end{cases}\n",
    "$$\n",
    "\n",
    "Solve these equations, we have\n",
    "$$\n",
    "\\begin{cases}\n",
    "a(t) = \\frac {\\theta} {1 - e^{-\\theta(T-t)}} \\\\ \n",
    "b(t) = \\frac {\\kappa {\\left( \\theta t + e^{-\\theta(T-t)} \\right)}} {1 - e^{-\\theta(T-t)}}\n",
    "\\end{cases}\n",
    "$$\n",
    "\n",
    "where\n",
    "$$\n",
    "\\kappa = \\frac {\\lambda \\sigma} {\\eta}\n",
    "$$\n",
    "\n",
    "Finally, substitute all parameters back to the expression of $v^\\star$ in (b), we shall have\n",
    "$$\n",
    "v^\\star = \\frac {\\mathcal{C}_x} {2 \\eta} = \\frac { \\eta (2 a x + b )} {2 \\eta} = -\\dot{x_t}\n",
    "$$"
   ]
  },
  {
   "cell_type": "markdown",
   "metadata": {},
   "source": []
  }
 ],
 "metadata": {
  "anaconda-cloud": {},
  "kernelspec": {
   "display_name": "R",
   "language": "R",
   "name": "ir"
  },
  "language_info": {
   "codemirror_mode": "r",
   "file_extension": ".r",
   "mimetype": "text/x-r-source",
   "name": "R",
   "pygments_lexer": "r",
   "version": "3.3.1"
  }
 },
 "nbformat": 4,
 "nbformat_minor": 1
}
