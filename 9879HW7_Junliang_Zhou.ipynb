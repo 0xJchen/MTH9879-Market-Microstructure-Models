{
 "cells": [
  {
   "cell_type": "markdown",
   "metadata": {},
   "source": [
    "# MTH9879 Homework 7\n",
    "\n",
    "Assigned: March 22, 2018.\n",
    "Due: April 5, 2018 by 6pm. \n",
    "\n",
    "Late homework **will not be accepted**.\n",
    "\n",
    "$$\n",
    "\\newcommand{\\supp}{\\mathrm{supp}}\n",
    "\\newcommand{\\E}{\\mathbb{E}}\n",
    "\\newcommand{\\Eof}[1]{\\mathbb{E}\\left[ #1 \\right]}\n",
    "\\def\\Cov{{ \\mbox{Cov} }}\n",
    "\\def\\Var{{ \\mbox{Var} }}\n",
    "\\newcommand{\\1}{\\mathbf{1} }\n",
    "\\newcommand{\\PP}{\\mathbb{P} }\n",
    "%\\newcommand{\\Pr}{\\mathrm{Pr} }\n",
    "\\newcommand{\\QQ}{\\mathbb{Q} }\n",
    "\\newcommand{\\RR}{\\mathbb{R} }\n",
    "\\newcommand{\\DD}{\\mathbb{D} }\n",
    "\\newcommand{\\HH}{\\mathbb{H} }\n",
    "\\newcommand{\\spn}{\\mathrm{span} }\n",
    "\\newcommand{\\cov}{\\mathrm{cov} }\n",
    "\\newcommand{\\sgn}{\\mathrm{sgn} }\n",
    "\\newcommand{\\HS}{\\mathcal{L}_{\\mathrm{HS}} }\n",
    "%\\newcommand{\\HS}{\\mathrm{HS} }\n",
    "\\newcommand{\\trace}{\\mathrm{trace} }\n",
    "\\newcommand{\\LL}{\\mathcal{L} }\n",
    "%\\newcommand{\\LL}{\\mathrm{L} }\n",
    "\\newcommand{\\s}{\\mathcal{S} }\n",
    "\\newcommand{\\ee}{\\mathcal{E} }\n",
    "\\newcommand{\\ff}{\\mathcal{F} }\n",
    "\\newcommand{\\hh}{\\mathcal{H} }\n",
    "\\newcommand{\\bb}{\\mathcal{B} }\n",
    "\\newcommand{\\dd}{\\mathcal{D} }\n",
    "\\newcommand{\\g}{\\mathcal{G} }\n",
    "\\newcommand{\\p}{\\partial}\n",
    "\\newcommand{\\half}{\\frac{1}{2} }\n",
    "\\newcommand{\\T}{\\mathcal{T} }\n",
    "\\newcommand{\\bi}{\\begin{itemize}}\n",
    "\\newcommand{\\ei}{\\end{itemize}}\n",
    "\\newcommand{\\beq}{\\begin{equation}}\n",
    "\\newcommand{\\eeq}{\\end{equation}}\n",
    "\\newcommand{\\beas}{\\begin{eqnarray*}}\n",
    "\\newcommand{\\eeas}{\\end{eqnarray*}}\n",
    "\\newcommand{\\cO}{\\mathcal{O}}\n",
    "\\newcommand{\\cF}{\\mathcal{F}}\n",
    "\\newcommand{\\cL}{\\mathcal{L}}\n",
    "\\newcommand{\\BS}{\\text{BS}}\n",
    "$$"
   ]
  },
  {
   "cell_type": "markdown",
   "metadata": {},
   "source": [
    "<font color = \"red\">Homework is to be done by each student individually.  To receive full credit, you must email a completed copy of this iPython notebook to Victor Istratov (stavka@gmail.com), Yassine Ghalem (yassine.ghalem@gmail.com) and Jim Gatheral (jim.gatheral@gmail.com) by the due date and time.  All R-code must run correctly and solutions must be written up neatly in Markdown/LaTeX format."
   ]
  },
  {
   "cell_type": "markdown",
   "metadata": {},
   "source": [
    "### 0. (0 points) \n",
    "Read Sections 4, 5 and 6 of Bouchaud, Farmer and Lillo."
   ]
  },
  {
   "cell_type": "markdown",
   "metadata": {},
   "source": [
    "## Long memory"
   ]
  },
  {
   "cell_type": "markdown",
   "metadata": {},
   "source": [
    "### 1. (6 points)\n",
    "\n",
    "Consider the long memory process\n",
    "\n",
    "$$\n",
    "X_T=\\sum_{i=1}^T\\,\\epsilon_i\n",
    "$$\n",
    "\n",
    "with autocovariance function $\\gamma(\\tau)=\\E[\\epsilon_i\\,\\epsilon_{i-\\tau}] \\sim \\tau^{-\\alpha}$.  Show that as $\\tau \\to \\infty$,\n",
    "\n",
    "$$\n",
    "\\Var[X_{t+\\tau}-X_t] \\sim \\tau ^{2\\,H}\n",
    "$$\n",
    "\n",
    "where the Hurst exponent $H$ is given by\n",
    "\n",
    "$$\n",
    "H=1-\\frac{\\alpha}{2}.\n",
    "$$"
   ]
  },
  {
   "cell_type": "markdown",
   "metadata": {},
   "source": [
    "### Solution\n",
    "\n",
    "$$\\Var[X_{t+\\tau}-X_t]=\\Var \\left[\\sum_{i=t+1}^{t+\\tau} \\epsilon_i \\right]= \\sum_{i=1}^{\\tau}\\sum_{j=1}^{\\tau}\\E[\\epsilon_i\\epsilon_j]$$\n",
    "\n",
    "As $\\E[\\epsilon_i\\epsilon_{i-\\tau}]\\sim\\tau^{-\\alpha}$,\n",
    "\n",
    "$$\\Var[X_{t+\\tau}-X_t] \\sim \\sum_{i=1}^{\\tau}\\sum_{j=1}^{\\tau} \\left| i-j \\right|^{-\\alpha}=\\tau+2\\sum_{i=1}^{\\tau-1} \\frac{\\tau-i}{i^\\alpha}$$\n",
    "\n",
    "For the second term, the following inequality holds,\n",
    "\n",
    "$$\\sum_{i=1}^{\\tau-1} \\frac{\\tau-i}{i^\\alpha} \\leq \\tau\\sum_{i=1}^{\\tau} \\frac{1}{i^\\alpha} \\leq \\tau\\int_0^\\tau x^{-\\alpha} dx \\leq \\tau^{2-\\alpha}$$\n",
    "\n",
    "Therefore we have\n",
    "\n",
    "$$\\Var[X_{t+\\tau}-X_t] \\sim \\tau + \\tau^{2-\\alpha}$$\n",
    "\n",
    "Let $\\tau\\to\\infty$ and assume $\\alpha<1$, then the second term becomes dominant and\n",
    "\n",
    "$$\\Var[X_{t+\\tau}-X_t] \\sim \\tau^{2H}$$\n",
    "\n",
    "where \n",
    "\n",
    "$$H=1-\\frac{\\alpha}{2}$$"
   ]
  },
  {
   "cell_type": "markdown",
   "metadata": {},
   "source": [
    "## BAC data from 19-Sep-2017 again"
   ]
  },
  {
   "cell_type": "code",
   "execution_count": 1,
   "metadata": {
    "collapsed": false
   },
   "outputs": [
    {
     "name": "stderr",
     "output_type": "stream",
     "text": [
      "Loading required package: xts\n",
      "Loading required package: zoo\n",
      "\n",
      "Attaching package: 'zoo'\n",
      "\n",
      "The following objects are masked from 'package:base':\n",
      "\n",
      "    as.Date, as.Date.numeric\n",
      "\n"
     ]
    }
   ],
   "source": [
    "options(warn = -1)\n",
    "\n",
    "library(highfrequency)\n",
    "library(repr)\n",
    "options(repr.plot.width=10,repr.plot.height=7)"
   ]
  },
  {
   "cell_type": "code",
   "execution_count": 2,
   "metadata": {
    "collapsed": true
   },
   "outputs": [],
   "source": [
    "download.file(url=\"https://mfe.baruch.cuny.edu/wp-content/uploads/2018/02/tqDataBAC_20170919.zip\", destfile=\"tq.zip\")\n",
    "unzip(zipfile=\"tq.zip\")\n",
    "\n",
    "load(\"tqDataBAC_20170919.rData\")\n",
    "tqBAC <- tqdata\n",
    "Sys.setenv(TZ='EST')"
   ]
  },
  {
   "cell_type": "markdown",
   "metadata": {},
   "source": [
    "### 2. (10 points)\n",
    "\n",
    "(a) Generate the series *tradeSign* of trade signs from `tqdata`.\n",
    "\n",
    "(b) Fit an AR(1) model to the *tradeSign*  data to give the forecast:\n",
    "    $$\n",
    "    \\hat \\epsilon^{(1)}_t=\\phi_1\\,\\epsilon_{t-1}\n",
    "    $$\n",
    "\n",
    "(c) How does $\\phi_1$ relate to the autocorrelation coefficients of *tradeSign*?  What is the mean-squared error of this AR(1) forecast?\n",
    "\n",
    "(d) Fit an $AR(p)$ model to the *tradeSign* data, allowing R to find the best value of $p$ using the default AIC criterion.  This generates the forecast:\n",
    "    $$\n",
    "    \\hat \\epsilon^{(2)}_t=\\sum_{k=1}^p\\,\\phi_k\\,\\epsilon_{t-k}.\n",
    "    $$\n",
    "\n",
    "(e) What value of $p$ is selected by R?  What is the mean-squared error of this AR(p) forecast?\n"
   ]
  },
  {
   "cell_type": "markdown",
   "metadata": {},
   "source": [
    "### Solution\n",
    "\n",
    "(a)"
   ]
  },
  {
   "cell_type": "code",
   "execution_count": 3,
   "metadata": {
    "collapsed": false
   },
   "outputs": [
    {
     "data": {
      "text/html": [
       "<ol class=list-inline>\n",
       "\t<li>-1</li>\n",
       "\t<li>-1</li>\n",
       "\t<li>-1</li>\n",
       "\t<li>1</li>\n",
       "\t<li>-1</li>\n",
       "\t<li>1</li>\n",
       "</ol>\n"
      ],
      "text/latex": [
       "\\begin{enumerate*}\n",
       "\\item -1\n",
       "\\item -1\n",
       "\\item -1\n",
       "\\item 1\n",
       "\\item -1\n",
       "\\item 1\n",
       "\\end{enumerate*}\n"
      ],
      "text/markdown": [
       "1. -1\n",
       "2. -1\n",
       "3. -1\n",
       "4. 1\n",
       "5. -1\n",
       "6. 1\n",
       "\n",
       "\n"
      ],
      "text/plain": [
       "[1] -1 -1 -1  1 -1  1"
      ]
     },
     "metadata": {},
     "output_type": "display_data"
    }
   ],
   "source": [
    "# Decide trade signs\n",
    "tradeSigns <- getTradeDirection(tqBAC)\n",
    "head(tradeSigns)"
   ]
  },
  {
   "cell_type": "markdown",
   "metadata": {},
   "source": [
    "(b)"
   ]
  },
  {
   "cell_type": "code",
   "execution_count": 4,
   "metadata": {
    "collapsed": false
   },
   "outputs": [
    {
     "data": {
      "text/plain": [
       "\n",
       "Call:\n",
       "ar(x = tradeSigns, order.max = 1)\n",
       "\n",
       "Coefficients:\n",
       "     1  \n",
       "0.4752  \n",
       "\n",
       "Order selected 1  sigma^2 estimated as  0.7644"
      ]
     },
     "metadata": {},
     "output_type": "display_data"
    }
   ],
   "source": [
    "# AR(1)\n",
    "fit <- ar(tradeSigns, order.max=1)\n",
    "fit"
   ]
  },
  {
   "cell_type": "markdown",
   "metadata": {},
   "source": [
    "(c)"
   ]
  },
  {
   "cell_type": "code",
   "execution_count": 5,
   "metadata": {
    "collapsed": false
   },
   "outputs": [
    {
     "data": {
      "text/plain": [
       "\n",
       "Autocorrelations of series 'tradeSigns', by lag\n",
       "\n",
       "    0     1     2     3     4     5     6     7     8     9    10    11    12 \n",
       "1.000 0.475 0.379 0.350 0.324 0.305 0.284 0.267 0.250 0.240 0.232 0.227 0.214 \n",
       "   13    14    15    16    17    18    19    20    21    22    23    24    25 \n",
       "0.201 0.200 0.199 0.188 0.181 0.172 0.169 0.169 0.164 0.160 0.158 0.159 0.156 \n",
       "   26    27    28    29    30    31    32    33    34    35    36    37    38 \n",
       "0.150 0.148 0.142 0.134 0.138 0.139 0.122 0.119 0.121 0.111 0.112 0.114 0.105 \n",
       "   39    40    41    42    43 \n",
       "0.107 0.108 0.104 0.104 0.104 "
      ]
     },
     "metadata": {},
     "output_type": "display_data"
    },
    {
     "data": {
      "image/png": "[encoded data removed]",
      "text/plain": [
       "Plot with title \"Series  tradeSigns\""
      ]
     },
     "metadata": {},
     "output_type": "display_data"
    }
   ],
   "source": [
    "acf(tradeSigns, plot=F)\n",
    "acf(tradeSigns)"
   ]
  },
  {
   "cell_type": "markdown",
   "metadata": {},
   "source": [
    "If the *tradeSign* is correctly specified as an AR(1) model, the autocorrelations of it should be\n",
    "\n",
    "$$\\rho_k=\\phi_1^k$$\n",
    "\n",
    "However, only $\\rho_1$ matches the autocorrelation of real data, which implies that AR(1) model is insufficient for the *tradeSign* series."
   ]
  },
  {
   "cell_type": "markdown",
   "metadata": {},
   "source": [
    "(d)"
   ]
  },
  {
   "cell_type": "code",
   "execution_count": 6,
   "metadata": {
    "collapsed": false
   },
   "outputs": [
    {
     "name": "stderr",
     "output_type": "stream",
     "text": [
      "Loading required package: timeDate\n",
      "This is forecast 7.3 \n",
      "\n"
     ]
    },
    {
     "data": {
      "text/plain": [
       "Series: tradeSigns \n",
       "ARIMA(17,0,0) with non-zero mean \n",
       "\n",
       "Coefficients:\n",
       "         ar1     ar2     ar3     ar4     ar5     ar6     ar7     ar8     ar9\n",
       "      0.3120  0.1025  0.0869  0.0576  0.0476  0.0313  0.0238  0.0135  0.0155\n",
       "s.e.  0.0064  0.0067  0.0067  0.0068  0.0068  0.0068  0.0068  0.0068  0.0068\n",
       "        ar10    ar11    ar12    ar13    ar14    ar15    ar16    ar17  intercept\n",
       "      0.0149  0.0220  0.0099  0.0008  0.0136  0.0208  0.0084  0.0133    -0.1128\n",
       "s.e.  0.0068  0.0068  0.0068  0.0068  0.0068  0.0067  0.0067  0.0064     0.0259\n",
       "\n",
       "sigma^2 estimated as 0.6969:  log likelihood=-30281.3\n",
       "AIC=60600.59   AICc=60600.62   BIC=60754.58"
      ]
     },
     "metadata": {},
     "output_type": "display_data"
    }
   ],
   "source": [
    "# Decide p\n",
    "library(forecast)\n",
    "fit <- auto.arima(tradeSigns, max.p=100, max.d=0, max.q=0, ic=\"aic\")\n",
    "fit"
   ]
  },
  {
   "cell_type": "markdown",
   "metadata": {},
   "source": [
    "(e)"
   ]
  },
  {
   "cell_type": "code",
   "execution_count": 7,
   "metadata": {
    "collapsed": false
   },
   "outputs": [
    {
     "data": {
      "text/plain": [
       "\n",
       "Call:\n",
       "ar(x = tradeSigns, order.max = 17)\n",
       "\n",
       "Coefficients:\n",
       "     1       2       3       4       5       6       7       8       9      10  \n",
       "0.3120  0.1025  0.0868  0.0576  0.0476  0.0313  0.0238  0.0136  0.0155  0.0149  \n",
       "    11      12      13      14      15      16      17  \n",
       "0.0220  0.0099  0.0008  0.0136  0.0207  0.0084  0.0133  \n",
       "\n",
       "Order selected 17  sigma^2 estimated as  0.6969"
      ]
     },
     "metadata": {},
     "output_type": "display_data"
    }
   ],
   "source": [
    "# Rerun AR(17)\n",
    "fit <- ar(tradeSigns, order.max=17)\n",
    "fit"
   ]
  },
  {
   "cell_type": "markdown",
   "metadata": {},
   "source": [
    "### 3. (8 points)\n",
    "\n",
    "(a) Bin the AR(p) forecast data from the previous problem by forecast sign with bin-breaks from -1.05 to 1.05 in steps of 0.10.\n",
    "\n",
    "(b) Plot the average actual order sign in each bin against the average forecast order sign.  What is the slope of the resulting graph? (Hint: use the R function *lm*).\n",
    "\n",
    "(c) If the expected order sign is $\\hat \\epsilon$, what is the probability $p$ that the next trade will be a market buy?"
   ]
  },
  {
   "cell_type": "markdown",
   "metadata": {
    "collapsed": true
   },
   "source": [
    "### Solution\n",
    "\n",
    "(a)"
   ]
  },
  {
   "cell_type": "code",
   "execution_count": 8,
   "metadata": {
    "collapsed": false,
    "scrolled": true
   },
   "outputs": [],
   "source": [
    "# Get coefficients\n",
    "order <- fit$order\n",
    "coefs <- fit$ar\n",
    "len <- length(tradeSigns)\n",
    "forecasts <- tradeSigns[1:(len-order)]\n",
    "\n",
    "# Generate forecasts\n",
    "for (i in 1:(len-order)) {\n",
    "    forecasts[i] <- sum(coefs*tradeSigns[i:(i+order)])\n",
    "}"
   ]
  },
  {
   "cell_type": "code",
   "execution_count": 9,
   "metadata": {
    "collapsed": false
   },
   "outputs": [
    {
     "data": {
      "image/png": "[encoded data removed]",
      "text/plain": [
       "Plot with title \"Histogram of forecasts\""
      ]
     },
     "metadata": {},
     "output_type": "display_data"
    }
   ],
   "source": [
    "# Histogram for range from -1.15 to 1.15 by 0.02\n",
    "hist(forecasts, breaks=seq(-1.15,1.15,by=0.02))"
   ]
  },
  {
   "cell_type": "markdown",
   "metadata": {},
   "source": [
    "To meet the range requirement of the problem, head and tail data need to be trimmed."
   ]
  },
  {
   "cell_type": "code",
   "execution_count": 10,
   "metadata": {
    "collapsed": false
   },
   "outputs": [
    {
     "data": {
      "image/png": "[encoded data removed]",
      "text/plain": [
       "Plot with title \"Histogram of forecasts2\""
      ]
     },
     "metadata": {},
     "output_type": "display_data"
    }
   ],
   "source": [
    "# Forecasts bounded in range from -1.05 to 1.05 by 0.10\n",
    "forecasts2 <- forecasts[forecasts>-1.05 & forecasts<1.05]\n",
    "tradeSigns2 <- tradeSigns[forecasts>-1.05 & forecasts<1.05]\n",
    "hist(forecasts2, breaks=seq(-1.05,1.05,by=0.10))"
   ]
  },
  {
   "cell_type": "markdown",
   "metadata": {},
   "source": [
    "(b)"
   ]
  },
  {
   "cell_type": "code",
   "execution_count": 11,
   "metadata": {
    "collapsed": false,
    "scrolled": true
   },
   "outputs": [
    {
     "data": {
      "text/plain": [
       "\n",
       "Call:\n",
       "lm(formula = meanActual ~ meanForecast)\n",
       "\n",
       "Residuals:\n",
       "     Min       1Q   Median       3Q      Max \n",
       "-0.42096 -0.11187  0.00501  0.12724  0.38386 \n",
       "\n",
       "Coefficients:\n",
       "             Estimate Std. Error t value Pr(>|t|)    \n",
       "(Intercept)   0.01601    0.01748   0.915    0.362    \n",
       "meanForecast  1.19443    0.02728  43.783   <2e-16 ***\n",
       "---\n",
       "Signif. codes:  0 '***' 0.001 '**' 0.01 '*' 0.05 '.' 0.1 ' ' 1\n",
       "\n",
       "Residual standard error: 0.1842 on 109 degrees of freedom\n",
       "  (5 observations deleted due to missingness)\n",
       "Multiple R-squared:  0.9462,\tAdjusted R-squared:  0.9457 \n",
       "F-statistic:  1917 on 1 and 109 DF,  p-value: < 2.2e-16\n"
      ]
     },
     "metadata": {},
     "output_type": "display_data"
    }
   ],
   "source": [
    "# Setup parameters for range from -1.15 to 1.15 by 0.02\n",
    "bins <- seq(-1.15,1.15,by=0.02)\n",
    "len <- length(bins)\n",
    "\n",
    "meanActual <- 1:len\n",
    "meanForecast <- 1:len\n",
    "\n",
    "# Get mean of actual and forecast for each bin\n",
    "for (i in 1:len) {\n",
    "    meanActual[i] <- mean(tradeSigns[forecasts>bins[i] & forecasts<bins[i+1]])\n",
    "    meanForecast[i] <- mean(forecasts[forecasts>bins[i] & forecasts<bins[i+1]])\n",
    "}\n",
    "\n",
    "# Fit linear model\n",
    "fit <- lm(meanActual ~ meanForecast)\n",
    "summary(fit)"
   ]
  },
  {
   "cell_type": "code",
   "execution_count": 12,
   "metadata": {
    "collapsed": false
   },
   "outputs": [
    {
     "data": {
      "image/png": "[encoded data removed]",
      "text/plain": [
       "plot without title"
      ]
     },
     "metadata": {},
     "output_type": "display_data"
    }
   ],
   "source": [
    "# Plot\n",
    "plot(meanForecast, meanActual, col=\"blue\", xlab=\"Forecast trade sign\", ylab=\"Actual trade sign\")\n",
    "abline(fit)"
   ]
  },
  {
   "cell_type": "code",
   "execution_count": 13,
   "metadata": {
    "collapsed": false
   },
   "outputs": [
    {
     "data": {
      "text/plain": [
       "\n",
       "Call:\n",
       "lm(formula = meanActual2 ~ meanForecast2)\n",
       "\n",
       "Residuals:\n",
       "      Min        1Q    Median        3Q       Max \n",
       "-0.287606 -0.041047  0.002322  0.068550  0.248999 \n",
       "\n",
       "Coefficients:\n",
       "              Estimate Std. Error t value Pr(>|t|)    \n",
       "(Intercept)    0.02003    0.02914   0.688      0.5    \n",
       "meanForecast2  1.21746    0.04808  25.320 4.21e-16 ***\n",
       "---\n",
       "Signif. codes:  0 '***' 0.001 '**' 0.01 '*' 0.05 '.' 0.1 ' ' 1\n",
       "\n",
       "Residual standard error: 0.1335 on 19 degrees of freedom\n",
       "  (1 observation deleted due to missingness)\n",
       "Multiple R-squared:  0.9712,\tAdjusted R-squared:  0.9697 \n",
       "F-statistic: 641.1 on 1 and 19 DF,  p-value: 4.211e-16\n"
      ]
     },
     "metadata": {},
     "output_type": "display_data"
    }
   ],
   "source": [
    "# Setup parameters for range from -1.05 to 1.05 by 0.10\n",
    "bins2 <- seq(-1.05,1.05,by=0.10)\n",
    "len2 <- length(bins2)\n",
    "\n",
    "meanActual2 <- 1:len2\n",
    "meanForecast2 <- 1:len2\n",
    "\n",
    "# Get mean of actual and forecast for each bin\n",
    "for (i in 1:len2) {\n",
    "    meanActual2[i] <- mean(tradeSigns2[forecasts2>bins2[i] & forecasts2<bins2[i+1]])\n",
    "    meanForecast2[i] <- mean(forecasts2[forecasts2>bins2[i] & forecasts2<bins2[i+1]])\n",
    "}\n",
    "\n",
    "# Fit linear model\n",
    "fit2 <- lm(meanActual2 ~ meanForecast2)\n",
    "summary(fit2)"
   ]
  },
  {
   "cell_type": "code",
   "execution_count": 14,
   "metadata": {
    "collapsed": false
   },
   "outputs": [
    {
     "data": {
      "image/png": "[encoded data removed]",
      "text/plain": [
       "plot without title"
      ]
     },
     "metadata": {},
     "output_type": "display_data"
    }
   ],
   "source": [
    "# Plot\n",
    "plot(meanForecast2, meanActual2, col=\"blue\", xlab=\"Forecast trade sign\", ylab=\"Actual trade sign\")\n",
    "abline(fit2)"
   ]
  },
  {
   "cell_type": "markdown",
   "metadata": {},
   "source": [
    "(c)"
   ]
  },
  {
   "cell_type": "markdown",
   "metadata": {},
   "source": [
    "The expected order sign $\\hat\\epsilon$ is given by\n",
    "\n",
    "$$\\hat\\epsilon=1\\times p -1\\times (1-p) = 2p-1$$\n",
    "\n",
    "Therefore,\n",
    "\n",
    "$$p=\\frac{\\hat\\epsilon+1}{2}$$"
   ]
  }
 ],
 "metadata": {
  "anaconda-cloud": {},
  "kernelspec": {
   "display_name": "R",
   "language": "R",
   "name": "ir"
  },
  "language_info": {
   "codemirror_mode": "r",
   "file_extension": ".r",
   "mimetype": "text/x-r-source",
   "name": "R",
   "pygments_lexer": "r",
   "version": "3.3.1"
  }
 },
 "nbformat": 4,
 "nbformat_minor": 1
}
