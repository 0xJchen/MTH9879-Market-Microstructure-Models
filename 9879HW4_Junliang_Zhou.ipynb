{
 "cells": [
  {
   "cell_type": "markdown",
   "metadata": {},
   "source": [
    "# MTH9879 Homework 4\n",
    "\n",
    "Assigned: February 22, 2018.\n",
    "Due: March 8, 2018 by 6pm. \n",
    "\n",
    "Late homework **will not be accepted**.\n",
    "\n",
    "$$\n",
    "\\newcommand{\\underbar}{\\underline}\n",
    "\\newcommand{\\supp}{\\mathrm{supp}}\n",
    "\\newcommand{\\E}{\\mathbb{E}}\n",
    "\\newcommand{\\EE}{\\mathbb{E}}\n",
    "\\newcommand{\\Eof}[1]{\\mathbb{E}\\left[ #1 \\right]}\n",
    "\\def\\Cov{{ \\mbox{Cov} }}\n",
    "\\def\\Var{{ \\mbox{Var} }}\n",
    "\\newcommand{\\1}{\\mathbf{1} }\n",
    "\\newcommand{\\PP}{\\mathbb{P} }\n",
    "%\\newcommand{\\Pr}{\\mathrm{Pr} }\n",
    "\\newcommand{\\QQ}{\\mathbb{Q} }\n",
    "\\newcommand{\\RR}{\\mathbb{R} }\n",
    "\\newcommand{\\DD}{\\mathbb{D} }\n",
    "\\newcommand{\\HH}{\\mathbb{H} }\n",
    "\\newcommand{\\spn}{\\mathrm{span} }\n",
    "\\newcommand{\\cov}{\\mathrm{cov} }\n",
    "\\newcommand{\\sgn}{\\mathrm{sgn} }\n",
    "\\newcommand{\\HS}{\\mathcal{L}_{\\mathrm{HS}} }\n",
    "%\\newcommand{\\HS}{\\mathrm{HS} }\n",
    "\\newcommand{\\trace}{\\mathrm{trace} }\n",
    "\\newcommand{\\LL}{\\mathcal{L} }\n",
    "%\\newcommand{\\LL}{\\mathrm{L} }\n",
    "\\newcommand{\\s}{\\mathcal{S} }\n",
    "\\newcommand{\\ee}{\\mathcal{E} }\n",
    "\\newcommand{\\ff}{\\mathcal{F} }\n",
    "\\newcommand{\\hh}{\\mathcal{H} }\n",
    "\\newcommand{\\bb}{\\mathcal{B} }\n",
    "\\newcommand{\\dd}{\\mathcal{D} }\n",
    "\\newcommand{\\g}{\\mathcal{G} }\n",
    "\\newcommand{\\p}{\\partial}\n",
    "\\newcommand{\\half}{\\frac{1}{2} }\n",
    "\\newcommand{\\T}{\\mathcal{T} }\n",
    "\\newcommand{\\bi}{\\begin{itemize}}\n",
    "\\newcommand{\\ei}{\\end{itemize}}\n",
    "\\newcommand{\\beq}{\\begin{equation}}\n",
    "\\newcommand{\\eeq}{\\end{equation}}\n",
    "\\newcommand{\\beas}{\\begin{eqnarray*}}\n",
    "\\newcommand{\\eeas}{\\end{eqnarray*}}\n",
    "\\newcommand{\\cO}{\\mathcal{O}}\n",
    "\\newcommand{\\cF}{\\mathcal{F}}\n",
    "\\newcommand{\\cL}{\\mathcal{L}}\n",
    "\\newcommand{\\BS}{\\text{BS}}\n",
    "$$"
   ]
  },
  {
   "cell_type": "markdown",
   "metadata": {},
   "source": [
    "<font color = \"red\">Homework is to be done by each student individually.  To receive full credit, you must email a completed copy of this iPython notebook to Victor Istratov (stavka@gmail.com), Yassine Ghalem (yassine.ghalem@gmail.com) and Jim Gatheral (jim.gatheral@gmail.com) by the due date and time.  All R-code must run correctly and solutions must be written up neatly in Markdown/LaTeX format.\n"
   ]
  },
  {
   "cell_type": "markdown",
   "metadata": {},
   "source": [
    "### 0. (0 points) \n",
    "Read Chapter 5 and 6 of Hasbrouck and Chapters 2 and 3 of Foucault, Pagano and R&ouml;ell. \n"
   ]
  },
  {
   "cell_type": "markdown",
   "metadata": {},
   "source": [
    "## Glosten and Milgrom"
   ]
  },
  {
   "cell_type": "markdown",
   "metadata": {},
   "source": [
    "### 1. (8 points) \n",
    "\n",
    "(Adapted from Hasbrouck 5.2 but please note that the setup in (3) in the slides is different from Hasbrouck's in Figure 5.1 of his book.) Consider a variant of the Glosten and Milgrom model where there is informed trading only in the low state $V=\\underline V$.\n",
    "\n",
    "(a) Show that the learned probability after one step that the true price is $\\bar V$ is given by\n",
    "\n",
    "$$\n",
    "\\delta_1(Buy)=\\Pr(\\bar V|Buy)=\\frac{\\delta}{1-\\mu\\,(1-\\delta)};\\quad \\delta_1(Sell)=\\Pr(\\bar V|Sell)=\\frac{\\delta}{1+\\mu\\,(1-\\delta)}\n",
    "$$\n",
    "\n",
    "and that\n",
    "\n",
    "$$\n",
    "A=\\frac{\\underline V\\,{(1-\\delta)\\,(1-\\mu)}+\\bar V\\,{\\delta}}{{1-\\mu\\,(1-\\delta)}};\\quad B=\\frac{\\underline V\\,{(1-\\delta)\\,(1+\\mu)}+\\bar V\\,{\\delta}}{1+\\mu\\,(1-\\delta)}\n",
    "$$\n",
    "\n",
    "(b) Deduce an expression for the spread $s=A-B$.\n",
    "\n",
    "(c) Explain the sensitivities of the spread to the parameters of the model to a non-expert.\n"
   ]
  },
  {
   "cell_type": "markdown",
   "metadata": {},
   "source": [
    "### Solution\n",
    "\n",
    "(a)\n",
    "\n",
    "Since there is informed trading only in the low state, we can modify the probability from the lecture to\n",
    "\n",
    "$$\\mathbb{P}[\\bar V \\cap \\text{Buy}] = \\frac12 \\delta, \\quad \\mathbb{P}[\\underline V \\cap \\text{Buy}] = \\frac12 (1-\\delta)(1-\\mu)$$\n",
    "\n",
    "$$\\mathbb{P}[\\bar V \\cap \\text{Sell}] = \\frac12 \\delta, \\quad \\mathbb{P}[\\underline V \\cap \\text{Sell}] = \\frac12 (1-\\delta)(1+\\mu)$$\n",
    "\n",
    "From above we can get\n",
    "\n",
    "$$\\mathbb{P}[\\bar V| \\text{Buy}] = \\frac {\\mathbb{P}[\\bar V \\cap \\text{Buy}]} {\\mathbb{P}[\\bar V \\cap \\text{Buy}] + \\mathbb{P}[\\underline V \\cap \\text{Buy}]} = \\frac {\\delta} {1-\\mu (1-\\delta)}$$\n",
    "\n",
    "$$\\mathbb{P}[\\bar V| \\text{Sell}] = \\frac {\\mathbb{P}[\\bar V \\cap \\text{Sell}]} {\\mathbb{P}[\\bar V \\cap \\text{Sell}] + \\mathbb{P}[\\underline V \\cap \\text{Sell}]} = \\frac {\\delta} {1+\\mu (1-\\delta)}$$\n"
   ]
  },
  {
   "cell_type": "markdown",
   "metadata": {},
   "source": [
    "Then we have\n",
    "\n",
    "$$A = \\bar V \\mathbb{P}[\\bar V| \\text{Buy}] + \\underline V (1-\\mathbb{P}[\\bar V| \\text{Buy}]) = \\frac {\\bar V \\delta + \\underline V (1-\\delta)(1-\\mu)} {1-\\mu (1-\\delta)}$$\n",
    "\n",
    "$$B = \\bar V \\mathbb{P}[\\bar V| \\text{Sell}] + \\underline V (1-\\mathbb{P}[\\bar V| \\text{Sell}]) = \\frac {\\bar V \\delta + \\underline V (1-\\delta)(1+\\mu)} {1+\\mu (1-\\delta)}$$"
   ]
  },
  {
   "cell_type": "markdown",
   "metadata": {},
   "source": [
    "(b)\n",
    "\n",
    "$$s=A-B=\\frac {2\\mu\\delta(1-\\delta)(\\bar V - \\underline V)} {1-\\mu^2 (1-\\delta^2)}$$"
   ]
  },
  {
   "cell_type": "markdown",
   "metadata": {},
   "source": [
    "(c)\n",
    "\n",
    "The spread $s$ is \n",
    " - Increasing in value difference $\\bar V - \\underline V$.\n",
    " - Increasing in proportion of informed traders $\\mu$.\n",
    " - Decreasing in probability $\\delta$.\n"
   ]
  },
  {
   "cell_type": "markdown",
   "metadata": {},
   "source": [
    "### Load data and R package for the next questions"
   ]
  },
  {
   "cell_type": "code",
   "execution_count": 2,
   "metadata": {
    "collapsed": false
   },
   "outputs": [],
   "source": [
    "download.file(url=\"https://mfe.baruch.cuny.edu/wp-content/uploads/2018/02/tqDataBAC_20170919.zip\", destfile=\"tq.zip\")\n",
    "unzip(zipfile=\"tq.zip\")"
   ]
  },
  {
   "cell_type": "code",
   "execution_count": 3,
   "metadata": {
    "collapsed": false
   },
   "outputs": [
    {
     "name": "stderr",
     "output_type": "stream",
     "text": [
      "Warning message:\n",
      "\"package 'highfrequency' was built under R version 3.3.3\"Loading required package: xts\n",
      "Warning message:\n",
      "\"package 'xts' was built under R version 3.3.3\"Loading required package: zoo\n",
      "\n",
      "Attaching package: 'zoo'\n",
      "\n",
      "The following objects are masked from 'package:base':\n",
      "\n",
      "    as.Date, as.Date.numeric\n",
      "\n"
     ]
    },
    {
     "data": {
      "text/plain": [
       "                    SYMBOL EX  PRICE    SIZE     COND BID     BIDSIZ OFR    \n",
       "2017-09-19 09:30:00 \"BAC\"  \"P\" \"24.7\"   \"20000\"  \" \"  \"24.72\" \"6\"    \"24.74\"\n",
       "2017-09-19 09:30:01 \"BAC\"  \"T\" \"24.71\"  \"300\"    \" \"  \"24.72\" \"6\"    \"24.74\"\n",
       "2017-09-19 09:30:01 \"BAC\"  \"P\" \"24.7\"   \"100\"    \" \"  \"24.72\" \"6\"    \"24.74\"\n",
       "2017-09-19 09:30:02 \"BAC\"  \"N\" \"24.73\"  \"429950\" \" \"  \"24.72\" \"6\"    \"24.74\"\n",
       "2017-09-19 09:30:02 \"BAC\"  \"N\" \"24.72\"  \"100\"    \" \"  \"24.72\" \"35\"   \"24.74\"\n",
       "2017-09-19 09:30:03 \"BAC\"  \"T\" \"24.725\" \"200\"    \" \"  \"24.72\" \"9\"    \"24.73\"\n",
       "                    OFRSIZ\n",
       "2017-09-19 09:30:00 \"100\" \n",
       "2017-09-19 09:30:01 \"100\" \n",
       "2017-09-19 09:30:01 \"100\" \n",
       "2017-09-19 09:30:02 \"100\" \n",
       "2017-09-19 09:30:02 \"420\" \n",
       "2017-09-19 09:30:03 \"4\"   "
      ]
     },
     "metadata": {},
     "output_type": "display_data"
    }
   ],
   "source": [
    "load(\"tqDataBAC_20170919.rData\")\n",
    "\n",
    "Sys.setenv(TZ='EST')\n",
    "tqBAC <- tqdata\n",
    "\n",
    "library(highfrequency)\n",
    "library(xts)\n",
    "\n",
    "head(tqBAC)"
   ]
  },
  {
   "cell_type": "markdown",
   "metadata": {},
   "source": [
    "## The Lee and Ready tick test"
   ]
  },
  {
   "cell_type": "markdown",
   "metadata": {},
   "source": [
    "### 2. (10 points) \n",
    "\n",
    "In the following use the trades and quotes object *tqBAC* in the loaded data *tq.rData*.  Denote trade prices by $p_t$ and mid-quotes by $m_t$.\n",
    "\n",
    "(a) Compute the time series of trade signs $\\epsilon_t$ according to $\\epsilon_t=+1$ if $p_t>m_t$ and  $\\epsilon_t=-1$ otherwise, using the Lee-Ready rule for trades at mid.  Name this series `tradeSigns`. (Note this was already done in the lecture.)\n",
    "\n",
    "(b) Compute the Lee-Ready trade-sign indicator time series (as if you didn't have quotes and so no mid-prices).\n",
    "\n",
    "(c) Compute the correlation of these two indicators.\n",
    "\n",
    "(d) Assume the rule in part (a) is 100% accurate.  What percentage of trades are correctly signed by the Lee-Ready test?\n",
    "\n",
    "(e) Explain the relationship between your answers in (c) and (d).\n"
   ]
  },
  {
   "cell_type": "markdown",
   "metadata": {},
   "source": [
    "### Solution\n",
    "\n",
    "(a)"
   ]
  },
  {
   "cell_type": "code",
   "execution_count": 4,
   "metadata": {
    "collapsed": false
   },
   "outputs": [
    {
     "data": {
      "text/html": [
       "<ol class=list-inline>\n",
       "\t<li>-1</li>\n",
       "\t<li>-1</li>\n",
       "\t<li>-1</li>\n",
       "\t<li>1</li>\n",
       "\t<li>-1</li>\n",
       "\t<li>1</li>\n",
       "</ol>\n"
      ],
      "text/latex": [
       "\\begin{enumerate*}\n",
       "\\item -1\n",
       "\\item -1\n",
       "\\item -1\n",
       "\\item 1\n",
       "\\item -1\n",
       "\\item 1\n",
       "\\end{enumerate*}\n"
      ],
      "text/markdown": [
       "1. -1\n",
       "2. -1\n",
       "3. -1\n",
       "4. 1\n",
       "5. -1\n",
       "6. 1\n",
       "\n",
       "\n"
      ],
      "text/plain": [
       "[1] -1 -1 -1  1 -1  1"
      ]
     },
     "metadata": {},
     "output_type": "display_data"
    }
   ],
   "source": [
    "tradeSigns <- getTradeDirection(tqBAC)\n",
    "head(tradeSigns)"
   ]
  },
  {
   "cell_type": "markdown",
   "metadata": {},
   "source": [
    "(b)"
   ]
  },
  {
   "cell_type": "code",
   "execution_count": 10,
   "metadata": {
    "collapsed": false
   },
   "outputs": [
    {
     "data": {
      "text/html": [
       "<ol class=list-inline>\n",
       "\t<li>1</li>\n",
       "\t<li>1</li>\n",
       "\t<li>-1</li>\n",
       "\t<li>1</li>\n",
       "\t<li>-1</li>\n",
       "\t<li>1</li>\n",
       "</ol>\n"
      ],
      "text/latex": [
       "\\begin{enumerate*}\n",
       "\\item 1\n",
       "\\item 1\n",
       "\\item -1\n",
       "\\item 1\n",
       "\\item -1\n",
       "\\item 1\n",
       "\\end{enumerate*}\n"
      ],
      "text/markdown": [
       "1. 1\n",
       "2. 1\n",
       "3. -1\n",
       "4. 1\n",
       "5. -1\n",
       "6. 1\n",
       "\n",
       "\n"
      ],
      "text/plain": [
       "[1]  1  1 -1  1 -1  1"
      ]
     },
     "metadata": {},
     "output_type": "display_data"
    }
   ],
   "source": [
    "prices <- as.numeric(tqBAC$PRICE)\n",
    "len <- length(prices)\n",
    "LRTradeSigns <- rep(1, len)\n",
    "\n",
    "# Lee-Ready trade-sign indicator\n",
    "for (i in 2:len) {\n",
    "    if (prices[i] > prices[i-1])\n",
    "        LRTradeSigns[i] <- 1\n",
    "    else if (prices[i] < prices[i-1])\n",
    "        LRTradeSigns[i] <- -1\n",
    "    else\n",
    "        LRTradeSigns[i] <- LRTradeSigns[i-1]\n",
    "}\n",
    "        \n",
    "head(LRTradeSigns)"
   ]
  },
  {
   "cell_type": "markdown",
   "metadata": {},
   "source": [
    "(c)"
   ]
  },
  {
   "cell_type": "code",
   "execution_count": 13,
   "metadata": {
    "collapsed": false
   },
   "outputs": [
    {
     "data": {
      "text/html": [
       "0.699574505540072"
      ],
      "text/latex": [
       "0.699574505540072"
      ],
      "text/markdown": [
       "0.699574505540072"
      ],
      "text/plain": [
       "[1] 0.6995745"
      ]
     },
     "metadata": {},
     "output_type": "display_data"
    }
   ],
   "source": [
    "corr <- cor(tradeSigns, LRTradeSigns)\n",
    "corr"
   ]
  },
  {
   "cell_type": "markdown",
   "metadata": {},
   "source": [
    "(d)"
   ]
  },
  {
   "cell_type": "code",
   "execution_count": 14,
   "metadata": {
    "collapsed": false
   },
   "outputs": [
    {
     "data": {
      "text/html": [
       "0.849787252770036"
      ],
      "text/latex": [
       "0.849787252770036"
      ],
      "text/markdown": [
       "0.849787252770036"
      ],
      "text/plain": [
       "[1] 0.8497873"
      ]
     },
     "metadata": {},
     "output_type": "display_data"
    }
   ],
   "source": [
    "rate <- (corr+1)/2\n",
    "rate"
   ]
  },
  {
   "cell_type": "markdown",
   "metadata": {},
   "source": [
    "(e)\n",
    "\n",
    "Correct rate is 0% when correlation is -1 and 100% when correlation is 1. Therefore the relationship is\n",
    "\n",
    "$$rate=\\frac{corr+1}{2}$$"
   ]
  },
  {
   "cell_type": "markdown",
   "metadata": {},
   "source": [
    "## Realized spread by exchange"
   ]
  },
  {
   "cell_type": "markdown",
   "metadata": {},
   "source": [
    "### 3. (8 points)\n",
    "\n",
    "(a) Reproduce Figure 6 from the lecture slides, making sure to get the aesthetics right.\n",
    "\n",
    "(b) Explain why the realized spread profile varies by exchange.\n",
    "\n",
    "(c) Redo the picture adjusting for the following (assumed) take fees:\n",
    "\n",
    "** Exchange ** | ** Take fee ** \n",
    "--- | ---: \n",
    "| (**cents**)\n",
    "Y | -0.05 \n",
    "N | 0.28\n",
    "B | -0.01\n",
    "J | 0.03\n",
    "V | 0.03\n",
    "T | 0.30\n",
    "\n",
    "(d) Based on your results, where would you advise sending a market order?\n"
   ]
  },
  {
   "cell_type": "code",
   "execution_count": 21,
   "metadata": {
    "collapsed": false
   },
   "outputs": [
    {
     "data": {
      "image/png": "[encoded data removed]",
      "text/plain": [
       "plot without title"
      ]
     },
     "metadata": {},
     "output_type": "display_data"
    }
   ],
   "source": [
    "# Function to calculate realized spread curve\n",
    "rsLag <- function(ex) {\n",
    "    set <- tqBAC[tqBAC$EX==ex]\n",
    "    mids <- (as.numeric(set$OFR) + as.numeric(set$BID)) / 2\n",
    "    prices <- as.numeric(set$PRICE)\n",
    "    len <- length(prices)\n",
    "    tradeSigns <- getTradeDirection(set)\n",
    "    rs <- function(lag){mean(tradeSigns[1:(len-lag)]*(prices[1:(len-lag)]-mids[-(1:lag)]))}\n",
    "    rsLag <- sapply(1:500, rs)\n",
    "    return (rsLag)\n",
    "}\n",
    "\n",
    "# Calculate realized spread curve for different exchanges\n",
    "rsLagY <- rsLag('Y')\n",
    "rsLagN <- rsLag('N')\n",
    "rsLagB <- rsLag('B')\n",
    "rsLagJ <- rsLag('J')\n",
    "rsLagV <- rsLag('V')\n",
    "rsLagT <- rsLag('T')\n",
    "\n",
    "\n",
    "# Plot the results\n",
    "plot(1:500, rsLagY, col=\"red\", type=\"l\", xlab=\"Time elapsed\", ylab=\"Realized spread\", ylim=c(-0.005, 0.015))\n",
    "lines(1:500, rsLagN, col=\"blue\")\n",
    "lines(1:500, rsLagB, col=\"orange\")\n",
    "lines(1:500, rsLagJ, col=\"purple\")\n",
    "lines(1:500, rsLagV, col=\"green\")\n",
    "lines(1:500, rsLagT, col=\"brown\")\n",
    "legend(\"topright\", \n",
    "       c(\"Y - BYX\", \"N - NYSE\", \"B - NASDAQ OMX BX\", \"J - Cboe EDGA\", \"V - IEX\", \"T - NASDAQ\"),\n",
    "       lty = c(1,1,1,1,1,1), \n",
    "       col=c(\"red\",\"blue\",\"orange\",\"purple\",\"green\",\"brown\"))"
   ]
  },
  {
   "cell_type": "code",
   "execution_count": null,
   "metadata": {
    "collapsed": true
   },
   "outputs": [],
   "source": []
  },
  {
   "cell_type": "markdown",
   "metadata": {},
   "source": [
    "## Predicting trade signs\n",
    "\n",
    "### 4. (10 points) \n",
    "\n",
    "The following require the `tradeSigns` series from Problem 2.\n",
    "\n",
    "(a) Denote the probability of a sign reversal by $\\pi$.  Derive an expression in terms of $\\pi$ for the conditional expectation $\\E[\\epsilon_t|\\epsilon_{t-1}]$.\n",
    "\n",
    "(b) Assume zero expectation of the trading signs, fit an AR(1) model to the series `tradeSigns`.  What is the coefficient returned by this model?  Explain how  this coefficient relates to $\\pi$?\n",
    "\n",
    "(c) Fit an AR(p) model to the series `tradeSigns`, letting R determine the optimal order $p$.  How many coefficients does R think are significant?\n",
    "\n",
    "(d) Use the prediction variance output of the `ar` function to assess how much better the AR(p) model is than the AR(1) model at predicting order signs?\n"
   ]
  },
  {
   "cell_type": "markdown",
   "metadata": {},
   "source": [
    "## The MRR model"
   ]
  },
  {
   "cell_type": "markdown",
   "metadata": {},
   "source": [
    "### 5. (6 points)\n",
    "Using the estimate of $\\rho$ (the coefficient obtained from fitting to an AR(1) model) from Problem 4 and equation (11) from the lecture slides:\n",
    "\n",
    "$$\n",
    "\\Delta p_t=(\\phi+\\lambda)\\,\\epsilon_t-(\\phi+\\rho\\,\\lambda)\\,\\epsilon_{t-1}+e_t+\\Delta \\xi_t\n",
    "$$\n",
    "\n",
    "estimate by linear regression the MRR parameters $\\phi$ (transaction cost) and $\\lambda$ (adverse selection or \"Kyle lambda\") from  *tqBAC*.  This amounts to ignoring the autocorrelation of the $\\Delta \\xi_t$.\n",
    "<br>\n",
    "\n",
    "Hint: Use the R function `lm`  to perform the linear regressions."
   ]
  },
  {
   "cell_type": "code",
   "execution_count": null,
   "metadata": {
    "collapsed": true
   },
   "outputs": [],
   "source": []
  }
 ],
 "metadata": {
  "anaconda-cloud": {},
  "kernelspec": {
   "display_name": "R",
   "language": "R",
   "name": "ir"
  },
  "language_info": {
   "codemirror_mode": "r",
   "file_extension": ".r",
   "mimetype": "text/x-r-source",
   "name": "R",
   "pygments_lexer": "r",
   "version": "3.3.1"
  }
 },
 "nbformat": 4,
 "nbformat_minor": 0
}
